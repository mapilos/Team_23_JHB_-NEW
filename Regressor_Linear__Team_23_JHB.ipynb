{
  "nbformat": 4,
  "nbformat_minor": 0,
  "metadata": {
    "colab": {
      "name": "Regressor/Linear _Team_23_JHB.ipynb",
      "provenance": [],
      "collapsed_sections": [],
      "toc_visible": true,
      "include_colab_link": true
    },
    "kernelspec": {
      "display_name": "Python 3",
      "language": "python",
      "name": "python3"
    },
    "language_info": {
      "codemirror_mode": {
        "name": "ipython",
        "version": 3
      },
      "file_extension": ".py",
      "mimetype": "text/x-python",
      "name": "python",
      "nbconvert_exporter": "python",
      "pygments_lexer": "ipython3",
      "version": "3.7.4"
    }
  },
  "cells": [
    {
      "cell_type": "markdown",
      "metadata": {
        "id": "view-in-github",
        "colab_type": "text"
      },
      "source": [
        "<a href=\"https://colab.research.google.com/github/mapilos/Team_23_JHB_-NEW/blob/master/Regressor_Linear__Team_23_JHB.ipynb\" target=\"_parent\"><img src=\"https://colab.research.google.com/assets/colab-badge.svg\" alt=\"Open In Colab\"/></a>"
      ]
    },
    {
      "cell_type": "markdown",
      "metadata": {
        "colab_type": "text",
        "id": "zpglp6FxzVNH"
      },
      "source": [
        "  **Regression Predict** "
      ]
    },
    {
      "cell_type": "markdown",
      "metadata": {
        "colab_type": "text",
        "id": "79y1VXVMv4jv"
      },
      "source": [
        "Team_23_JHB_#New "
      ]
    },
    {
      "cell_type": "markdown",
      "metadata": {
        "colab_type": "text",
        "id": "asLyF4xZrbGv"
      },
      "source": [
        "****"
      ]
    },
    {
      "cell_type": "markdown",
      "metadata": {
        "colab_type": "text",
        "id": "3mSv0WwFEuN-"
      },
      "source": [
        "![alt text](https://drive.google.com/uc?id=1o1q28lb0yiJ8ijoUGjcW3DrK45FF1dKq)"
      ]
    },
    {
      "cell_type": "markdown",
      "metadata": {
        "colab_type": "text",
        "id": "MgOfGVz50Afd"
      },
      "source": [
        "## **Table of contants**\n",
        "\n",
        "1.   **Introduction**\n",
        ">* Project description\n",
        ">* Variables\n",
        "\n",
        "2.    **Data preprocessing tools**\n",
        ">* Importing the libraries\n",
        ">* Importing the datasets\n",
        ">*Merging datasets\n",
        ">* Data cleaning\n",
        ">*Exploratory data analysis\n",
        ">* Data preprocessing\n",
        "\n",
        "3. **Fit Model**\n",
        "\n",
        "4. **Perfomance evaluation**\n",
        "\n",
        "5. **Model analysis**\n",
        ">* Conclusion\n"
      ]
    },
    {
      "cell_type": "markdown",
      "metadata": {
        "colab_type": "text",
        "id": "9RXcmm625iWV"
      },
      "source": [
        "# **1. Introduction**\n",
        "#### Project description\n",
        "\n",
        "The Zindi challenge, hosted by Sendy in partnership with insight2impact facility, aims to build a regression model that will predict the estimated time of delivery of orders, from the point of driver pickup to the point of arrival at final destination. The solution will help Sendy enhance customer communication and improve the reliability of its service; which will ultimately improve customer experience.\n",
        "\n",
        "Regression is a measure of the relation between the mean value of a dependent variable (y) and corresponding values of the independent variable (x)\n",
        "\n",
        "##Variables\n",
        "\n",
        "**Order details**\n",
        ">* order No: unique number indentifying the order\n",
        ">* User Id: Unique number indefying the customer\n",
        ">* Vehycle Type: Type of transport used by the rider(e.g bike)\n",
        ">* Platform Type: What used to place order\n",
        ">* Personal or Business: Customer type\n",
        "\n",
        "**Placement times**: placing of order by customer*\n",
        ">* Placement: Day of month\n",
        ">* Placement: Weekday\n",
        ">* Placement: Time\n",
        "\n",
        "**Confirmation times**: confirmation of order by rider\n",
        ">* Confirmation: Day of month\n",
        ">* Confirmation: Weekday\n",
        ">* Confirmation: Time\n",
        "\n",
        "**Arrival at pickup times**: rider arrived at the location to pickup order\n",
        ">* Arrival at pickup: Day of month\n",
        ">* Arrival at pickup: Weekday\n",
        ">* Arrival at pickup: Time\n",
        "\n",
        "**Pickup times**: rider picked up the order\n",
        ">* Pickup: Day of month\n",
        ">* Pickup: Weekday\n",
        ">* Pickup: Time\n",
        "\n",
        "**Arrival at destination times**: arrival of rider to customer location\n",
        ">* Arrival at delivery: Day of month\n",
        ">* Arrival at delivery: Weekday\n",
        ">* Arrival at delivery: Time\n",
        ">* Distance covered (KM): The distance between Pickup and Destination \n",
        ">* Temperature\n",
        ">* Precipitation in Millimiters\n",
        ">* Pickup lattitude and longitude\n",
        ">* Distination lattitude and longitude\n",
        ">* Rider Id: Identification of the rider who accepted the order\n",
        ">* Time from pickup to arrival: (**Tagert variable**)\n",
        "\n",
        "**Rider metrics**: details about rider\n",
        ">* Rider Id\n",
        ">* No. of orders\n",
        ">* Age\n",
        ">* Average ratings\n",
        ">* No. of ratings\n",
        "\n"
      ]
    },
    {
      "cell_type": "markdown",
      "metadata": {
        "colab_type": "text",
        "id": "7dsnpX7H-VHZ"
      },
      "source": [
        "# **2. Data preprocesing tools**"
      ]
    },
    {
      "cell_type": "markdown",
      "metadata": {
        "colab_type": "text",
        "id": "OzWkmHPjr9aj"
      },
      "source": [
        "## Importing the libraries"
      ]
    },
    {
      "cell_type": "code",
      "metadata": {
        "colab_type": "code",
        "id": "gOdTyF7BU6kX",
        "colab": {}
      },
      "source": [
        "# ignore warnings\n",
        "import warnings\n",
        "warnings.simplefilter(action='ignore')\n",
        "\n",
        "import pandas as pd\n",
        "import matplotlib.pyplot as plt\n",
        "import numpy as np\n",
        "import seaborn as sns\n",
        "\n",
        "# Imputing missing values and scaling values\n",
        "#from sklearn.preprocessing import Imputer, MinMaxScaler\n",
        "\n",
        "import folium\n",
        "from folium.plugins import HeatMap\n",
        "\n",
        "\n",
        "# machine learning models\n",
        "from sklearn.linear_model import LinearRegression\n",
        "from sklearn.ensemble import RandomForestRegressor, GradientBoostingRegressor\n",
        "from sklearn.preprocessing import LabelEncoder, OneHotEncoder\n",
        "from sklearn.compose import ColumnTransformer\n",
        "from sklearn.model_selection import train_test_split\n",
        "from sklearn.preprocessing import StandardScaler\n",
        "\n",
        "from sklearn.metrics import mean_squared_error as mse\n",
        "\n",
        "#Displays\n",
        "sns.set_style('dark')"
      ],
      "execution_count": 0,
      "outputs": []
    },
    {
      "cell_type": "markdown",
      "metadata": {
        "colab_type": "text",
        "id": "fvNzDZv6X3to"
      },
      "source": [
        "## Importing the datasets"
      ]
    },
    {
      "cell_type": "code",
      "metadata": {
        "colab_type": "code",
        "id": "O3N_EhXSY0g4",
        "colab": {}
      },
      "source": [
        "train = pd.read_csv('Train.csv')\n",
        "riders = pd.read_csv('Riders.csv')\n",
        "test = pd.read_csv('Test.csv')"
      ],
      "execution_count": 0,
      "outputs": []
    },
    {
      "cell_type": "code",
      "metadata": {
        "colab_type": "code",
        "id": "G32gYJGvNscy",
        "outputId": "6bf5d741-76ec-477d-d114-8a7fc7049028",
        "colab": {
          "base_uri": "https://localhost:8080/",
          "height": 255
        }
      },
      "source": [
        "train.columns"
      ],
      "execution_count": 69,
      "outputs": [
        {
          "output_type": "execute_result",
          "data": {
            "text/plain": [
              "Index(['Order No', 'User Id', 'Vehicle Type', 'Platform Type',\n",
              "       'Personal or Business', 'Placement - Day of Month',\n",
              "       'Placement - Weekday (Mo = 1)', 'Placement - Time',\n",
              "       'Confirmation - Day of Month', 'Confirmation - Weekday (Mo = 1)',\n",
              "       'Confirmation - Time', 'Arrival at Pickup - Day of Month',\n",
              "       'Arrival at Pickup - Weekday (Mo = 1)', 'Arrival at Pickup - Time',\n",
              "       'Pickup - Day of Month', 'Pickup - Weekday (Mo = 1)', 'Pickup - Time',\n",
              "       'Arrival at Destination - Day of Month',\n",
              "       'Arrival at Destination - Weekday (Mo = 1)',\n",
              "       'Arrival at Destination - Time', 'Distance (KM)', 'Temperature',\n",
              "       'Precipitation in millimeters', 'Pickup Lat', 'Pickup Long',\n",
              "       'Destination Lat', 'Destination Long', 'Rider Id',\n",
              "       'Time from Pickup to Arrival'],\n",
              "      dtype='object')"
            ]
          },
          "metadata": {
            "tags": []
          },
          "execution_count": 69
        }
      ]
    },
    {
      "cell_type": "code",
      "metadata": {
        "colab_type": "code",
        "id": "fWXmxutQn9Et",
        "colab": {}
      },
      "source": [
        "#x = train.iloc[:, :-1].values\n",
        "#y = train.iloc[:, -1].values\n"
      ],
      "execution_count": 0,
      "outputs": []
    },
    {
      "cell_type": "markdown",
      "metadata": {
        "colab_type": "text",
        "id": "Qz2KDIkBww_H"
      },
      "source": [
        "## Merging datasets"
      ]
    },
    {
      "cell_type": "code",
      "metadata": {
        "colab_type": "code",
        "id": "4u5hW9HMwpH1",
        "colab": {}
      },
      "source": [
        "# merge datasets\n",
        "train= pd.merge(train, riders, on='Rider Id', how='left')\n",
        "test= pd.merge(test, riders, on='Rider Id', how='left')\n",
        "\n",
        "# Rename columns\n",
        "train.columns= [column.replace('Of','of') for column in train.columns]\n",
        "train.columns= [column.replace('_',' ') for column in train.columns]\n",
        "train.columns= [column.replace('(Mo = 1)',' ') for column in train.columns]\n",
        "train= train.rename(columns=lambda x: x.strip())\n",
        "test.columns= [column.replace('Of','of') for column in test.columns]\n",
        "test.columns= [column.replace('_',' ') for column in test.columns]\n",
        "test.columns= [column.replace('(Mo = 1)',' ') for column in test.columns]\n",
        "test= test.rename(columns=lambda x: x.strip())"
      ],
      "execution_count": 0,
      "outputs": []
    },
    {
      "cell_type": "markdown",
      "metadata": {
        "id": "CQy9qrwBuAWn",
        "colab_type": "text"
      },
      "source": [
        "## Data Description"
      ]
    },
    {
      "cell_type": "code",
      "metadata": {
        "colab_type": "code",
        "id": "KncBzr0x07Oj",
        "outputId": "da8b5a98-a193-44d2-d790-2b39df59d5b2",
        "colab": {
          "base_uri": "https://localhost:8080/",
          "height": 394
        }
      },
      "source": [
        "train.head()"
      ],
      "execution_count": 72,
      "outputs": [
        {
          "output_type": "execute_result",
          "data": {
            "text/html": [
              "<div>\n",
              "<style scoped>\n",
              "    .dataframe tbody tr th:only-of-type {\n",
              "        vertical-align: middle;\n",
              "    }\n",
              "\n",
              "    .dataframe tbody tr th {\n",
              "        vertical-align: top;\n",
              "    }\n",
              "\n",
              "    .dataframe thead th {\n",
              "        text-align: right;\n",
              "    }\n",
              "</style>\n",
              "<table border=\"1\" class=\"dataframe\">\n",
              "  <thead>\n",
              "    <tr style=\"text-align: right;\">\n",
              "      <th></th>\n",
              "      <th>Order No</th>\n",
              "      <th>User Id</th>\n",
              "      <th>Vehicle Type</th>\n",
              "      <th>Platform Type</th>\n",
              "      <th>Personal or Business</th>\n",
              "      <th>Placement - Day of Month</th>\n",
              "      <th>Placement - Weekday</th>\n",
              "      <th>Placement - Time</th>\n",
              "      <th>Confirmation - Day of Month</th>\n",
              "      <th>Confirmation - Weekday</th>\n",
              "      <th>Confirmation - Time</th>\n",
              "      <th>Arrival at Pickup - Day of Month</th>\n",
              "      <th>Arrival at Pickup - Weekday</th>\n",
              "      <th>Arrival at Pickup - Time</th>\n",
              "      <th>Pickup - Day of Month</th>\n",
              "      <th>Pickup - Weekday</th>\n",
              "      <th>Pickup - Time</th>\n",
              "      <th>Arrival at Destination - Day of Month</th>\n",
              "      <th>Arrival at Destination - Weekday</th>\n",
              "      <th>Arrival at Destination - Time</th>\n",
              "      <th>Distance (KM)</th>\n",
              "      <th>Temperature</th>\n",
              "      <th>Precipitation in millimeters</th>\n",
              "      <th>Pickup Lat</th>\n",
              "      <th>Pickup Long</th>\n",
              "      <th>Destination Lat</th>\n",
              "      <th>Destination Long</th>\n",
              "      <th>Rider Id</th>\n",
              "      <th>Time from Pickup to Arrival</th>\n",
              "      <th>No of Orders</th>\n",
              "      <th>Age</th>\n",
              "      <th>Average Rating</th>\n",
              "      <th>No of Ratings</th>\n",
              "    </tr>\n",
              "  </thead>\n",
              "  <tbody>\n",
              "    <tr>\n",
              "      <th>0</th>\n",
              "      <td>Order_No_4211</td>\n",
              "      <td>User_Id_633</td>\n",
              "      <td>Bike</td>\n",
              "      <td>3</td>\n",
              "      <td>Business</td>\n",
              "      <td>9</td>\n",
              "      <td>5</td>\n",
              "      <td>9:35:46 AM</td>\n",
              "      <td>9</td>\n",
              "      <td>5</td>\n",
              "      <td>9:40:10 AM</td>\n",
              "      <td>9</td>\n",
              "      <td>5</td>\n",
              "      <td>10:04:47 AM</td>\n",
              "      <td>9</td>\n",
              "      <td>5</td>\n",
              "      <td>10:27:30 AM</td>\n",
              "      <td>9</td>\n",
              "      <td>5</td>\n",
              "      <td>10:39:55 AM</td>\n",
              "      <td>4</td>\n",
              "      <td>20.4</td>\n",
              "      <td>NaN</td>\n",
              "      <td>-1.317755</td>\n",
              "      <td>36.830370</td>\n",
              "      <td>-1.300406</td>\n",
              "      <td>36.829741</td>\n",
              "      <td>Rider_Id_432</td>\n",
              "      <td>745</td>\n",
              "      <td>1637</td>\n",
              "      <td>1309</td>\n",
              "      <td>13.8</td>\n",
              "      <td>549</td>\n",
              "    </tr>\n",
              "    <tr>\n",
              "      <th>1</th>\n",
              "      <td>Order_No_25375</td>\n",
              "      <td>User_Id_2285</td>\n",
              "      <td>Bike</td>\n",
              "      <td>3</td>\n",
              "      <td>Personal</td>\n",
              "      <td>12</td>\n",
              "      <td>5</td>\n",
              "      <td>11:16:16 AM</td>\n",
              "      <td>12</td>\n",
              "      <td>5</td>\n",
              "      <td>11:23:21 AM</td>\n",
              "      <td>12</td>\n",
              "      <td>5</td>\n",
              "      <td>11:40:22 AM</td>\n",
              "      <td>12</td>\n",
              "      <td>5</td>\n",
              "      <td>11:44:09 AM</td>\n",
              "      <td>12</td>\n",
              "      <td>5</td>\n",
              "      <td>12:17:22 PM</td>\n",
              "      <td>16</td>\n",
              "      <td>26.4</td>\n",
              "      <td>NaN</td>\n",
              "      <td>-1.351453</td>\n",
              "      <td>36.899315</td>\n",
              "      <td>-1.295004</td>\n",
              "      <td>36.814358</td>\n",
              "      <td>Rider_Id_856</td>\n",
              "      <td>1993</td>\n",
              "      <td>396</td>\n",
              "      <td>339</td>\n",
              "      <td>13.6</td>\n",
              "      <td>69</td>\n",
              "    </tr>\n",
              "    <tr>\n",
              "      <th>2</th>\n",
              "      <td>Order_No_1899</td>\n",
              "      <td>User_Id_265</td>\n",
              "      <td>Bike</td>\n",
              "      <td>3</td>\n",
              "      <td>Business</td>\n",
              "      <td>30</td>\n",
              "      <td>2</td>\n",
              "      <td>12:39:25 PM</td>\n",
              "      <td>30</td>\n",
              "      <td>2</td>\n",
              "      <td>12:42:44 PM</td>\n",
              "      <td>30</td>\n",
              "      <td>2</td>\n",
              "      <td>12:49:34 PM</td>\n",
              "      <td>30</td>\n",
              "      <td>2</td>\n",
              "      <td>12:53:03 PM</td>\n",
              "      <td>30</td>\n",
              "      <td>2</td>\n",
              "      <td>1:00:38 PM</td>\n",
              "      <td>3</td>\n",
              "      <td>NaN</td>\n",
              "      <td>NaN</td>\n",
              "      <td>-1.308284</td>\n",
              "      <td>36.843419</td>\n",
              "      <td>-1.300921</td>\n",
              "      <td>36.828195</td>\n",
              "      <td>Rider_Id_155</td>\n",
              "      <td>455</td>\n",
              "      <td>1023</td>\n",
              "      <td>242</td>\n",
              "      <td>12.5</td>\n",
              "      <td>114</td>\n",
              "    </tr>\n",
              "    <tr>\n",
              "      <th>3</th>\n",
              "      <td>Order_No_9336</td>\n",
              "      <td>User_Id_1402</td>\n",
              "      <td>Bike</td>\n",
              "      <td>3</td>\n",
              "      <td>Business</td>\n",
              "      <td>15</td>\n",
              "      <td>5</td>\n",
              "      <td>9:25:34 AM</td>\n",
              "      <td>15</td>\n",
              "      <td>5</td>\n",
              "      <td>9:26:05 AM</td>\n",
              "      <td>15</td>\n",
              "      <td>5</td>\n",
              "      <td>9:37:56 AM</td>\n",
              "      <td>15</td>\n",
              "      <td>5</td>\n",
              "      <td>9:43:06 AM</td>\n",
              "      <td>15</td>\n",
              "      <td>5</td>\n",
              "      <td>10:05:27 AM</td>\n",
              "      <td>9</td>\n",
              "      <td>19.2</td>\n",
              "      <td>NaN</td>\n",
              "      <td>-1.281301</td>\n",
              "      <td>36.832396</td>\n",
              "      <td>-1.257147</td>\n",
              "      <td>36.795063</td>\n",
              "      <td>Rider_Id_855</td>\n",
              "      <td>1341</td>\n",
              "      <td>886</td>\n",
              "      <td>283</td>\n",
              "      <td>14.5</td>\n",
              "      <td>113</td>\n",
              "    </tr>\n",
              "    <tr>\n",
              "      <th>4</th>\n",
              "      <td>Order_No_27883</td>\n",
              "      <td>User_Id_1737</td>\n",
              "      <td>Bike</td>\n",
              "      <td>1</td>\n",
              "      <td>Personal</td>\n",
              "      <td>13</td>\n",
              "      <td>1</td>\n",
              "      <td>9:55:18 AM</td>\n",
              "      <td>13</td>\n",
              "      <td>1</td>\n",
              "      <td>9:56:18 AM</td>\n",
              "      <td>13</td>\n",
              "      <td>1</td>\n",
              "      <td>10:03:53 AM</td>\n",
              "      <td>13</td>\n",
              "      <td>1</td>\n",
              "      <td>10:05:23 AM</td>\n",
              "      <td>13</td>\n",
              "      <td>1</td>\n",
              "      <td>10:25:37 AM</td>\n",
              "      <td>9</td>\n",
              "      <td>15.4</td>\n",
              "      <td>NaN</td>\n",
              "      <td>-1.266597</td>\n",
              "      <td>36.792118</td>\n",
              "      <td>-1.295041</td>\n",
              "      <td>36.809817</td>\n",
              "      <td>Rider_Id_770</td>\n",
              "      <td>1214</td>\n",
              "      <td>2311</td>\n",
              "      <td>872</td>\n",
              "      <td>14.1</td>\n",
              "      <td>533</td>\n",
              "    </tr>\n",
              "  </tbody>\n",
              "</table>\n",
              "</div>"
            ],
            "text/plain": [
              "         Order No       User Id  ... Average Rating  No of Ratings\n",
              "0   Order_No_4211   User_Id_633  ...           13.8            549\n",
              "1  Order_No_25375  User_Id_2285  ...           13.6             69\n",
              "2   Order_No_1899   User_Id_265  ...           12.5            114\n",
              "3   Order_No_9336  User_Id_1402  ...           14.5            113\n",
              "4  Order_No_27883  User_Id_1737  ...           14.1            533\n",
              "\n",
              "[5 rows x 33 columns]"
            ]
          },
          "metadata": {
            "tags": []
          },
          "execution_count": 72
        }
      ]
    },
    {
      "cell_type": "code",
      "metadata": {
        "colab_type": "code",
        "id": "AgUBTI77065V",
        "outputId": "27d62430-4f04-48b8-d001-2de603a7c763",
        "colab": {
          "base_uri": "https://localhost:8080/",
          "height": 394
        }
      },
      "source": [
        "test.head()"
      ],
      "execution_count": 73,
      "outputs": [
        {
          "output_type": "execute_result",
          "data": {
            "text/html": [
              "<div>\n",
              "<style scoped>\n",
              "    .dataframe tbody tr th:only-of-type {\n",
              "        vertical-align: middle;\n",
              "    }\n",
              "\n",
              "    .dataframe tbody tr th {\n",
              "        vertical-align: top;\n",
              "    }\n",
              "\n",
              "    .dataframe thead th {\n",
              "        text-align: right;\n",
              "    }\n",
              "</style>\n",
              "<table border=\"1\" class=\"dataframe\">\n",
              "  <thead>\n",
              "    <tr style=\"text-align: right;\">\n",
              "      <th></th>\n",
              "      <th>Order No</th>\n",
              "      <th>User Id</th>\n",
              "      <th>Vehicle Type</th>\n",
              "      <th>Platform Type</th>\n",
              "      <th>Personal or Business</th>\n",
              "      <th>Placement - Day of Month</th>\n",
              "      <th>Placement - Weekday</th>\n",
              "      <th>Placement - Time</th>\n",
              "      <th>Confirmation - Day of Month</th>\n",
              "      <th>Confirmation - Weekday</th>\n",
              "      <th>Confirmation - Time</th>\n",
              "      <th>Arrival at Pickup - Day of Month</th>\n",
              "      <th>Arrival at Pickup - Weekday</th>\n",
              "      <th>Arrival at Pickup - Time</th>\n",
              "      <th>Pickup - Day of Month</th>\n",
              "      <th>Pickup - Weekday</th>\n",
              "      <th>Pickup - Time</th>\n",
              "      <th>Distance (KM)</th>\n",
              "      <th>Temperature</th>\n",
              "      <th>Precipitation in millimeters</th>\n",
              "      <th>Pickup Lat</th>\n",
              "      <th>Pickup Long</th>\n",
              "      <th>Destination Lat</th>\n",
              "      <th>Destination Long</th>\n",
              "      <th>Rider Id</th>\n",
              "      <th>No of Orders</th>\n",
              "      <th>Age</th>\n",
              "      <th>Average Rating</th>\n",
              "      <th>No of Ratings</th>\n",
              "    </tr>\n",
              "  </thead>\n",
              "  <tbody>\n",
              "    <tr>\n",
              "      <th>0</th>\n",
              "      <td>Order_No_19248</td>\n",
              "      <td>User_Id_3355</td>\n",
              "      <td>Bike</td>\n",
              "      <td>3</td>\n",
              "      <td>Business</td>\n",
              "      <td>27</td>\n",
              "      <td>3</td>\n",
              "      <td>4:44:10 PM</td>\n",
              "      <td>27</td>\n",
              "      <td>3</td>\n",
              "      <td>4:44:29 PM</td>\n",
              "      <td>27</td>\n",
              "      <td>3</td>\n",
              "      <td>4:53:04 PM</td>\n",
              "      <td>27</td>\n",
              "      <td>3</td>\n",
              "      <td>5:06:47 PM</td>\n",
              "      <td>8</td>\n",
              "      <td>NaN</td>\n",
              "      <td>NaN</td>\n",
              "      <td>-1.333275</td>\n",
              "      <td>36.870815</td>\n",
              "      <td>-1.305249</td>\n",
              "      <td>36.822390</td>\n",
              "      <td>Rider_Id_192</td>\n",
              "      <td>439</td>\n",
              "      <td>1511</td>\n",
              "      <td>13.3</td>\n",
              "      <td>171</td>\n",
              "    </tr>\n",
              "    <tr>\n",
              "      <th>1</th>\n",
              "      <td>Order_No_12736</td>\n",
              "      <td>User_Id_3647</td>\n",
              "      <td>Bike</td>\n",
              "      <td>3</td>\n",
              "      <td>Business</td>\n",
              "      <td>17</td>\n",
              "      <td>5</td>\n",
              "      <td>12:57:35 PM</td>\n",
              "      <td>17</td>\n",
              "      <td>5</td>\n",
              "      <td>12:59:17 PM</td>\n",
              "      <td>17</td>\n",
              "      <td>5</td>\n",
              "      <td>1:20:27 PM</td>\n",
              "      <td>17</td>\n",
              "      <td>5</td>\n",
              "      <td>1:25:37 PM</td>\n",
              "      <td>5</td>\n",
              "      <td>NaN</td>\n",
              "      <td>NaN</td>\n",
              "      <td>-1.272639</td>\n",
              "      <td>36.794723</td>\n",
              "      <td>-1.277007</td>\n",
              "      <td>36.823907</td>\n",
              "      <td>Rider_Id_868</td>\n",
              "      <td>488</td>\n",
              "      <td>273</td>\n",
              "      <td>14.4</td>\n",
              "      <td>45</td>\n",
              "    </tr>\n",
              "    <tr>\n",
              "      <th>2</th>\n",
              "      <td>Order_No_768</td>\n",
              "      <td>User_Id_2154</td>\n",
              "      <td>Bike</td>\n",
              "      <td>3</td>\n",
              "      <td>Business</td>\n",
              "      <td>27</td>\n",
              "      <td>4</td>\n",
              "      <td>11:08:14 AM</td>\n",
              "      <td>27</td>\n",
              "      <td>4</td>\n",
              "      <td>11:25:05 AM</td>\n",
              "      <td>27</td>\n",
              "      <td>4</td>\n",
              "      <td>11:33:20 AM</td>\n",
              "      <td>27</td>\n",
              "      <td>4</td>\n",
              "      <td>11:57:54 AM</td>\n",
              "      <td>5</td>\n",
              "      <td>22.8</td>\n",
              "      <td>NaN</td>\n",
              "      <td>-1.290894</td>\n",
              "      <td>36.822971</td>\n",
              "      <td>-1.276574</td>\n",
              "      <td>36.851365</td>\n",
              "      <td>Rider_Id_26</td>\n",
              "      <td>833</td>\n",
              "      <td>460</td>\n",
              "      <td>13.1</td>\n",
              "      <td>67</td>\n",
              "    </tr>\n",
              "    <tr>\n",
              "      <th>3</th>\n",
              "      <td>Order_No_15332</td>\n",
              "      <td>User_Id_2910</td>\n",
              "      <td>Bike</td>\n",
              "      <td>3</td>\n",
              "      <td>Business</td>\n",
              "      <td>17</td>\n",
              "      <td>1</td>\n",
              "      <td>1:51:35 PM</td>\n",
              "      <td>17</td>\n",
              "      <td>1</td>\n",
              "      <td>1:53:27 PM</td>\n",
              "      <td>17</td>\n",
              "      <td>1</td>\n",
              "      <td>2:02:41 PM</td>\n",
              "      <td>17</td>\n",
              "      <td>1</td>\n",
              "      <td>2:16:52 PM</td>\n",
              "      <td>5</td>\n",
              "      <td>24.5</td>\n",
              "      <td>NaN</td>\n",
              "      <td>-1.290503</td>\n",
              "      <td>36.809646</td>\n",
              "      <td>-1.303382</td>\n",
              "      <td>36.790658</td>\n",
              "      <td>Rider_Id_685</td>\n",
              "      <td>487</td>\n",
              "      <td>560</td>\n",
              "      <td>13.7</td>\n",
              "      <td>44</td>\n",
              "    </tr>\n",
              "    <tr>\n",
              "      <th>4</th>\n",
              "      <td>Order_No_21373</td>\n",
              "      <td>User_Id_1205</td>\n",
              "      <td>Bike</td>\n",
              "      <td>3</td>\n",
              "      <td>Business</td>\n",
              "      <td>11</td>\n",
              "      <td>2</td>\n",
              "      <td>11:30:28 AM</td>\n",
              "      <td>11</td>\n",
              "      <td>2</td>\n",
              "      <td>11:34:45 AM</td>\n",
              "      <td>11</td>\n",
              "      <td>2</td>\n",
              "      <td>11:47:19 AM</td>\n",
              "      <td>11</td>\n",
              "      <td>2</td>\n",
              "      <td>11:56:04 AM</td>\n",
              "      <td>6</td>\n",
              "      <td>24.4</td>\n",
              "      <td>NaN</td>\n",
              "      <td>-1.281081</td>\n",
              "      <td>36.814423</td>\n",
              "      <td>-1.266467</td>\n",
              "      <td>36.792161</td>\n",
              "      <td>Rider_Id_858</td>\n",
              "      <td>4761</td>\n",
              "      <td>1120</td>\n",
              "      <td>14.1</td>\n",
              "      <td>1010</td>\n",
              "    </tr>\n",
              "  </tbody>\n",
              "</table>\n",
              "</div>"
            ],
            "text/plain": [
              "         Order No       User Id  ... Average Rating  No of Ratings\n",
              "0  Order_No_19248  User_Id_3355  ...           13.3            171\n",
              "1  Order_No_12736  User_Id_3647  ...           14.4             45\n",
              "2    Order_No_768  User_Id_2154  ...           13.1             67\n",
              "3  Order_No_15332  User_Id_2910  ...           13.7             44\n",
              "4  Order_No_21373  User_Id_1205  ...           14.1           1010\n",
              "\n",
              "[5 rows x 29 columns]"
            ]
          },
          "metadata": {
            "tags": []
          },
          "execution_count": 73
        }
      ]
    },
    {
      "cell_type": "markdown",
      "metadata": {
        "id": "eOt4UfakuAW2",
        "colab_type": "text"
      },
      "source": [
        "#####  Descriptive statistics summary"
      ]
    },
    {
      "cell_type": "code",
      "metadata": {
        "colab_type": "code",
        "id": "2ad8WIgjIjIS",
        "outputId": "b81af1be-fa49-42aa-b0c5-f14c22afcc70",
        "colab": {
          "base_uri": "https://localhost:8080/",
          "height": 297
        }
      },
      "source": [
        "#descriptive statistics summary\n",
        "train[['Time from Pickup to Arrival']].describe()"
      ],
      "execution_count": 74,
      "outputs": [
        {
          "output_type": "execute_result",
          "data": {
            "text/html": [
              "<div>\n",
              "<style scoped>\n",
              "    .dataframe tbody tr th:only-of-type {\n",
              "        vertical-align: middle;\n",
              "    }\n",
              "\n",
              "    .dataframe tbody tr th {\n",
              "        vertical-align: top;\n",
              "    }\n",
              "\n",
              "    .dataframe thead th {\n",
              "        text-align: right;\n",
              "    }\n",
              "</style>\n",
              "<table border=\"1\" class=\"dataframe\">\n",
              "  <thead>\n",
              "    <tr style=\"text-align: right;\">\n",
              "      <th></th>\n",
              "      <th>Time from Pickup to Arrival</th>\n",
              "    </tr>\n",
              "  </thead>\n",
              "  <tbody>\n",
              "    <tr>\n",
              "      <th>count</th>\n",
              "      <td>21201.000000</td>\n",
              "    </tr>\n",
              "    <tr>\n",
              "      <th>mean</th>\n",
              "      <td>1556.920947</td>\n",
              "    </tr>\n",
              "    <tr>\n",
              "      <th>std</th>\n",
              "      <td>987.270788</td>\n",
              "    </tr>\n",
              "    <tr>\n",
              "      <th>min</th>\n",
              "      <td>1.000000</td>\n",
              "    </tr>\n",
              "    <tr>\n",
              "      <th>25%</th>\n",
              "      <td>882.000000</td>\n",
              "    </tr>\n",
              "    <tr>\n",
              "      <th>50%</th>\n",
              "      <td>1369.000000</td>\n",
              "    </tr>\n",
              "    <tr>\n",
              "      <th>75%</th>\n",
              "      <td>2040.000000</td>\n",
              "    </tr>\n",
              "    <tr>\n",
              "      <th>max</th>\n",
              "      <td>7883.000000</td>\n",
              "    </tr>\n",
              "  </tbody>\n",
              "</table>\n",
              "</div>"
            ],
            "text/plain": [
              "       Time from Pickup to Arrival\n",
              "count                 21201.000000\n",
              "mean                   1556.920947\n",
              "std                     987.270788\n",
              "min                       1.000000\n",
              "25%                     882.000000\n",
              "50%                    1369.000000\n",
              "75%                    2040.000000\n",
              "max                    7883.000000"
            ]
          },
          "metadata": {
            "tags": []
          },
          "execution_count": 74
        }
      ]
    },
    {
      "cell_type": "markdown",
      "metadata": {
        "id": "KzC9yQgruAW9",
        "colab_type": "text"
      },
      "source": [
        "## Feature Engineering"
      ]
    },
    {
      "cell_type": "markdown",
      "metadata": {
        "id": "jNnIrCliuAXE",
        "colab_type": "text"
      },
      "source": [
        "##### Eda "
      ]
    },
    {
      "cell_type": "code",
      "metadata": {
        "colab_type": "code",
        "id": "WuM-TqeyIjCx",
        "outputId": "4aeaf085-dff0-41ec-86c5-238db6b6b73c",
        "colab": {
          "base_uri": "https://localhost:8080/",
          "height": 279
        }
      },
      "source": [
        "#histogram\n",
        "sns.distplot(train['Time from Pickup to Arrival']);"
      ],
      "execution_count": 75,
      "outputs": [
        {
          "output_type": "display_data",
          "data": {
            "image/png": "[encoded data removed]",
            "text/plain": [
              "<Figure size 432x288 with 1 Axes>"
            ]
          },
          "metadata": {
            "tags": []
          }
        }
      ]
    },
    {
      "cell_type": "markdown",
      "metadata": {
        "colab_type": "text",
        "id": "nr2WHeekJkcc"
      },
      "source": [
        ">* Deviate from the normal distribution.\n",
        ">* Have appreciable positive skewness.\n",
        ">* Show peakedness."
      ]
    },
    {
      "cell_type": "code",
      "metadata": {
        "colab_type": "code",
        "id": "7oZpCm8gJtAh",
        "outputId": "98375bd5-b90e-4e1b-8c4b-1ab0f30676e4",
        "colab": {
          "base_uri": "https://localhost:8080/",
          "height": 51
        }
      },
      "source": [
        "#skewness and kurtosis\n",
        "print(\"Skewness: %f\" % train['Time from Pickup to Arrival'].skew())\n",
        "print(\"Kurtosis: %f\" % train['Time from Pickup to Arrival'].kurt())"
      ],
      "execution_count": 76,
      "outputs": [
        {
          "output_type": "stream",
          "text": [
            "Skewness: 1.201938\n",
            "Kurtosis: 2.236352\n"
          ],
          "name": "stdout"
        }
      ]
    },
    {
      "cell_type": "markdown",
      "metadata": {
        "colab_type": "text",
        "id": "ZiayTyB2Mdao"
      },
      "source": [
        "**Relationship with numerical variables**"
      ]
    },
    {
      "cell_type": "code",
      "metadata": {
        "colab_type": "code",
        "id": "0HGuuq1XPFHU",
        "outputId": "3453d10e-2eef-4e29-98ae-67b0ee94b8cf",
        "colab": {
          "base_uri": "https://localhost:8080/",
          "height": 394
        }
      },
      "source": [
        "train.head()"
      ],
      "execution_count": 77,
      "outputs": [
        {
          "output_type": "execute_result",
          "data": {
            "text/html": [
              "<div>\n",
              "<style scoped>\n",
              "    .dataframe tbody tr th:only-of-type {\n",
              "        vertical-align: middle;\n",
              "    }\n",
              "\n",
              "    .dataframe tbody tr th {\n",
              "        vertical-align: top;\n",
              "    }\n",
              "\n",
              "    .dataframe thead th {\n",
              "        text-align: right;\n",
              "    }\n",
              "</style>\n",
              "<table border=\"1\" class=\"dataframe\">\n",
              "  <thead>\n",
              "    <tr style=\"text-align: right;\">\n",
              "      <th></th>\n",
              "      <th>Order No</th>\n",
              "      <th>User Id</th>\n",
              "      <th>Vehicle Type</th>\n",
              "      <th>Platform Type</th>\n",
              "      <th>Personal or Business</th>\n",
              "      <th>Placement - Day of Month</th>\n",
              "      <th>Placement - Weekday</th>\n",
              "      <th>Placement - Time</th>\n",
              "      <th>Confirmation - Day of Month</th>\n",
              "      <th>Confirmation - Weekday</th>\n",
              "      <th>Confirmation - Time</th>\n",
              "      <th>Arrival at Pickup - Day of Month</th>\n",
              "      <th>Arrival at Pickup - Weekday</th>\n",
              "      <th>Arrival at Pickup - Time</th>\n",
              "      <th>Pickup - Day of Month</th>\n",
              "      <th>Pickup - Weekday</th>\n",
              "      <th>Pickup - Time</th>\n",
              "      <th>Arrival at Destination - Day of Month</th>\n",
              "      <th>Arrival at Destination - Weekday</th>\n",
              "      <th>Arrival at Destination - Time</th>\n",
              "      <th>Distance (KM)</th>\n",
              "      <th>Temperature</th>\n",
              "      <th>Precipitation in millimeters</th>\n",
              "      <th>Pickup Lat</th>\n",
              "      <th>Pickup Long</th>\n",
              "      <th>Destination Lat</th>\n",
              "      <th>Destination Long</th>\n",
              "      <th>Rider Id</th>\n",
              "      <th>Time from Pickup to Arrival</th>\n",
              "      <th>No of Orders</th>\n",
              "      <th>Age</th>\n",
              "      <th>Average Rating</th>\n",
              "      <th>No of Ratings</th>\n",
              "    </tr>\n",
              "  </thead>\n",
              "  <tbody>\n",
              "    <tr>\n",
              "      <th>0</th>\n",
              "      <td>Order_No_4211</td>\n",
              "      <td>User_Id_633</td>\n",
              "      <td>Bike</td>\n",
              "      <td>3</td>\n",
              "      <td>Business</td>\n",
              "      <td>9</td>\n",
              "      <td>5</td>\n",
              "      <td>9:35:46 AM</td>\n",
              "      <td>9</td>\n",
              "      <td>5</td>\n",
              "      <td>9:40:10 AM</td>\n",
              "      <td>9</td>\n",
              "      <td>5</td>\n",
              "      <td>10:04:47 AM</td>\n",
              "      <td>9</td>\n",
              "      <td>5</td>\n",
              "      <td>10:27:30 AM</td>\n",
              "      <td>9</td>\n",
              "      <td>5</td>\n",
              "      <td>10:39:55 AM</td>\n",
              "      <td>4</td>\n",
              "      <td>20.4</td>\n",
              "      <td>NaN</td>\n",
              "      <td>-1.317755</td>\n",
              "      <td>36.830370</td>\n",
              "      <td>-1.300406</td>\n",
              "      <td>36.829741</td>\n",
              "      <td>Rider_Id_432</td>\n",
              "      <td>745</td>\n",
              "      <td>1637</td>\n",
              "      <td>1309</td>\n",
              "      <td>13.8</td>\n",
              "      <td>549</td>\n",
              "    </tr>\n",
              "    <tr>\n",
              "      <th>1</th>\n",
              "      <td>Order_No_25375</td>\n",
              "      <td>User_Id_2285</td>\n",
              "      <td>Bike</td>\n",
              "      <td>3</td>\n",
              "      <td>Personal</td>\n",
              "      <td>12</td>\n",
              "      <td>5</td>\n",
              "      <td>11:16:16 AM</td>\n",
              "      <td>12</td>\n",
              "      <td>5</td>\n",
              "      <td>11:23:21 AM</td>\n",
              "      <td>12</td>\n",
              "      <td>5</td>\n",
              "      <td>11:40:22 AM</td>\n",
              "      <td>12</td>\n",
              "      <td>5</td>\n",
              "      <td>11:44:09 AM</td>\n",
              "      <td>12</td>\n",
              "      <td>5</td>\n",
              "      <td>12:17:22 PM</td>\n",
              "      <td>16</td>\n",
              "      <td>26.4</td>\n",
              "      <td>NaN</td>\n",
              "      <td>-1.351453</td>\n",
              "      <td>36.899315</td>\n",
              "      <td>-1.295004</td>\n",
              "      <td>36.814358</td>\n",
              "      <td>Rider_Id_856</td>\n",
              "      <td>1993</td>\n",
              "      <td>396</td>\n",
              "      <td>339</td>\n",
              "      <td>13.6</td>\n",
              "      <td>69</td>\n",
              "    </tr>\n",
              "    <tr>\n",
              "      <th>2</th>\n",
              "      <td>Order_No_1899</td>\n",
              "      <td>User_Id_265</td>\n",
              "      <td>Bike</td>\n",
              "      <td>3</td>\n",
              "      <td>Business</td>\n",
              "      <td>30</td>\n",
              "      <td>2</td>\n",
              "      <td>12:39:25 PM</td>\n",
              "      <td>30</td>\n",
              "      <td>2</td>\n",
              "      <td>12:42:44 PM</td>\n",
              "      <td>30</td>\n",
              "      <td>2</td>\n",
              "      <td>12:49:34 PM</td>\n",
              "      <td>30</td>\n",
              "      <td>2</td>\n",
              "      <td>12:53:03 PM</td>\n",
              "      <td>30</td>\n",
              "      <td>2</td>\n",
              "      <td>1:00:38 PM</td>\n",
              "      <td>3</td>\n",
              "      <td>NaN</td>\n",
              "      <td>NaN</td>\n",
              "      <td>-1.308284</td>\n",
              "      <td>36.843419</td>\n",
              "      <td>-1.300921</td>\n",
              "      <td>36.828195</td>\n",
              "      <td>Rider_Id_155</td>\n",
              "      <td>455</td>\n",
              "      <td>1023</td>\n",
              "      <td>242</td>\n",
              "      <td>12.5</td>\n",
              "      <td>114</td>\n",
              "    </tr>\n",
              "    <tr>\n",
              "      <th>3</th>\n",
              "      <td>Order_No_9336</td>\n",
              "      <td>User_Id_1402</td>\n",
              "      <td>Bike</td>\n",
              "      <td>3</td>\n",
              "      <td>Business</td>\n",
              "      <td>15</td>\n",
              "      <td>5</td>\n",
              "      <td>9:25:34 AM</td>\n",
              "      <td>15</td>\n",
              "      <td>5</td>\n",
              "      <td>9:26:05 AM</td>\n",
              "      <td>15</td>\n",
              "      <td>5</td>\n",
              "      <td>9:37:56 AM</td>\n",
              "      <td>15</td>\n",
              "      <td>5</td>\n",
              "      <td>9:43:06 AM</td>\n",
              "      <td>15</td>\n",
              "      <td>5</td>\n",
              "      <td>10:05:27 AM</td>\n",
              "      <td>9</td>\n",
              "      <td>19.2</td>\n",
              "      <td>NaN</td>\n",
              "      <td>-1.281301</td>\n",
              "      <td>36.832396</td>\n",
              "      <td>-1.257147</td>\n",
              "      <td>36.795063</td>\n",
              "      <td>Rider_Id_855</td>\n",
              "      <td>1341</td>\n",
              "      <td>886</td>\n",
              "      <td>283</td>\n",
              "      <td>14.5</td>\n",
              "      <td>113</td>\n",
              "    </tr>\n",
              "    <tr>\n",
              "      <th>4</th>\n",
              "      <td>Order_No_27883</td>\n",
              "      <td>User_Id_1737</td>\n",
              "      <td>Bike</td>\n",
              "      <td>1</td>\n",
              "      <td>Personal</td>\n",
              "      <td>13</td>\n",
              "      <td>1</td>\n",
              "      <td>9:55:18 AM</td>\n",
              "      <td>13</td>\n",
              "      <td>1</td>\n",
              "      <td>9:56:18 AM</td>\n",
              "      <td>13</td>\n",
              "      <td>1</td>\n",
              "      <td>10:03:53 AM</td>\n",
              "      <td>13</td>\n",
              "      <td>1</td>\n",
              "      <td>10:05:23 AM</td>\n",
              "      <td>13</td>\n",
              "      <td>1</td>\n",
              "      <td>10:25:37 AM</td>\n",
              "      <td>9</td>\n",
              "      <td>15.4</td>\n",
              "      <td>NaN</td>\n",
              "      <td>-1.266597</td>\n",
              "      <td>36.792118</td>\n",
              "      <td>-1.295041</td>\n",
              "      <td>36.809817</td>\n",
              "      <td>Rider_Id_770</td>\n",
              "      <td>1214</td>\n",
              "      <td>2311</td>\n",
              "      <td>872</td>\n",
              "      <td>14.1</td>\n",
              "      <td>533</td>\n",
              "    </tr>\n",
              "  </tbody>\n",
              "</table>\n",
              "</div>"
            ],
            "text/plain": [
              "         Order No       User Id  ... Average Rating  No of Ratings\n",
              "0   Order_No_4211   User_Id_633  ...           13.8            549\n",
              "1  Order_No_25375  User_Id_2285  ...           13.6             69\n",
              "2   Order_No_1899   User_Id_265  ...           12.5            114\n",
              "3   Order_No_9336  User_Id_1402  ...           14.5            113\n",
              "4  Order_No_27883  User_Id_1737  ...           14.1            533\n",
              "\n",
              "[5 rows x 33 columns]"
            ]
          },
          "metadata": {
            "tags": []
          },
          "execution_count": 77
        }
      ]
    },
    {
      "cell_type": "markdown",
      "metadata": {
        "colab_type": "text",
        "id": "taA70EXPIEws"
      },
      "source": [
        "##Data cleaning"
      ]
    },
    {
      "cell_type": "code",
      "metadata": {
        "colab_type": "code",
        "id": "9wrdf2RgswYP",
        "outputId": "24a76a63-d4c5-4489-a514-7e687254c70c",
        "colab": {
          "base_uri": "https://localhost:8080/",
          "height": 359
        }
      },
      "source": [
        "#missing data\n",
        "total = train.isnull().sum().sort_values(ascending=False)\n",
        "percent = round((train.isnull().sum()/train.isnull().count()*100).sort_values(ascending=False),2)\n",
        "missing_data = pd.concat([total, percent], axis=1, keys=['Total', 'Percent'])\n",
        "missing_data.head(10)"
      ],
      "execution_count": 78,
      "outputs": [
        {
          "output_type": "execute_result",
          "data": {
            "text/html": [
              "<div>\n",
              "<style scoped>\n",
              "    .dataframe tbody tr th:only-of-type {\n",
              "        vertical-align: middle;\n",
              "    }\n",
              "\n",
              "    .dataframe tbody tr th {\n",
              "        vertical-align: top;\n",
              "    }\n",
              "\n",
              "    .dataframe thead th {\n",
              "        text-align: right;\n",
              "    }\n",
              "</style>\n",
              "<table border=\"1\" class=\"dataframe\">\n",
              "  <thead>\n",
              "    <tr style=\"text-align: right;\">\n",
              "      <th></th>\n",
              "      <th>Total</th>\n",
              "      <th>Percent</th>\n",
              "    </tr>\n",
              "  </thead>\n",
              "  <tbody>\n",
              "    <tr>\n",
              "      <th>Precipitation in millimeters</th>\n",
              "      <td>20649</td>\n",
              "      <td>97.40</td>\n",
              "    </tr>\n",
              "    <tr>\n",
              "      <th>Temperature</th>\n",
              "      <td>4366</td>\n",
              "      <td>20.59</td>\n",
              "    </tr>\n",
              "    <tr>\n",
              "      <th>No of Ratings</th>\n",
              "      <td>0</td>\n",
              "      <td>0.00</td>\n",
              "    </tr>\n",
              "    <tr>\n",
              "      <th>Confirmation - Day of Month</th>\n",
              "      <td>0</td>\n",
              "      <td>0.00</td>\n",
              "    </tr>\n",
              "    <tr>\n",
              "      <th>Arrival at Pickup - Weekday</th>\n",
              "      <td>0</td>\n",
              "      <td>0.00</td>\n",
              "    </tr>\n",
              "    <tr>\n",
              "      <th>Arrival at Pickup - Day of Month</th>\n",
              "      <td>0</td>\n",
              "      <td>0.00</td>\n",
              "    </tr>\n",
              "    <tr>\n",
              "      <th>Confirmation - Time</th>\n",
              "      <td>0</td>\n",
              "      <td>0.00</td>\n",
              "    </tr>\n",
              "    <tr>\n",
              "      <th>Confirmation - Weekday</th>\n",
              "      <td>0</td>\n",
              "      <td>0.00</td>\n",
              "    </tr>\n",
              "    <tr>\n",
              "      <th>Placement - Time</th>\n",
              "      <td>0</td>\n",
              "      <td>0.00</td>\n",
              "    </tr>\n",
              "    <tr>\n",
              "      <th>Pickup - Day of Month</th>\n",
              "      <td>0</td>\n",
              "      <td>0.00</td>\n",
              "    </tr>\n",
              "  </tbody>\n",
              "</table>\n",
              "</div>"
            ],
            "text/plain": [
              "                                  Total  Percent\n",
              "Precipitation in millimeters      20649    97.40\n",
              "Temperature                        4366    20.59\n",
              "No of Ratings                         0     0.00\n",
              "Confirmation - Day of Month           0     0.00\n",
              "Arrival at Pickup - Weekday           0     0.00\n",
              "Arrival at Pickup - Day of Month      0     0.00\n",
              "Confirmation - Time                   0     0.00\n",
              "Confirmation - Weekday                0     0.00\n",
              "Placement - Time                      0     0.00\n",
              "Pickup - Day of Month                 0     0.00"
            ]
          },
          "metadata": {
            "tags": []
          },
          "execution_count": 78
        }
      ]
    },
    {
      "cell_type": "markdown",
      "metadata": {
        "colab_type": "text",
        "id": "siVTTGM2pheW"
      },
      "source": [
        ">* Remove 'Precipitation in millimeters' column as 97.42% of the data is missing\n"
      ]
    },
    {
      "cell_type": "code",
      "metadata": {
        "colab_type": "code",
        "id": "2k5ZvyvTumIH",
        "colab": {}
      },
      "source": [
        "#drop 'Precipitation in millimeters' column\n",
        "train.drop('Precipitation in millimeters', axis=1, inplace=True)\n",
        "test.drop('Precipitation in millimeters', axis=1, inplace=True)"
      ],
      "execution_count": 0,
      "outputs": []
    },
    {
      "cell_type": "code",
      "metadata": {
        "colab_type": "code",
        "id": "IvlCAHq6vixo",
        "outputId": "73551f58-bb01-42b9-ce64-fb3b47674b05",
        "colab": {
          "base_uri": "https://localhost:8080/",
          "height": 355
        }
      },
      "source": [
        "# create 24h time bins for when orders were placed\n",
        "train['Placement - Time(bins)']= pd.to_datetime(pd.to_datetime(train['Placement - Time']).dt.strftime('%H:%M:%S')).dt.strftime('%H')\n",
        "\n",
        "fig,axis= plt.subplots(figsize=(12,5))\n",
        "sns.boxplot(x='Placement - Time(bins)', y='Temperature', data=train, palette='CMRmap')\n",
        "plt.title('Temperature during the day', fontsize=16)\n",
        "plt.xlabel('Placement of orders in hours', fontsize=12)\n",
        "plt.ylabel('Temp in degrees celcius', fontsize=12)\n",
        "plt.show()\n"
      ],
      "execution_count": 80,
      "outputs": [
        {
          "output_type": "display_data",
          "data": {
            "image/png": "[encoded data removed]",
            "text/plain": [
              "<Figure size 864x360 with 1 Axes>"
            ]
          },
          "metadata": {
            "tags": []
          }
        }
      ]
    },
    {
      "cell_type": "code",
      "metadata": {
        "colab_type": "code",
        "id": "ppwWxDZnbr_q",
        "colab": {}
      },
      "source": [
        "#taking care of missing data\n",
        "test['Temperature'].fillna(value=train['Temperature'].mean(), inplace=True)\n",
        "train['Temperature'].fillna(value=train['Temperature'].mean(), inplace=True)\n"
      ],
      "execution_count": 0,
      "outputs": []
    },
    {
      "cell_type": "markdown",
      "metadata": {
        "colab_type": "text",
        "id": "5QQ1w47t5sYD"
      },
      "source": [
        "**Visuals**"
      ]
    },
    {
      "cell_type": "code",
      "metadata": {
        "colab_type": "code",
        "id": "wy2dyBLDQUPY",
        "outputId": "6d3b2d99-af80-4f75-9b65-6822a0593c3a",
        "colab": {
          "base_uri": "https://localhost:8080/",
          "height": 279
        }
      },
      "source": [
        "#scatter plot Distance (KM)/Time from Pickup to Arrival\n",
        "var = 'Distance (KM)'\n",
        "data = pd.concat([train['Time from Pickup to Arrival'], train[var]], axis=1)\n",
        "data.plot.scatter(x=var, y='Time from Pickup to Arrival');"
      ],
      "execution_count": 82,
      "outputs": [
        {
          "output_type": "display_data",
          "data": {
            "image/png": "[encoded data removed]",
            "text/plain": [
              "<Figure size 432x288 with 1 Axes>"
            ]
          },
          "metadata": {
            "tags": []
          }
        }
      ]
    },
    {
      "cell_type": "code",
      "metadata": {
        "colab_type": "code",
        "id": "vb__ygaiRKsJ",
        "outputId": "5296ae2a-240f-40b8-bbef-27ac18b44673",
        "colab": {
          "base_uri": "https://localhost:8080/",
          "height": 279
        }
      },
      "source": [
        "#scatter plot Temperature/Time from Pickup to Arrival\n",
        "var = 'Temperature'\n",
        "data = pd.concat([train['Time from Pickup to Arrival'], train[var]], axis=1)\n",
        "data.plot.scatter(x=var, y='Time from Pickup to Arrival');"
      ],
      "execution_count": 83,
      "outputs": [
        {
          "output_type": "display_data",
          "data": {
            "image/png": "[encoded data removed]",
            "text/plain": [
              "<Figure size 432x288 with 1 Axes>"
            ]
          },
          "metadata": {
            "tags": []
          }
        }
      ]
    },
    {
      "cell_type": "code",
      "metadata": {
        "colab_type": "code",
        "id": "EvGvn2RQRKaV",
        "outputId": "086e8a73-e355-49b7-c4d3-1a4a9c35a418",
        "colab": {
          "base_uri": "https://localhost:8080/",
          "height": 497
        }
      },
      "source": [
        "#box plot Confirmation - Day of Month/Time from Pickup to Arrival\n",
        "var = 'Confirmation - Day of Month'\n",
        "data = pd.concat([train['Time from Pickup to Arrival'], train[var]], axis=1)\n",
        "f, ax = plt.subplots(figsize=(14, 8))\n",
        "fig = sns.boxplot(x=var, y=\"Time from Pickup to Arrival\", data=data)\n",
        "fig.axis(ymin=0, yma=800000);"
      ],
      "execution_count": 84,
      "outputs": [
        {
          "output_type": "display_data",
          "data": {
            "image/png": "[encoded data removed]",
            "text/plain": [
              "<Figure size 1008x576 with 1 Axes>"
            ]
          },
          "metadata": {
            "tags": []
          }
        }
      ]
    },
    {
      "cell_type": "code",
      "metadata": {
        "colab_type": "code",
        "id": "fTwFhi4xRKW7",
        "outputId": "f355217e-7328-410c-beb6-ca5234677193",
        "colab": {
          "base_uri": "https://localhost:8080/",
          "height": 388
        }
      },
      "source": [
        "var = 'Confirmation - Weekday'\n",
        "data = pd.concat([train['Time from Pickup to Arrival'], train[var]], axis=1)\n",
        "f, ax = plt.subplots(figsize=(12, 6))\n",
        "fig = sns.boxplot(x=var, y=\"Time from Pickup to Arrival\", data=data)\n",
        "fig.axis(ymin=0, ymax=8000);\n",
        "plt.xticks(rotation=90);"
      ],
      "execution_count": 85,
      "outputs": [
        {
          "output_type": "display_data",
          "data": {
            "image/png": "[encoded data removed]",
            "text/plain": [
              "<Figure size 864x432 with 1 Axes>"
            ]
          },
          "metadata": {
            "tags": []
          }
        }
      ]
    },
    {
      "cell_type": "markdown",
      "metadata": {
        "colab_type": "text",
        "id": "m1ECBwkz_AR-"
      },
      "source": [
        "**Remove target outliers**"
      ]
    },
    {
      "cell_type": "markdown",
      "metadata": {
        "colab_type": "text",
        "id": "KD7x1KYWPElg"
      },
      "source": [
        "we can exclude outliers from 'Time from Pickup to Arrival' column based on the distance travelled."
      ]
    },
    {
      "cell_type": "code",
      "metadata": {
        "colab_type": "code",
        "id": "R30pSSKygEBL",
        "outputId": "7543a12a-f2e1-4f93-bb28-6e578017f9f6",
        "colab": {
          "base_uri": "https://localhost:8080/",
          "height": 34
        }
      },
      "source": [
        "# Identify outliers in target variable\n",
        "train['Not outlier']=(train['Distance (KM)']+30) < train['Time from Pickup to Arrival']\n",
        "print(str(len(train[train['Not outlier']==False])) + ' target outliers')"
      ],
      "execution_count": 86,
      "outputs": [
        {
          "output_type": "stream",
          "text": [
            "696 target outliers\n"
          ],
          "name": "stdout"
        }
      ]
    },
    {
      "cell_type": "code",
      "metadata": {
        "colab_type": "code",
        "id": "Wy_H33c4XpVo",
        "outputId": "5f2c7917-62a9-4132-e47b-9d311898857f",
        "colab": {
          "base_uri": "https://localhost:8080/",
          "height": 369
        }
      },
      "source": [
        "sns.lmplot(x='Time from Pickup to Arrival', y='Distance (KM)', data=train, hue='Not outlier', palette='seismic', fit_reg=False)\n",
        "plt.show()"
      ],
      "execution_count": 87,
      "outputs": [
        {
          "output_type": "display_data",
          "data": {
            "image/png": "[encoded data removed]",
            "text/plain": [
              "<Figure size 421.25x360 with 1 Axes>"
            ]
          },
          "metadata": {
            "tags": []
          }
        }
      ]
    },
    {
      "cell_type": "code",
      "metadata": {
        "colab_type": "code",
        "id": "tMx-ZFyEAI4U",
        "outputId": "903a0501-176f-48ca-f908-26eef14f507f",
        "colab": {
          "base_uri": "https://localhost:8080/",
          "height": 350
        }
      },
      "source": [
        "# Remove outliers\n",
        "new_train= train[train['Not outlier']==True]\n",
        "fig,axis= plt.subplots(ncols=2, figsize=(15, 5))\n",
        "sns.distplot(train['Time from Pickup to Arrival'], ax=axis[0], color='green')\n",
        "sns.distplot(new_train['Time from Pickup to Arrival'], ax=axis[1], color='red')\n",
        "axis[0].set_title('Target variable with outliers', fontsize=12)\n",
        "axis[1].set_title('Target variable without outliers', fontsize=12)\n",
        "axis[0].set_xlabel('Time from Pickup to Arrival', fontsize=10)\n",
        "axis[1].set_xlabel('Time from Pickup to Arrival', fontsize=10)\n",
        "plt.show()\n",
        "\n",
        "# Remove outlier column\n",
        "train= train[train['Not outlier'] == True]\n",
        "train= train.drop(['Not outlier'], axis=1)"
      ],
      "execution_count": 88,
      "outputs": [
        {
          "output_type": "display_data",
          "data": {
            "image/png": "[encoded data removed]",
            "text/plain": [
              "<Figure size 1080x360 with 2 Axes>"
            ]
          },
          "metadata": {
            "tags": []
          }
        }
      ]
    },
    {
      "cell_type": "markdown",
      "metadata": {
        "colab_type": "text",
        "id": "zVMaAV-jHqY2"
      },
      "source": [
        "## Exploratory data analysis"
      ]
    },
    {
      "cell_type": "markdown",
      "metadata": {
        "colab_type": "text",
        "id": "AcSPW83lH83J"
      },
      "source": [
        "Data summery statistics"
      ]
    },
    {
      "cell_type": "code",
      "metadata": {
        "colab_type": "code",
        "id": "LUgja01gAInJ",
        "outputId": "def4ad52-0bde-45fd-c9da-bddfc9e2e21a",
        "colab": {
          "base_uri": "https://localhost:8080/",
          "height": 697
        }
      },
      "source": [
        "train.info()"
      ],
      "execution_count": 89,
      "outputs": [
        {
          "output_type": "stream",
          "text": [
            "<class 'pandas.core.frame.DataFrame'>\n",
            "Int64Index: 20505 entries, 0 to 21200\n",
            "Data columns (total 33 columns):\n",
            " #   Column                                 Non-Null Count  Dtype  \n",
            "---  ------                                 --------------  -----  \n",
            " 0   Order No                               20505 non-null  object \n",
            " 1   User Id                                20505 non-null  object \n",
            " 2   Vehicle Type                           20505 non-null  object \n",
            " 3   Platform Type                          20505 non-null  int64  \n",
            " 4   Personal or Business                   20505 non-null  object \n",
            " 5   Placement - Day of Month               20505 non-null  int64  \n",
            " 6   Placement - Weekday                    20505 non-null  int64  \n",
            " 7   Placement - Time                       20505 non-null  object \n",
            " 8   Confirmation - Day of Month            20505 non-null  int64  \n",
            " 9   Confirmation - Weekday                 20505 non-null  int64  \n",
            " 10  Confirmation - Time                    20505 non-null  object \n",
            " 11  Arrival at Pickup - Day of Month       20505 non-null  int64  \n",
            " 12  Arrival at Pickup - Weekday            20505 non-null  int64  \n",
            " 13  Arrival at Pickup - Time               20505 non-null  object \n",
            " 14  Pickup - Day of Month                  20505 non-null  int64  \n",
            " 15  Pickup - Weekday                       20505 non-null  int64  \n",
            " 16  Pickup - Time                          20505 non-null  object \n",
            " 17  Arrival at Destination - Day of Month  20505 non-null  int64  \n",
            " 18  Arrival at Destination - Weekday       20505 non-null  int64  \n",
            " 19  Arrival at Destination - Time          20505 non-null  object \n",
            " 20  Distance (KM)                          20505 non-null  int64  \n",
            " 21  Temperature                            20505 non-null  float64\n",
            " 22  Pickup Lat                             20505 non-null  float64\n",
            " 23  Pickup Long                            20505 non-null  float64\n",
            " 24  Destination Lat                        20505 non-null  float64\n",
            " 25  Destination Long                       20505 non-null  float64\n",
            " 26  Rider Id                               20505 non-null  object \n",
            " 27  Time from Pickup to Arrival            20505 non-null  int64  \n",
            " 28  No of Orders                           20505 non-null  int64  \n",
            " 29  Age                                    20505 non-null  int64  \n",
            " 30  Average Rating                         20505 non-null  float64\n",
            " 31  No of Ratings                          20505 non-null  int64  \n",
            " 32  Placement - Time(bins)                 20505 non-null  object \n",
            "dtypes: float64(6), int64(16), object(11)\n",
            "memory usage: 5.3+ MB\n"
          ],
          "name": "stdout"
        }
      ]
    },
    {
      "cell_type": "code",
      "metadata": {
        "colab_type": "code",
        "id": "MqIZtloKIU0B",
        "outputId": "c6d6c5bb-a103-4d95-be55-d97667b7a760",
        "colab": {
          "base_uri": "https://localhost:8080/",
          "height": 368
        }
      },
      "source": [
        "train.describe()"
      ],
      "execution_count": 90,
      "outputs": [
        {
          "output_type": "execute_result",
          "data": {
            "text/html": [
              "<div>\n",
              "<style scoped>\n",
              "    .dataframe tbody tr th:only-of-type {\n",
              "        vertical-align: middle;\n",
              "    }\n",
              "\n",
              "    .dataframe tbody tr th {\n",
              "        vertical-align: top;\n",
              "    }\n",
              "\n",
              "    .dataframe thead th {\n",
              "        text-align: right;\n",
              "    }\n",
              "</style>\n",
              "<table border=\"1\" class=\"dataframe\">\n",
              "  <thead>\n",
              "    <tr style=\"text-align: right;\">\n",
              "      <th></th>\n",
              "      <th>Platform Type</th>\n",
              "      <th>Placement - Day of Month</th>\n",
              "      <th>Placement - Weekday</th>\n",
              "      <th>Confirmation - Day of Month</th>\n",
              "      <th>Confirmation - Weekday</th>\n",
              "      <th>Arrival at Pickup - Day of Month</th>\n",
              "      <th>Arrival at Pickup - Weekday</th>\n",
              "      <th>Pickup - Day of Month</th>\n",
              "      <th>Pickup - Weekday</th>\n",
              "      <th>Arrival at Destination - Day of Month</th>\n",
              "      <th>Arrival at Destination - Weekday</th>\n",
              "      <th>Distance (KM)</th>\n",
              "      <th>Temperature</th>\n",
              "      <th>Pickup Lat</th>\n",
              "      <th>Pickup Long</th>\n",
              "      <th>Destination Lat</th>\n",
              "      <th>Destination Long</th>\n",
              "      <th>Time from Pickup to Arrival</th>\n",
              "      <th>No of Orders</th>\n",
              "      <th>Age</th>\n",
              "      <th>Average Rating</th>\n",
              "      <th>No of Ratings</th>\n",
              "    </tr>\n",
              "  </thead>\n",
              "  <tbody>\n",
              "    <tr>\n",
              "      <th>count</th>\n",
              "      <td>20505.000000</td>\n",
              "      <td>20505.000000</td>\n",
              "      <td>20505.000000</td>\n",
              "      <td>20505.000000</td>\n",
              "      <td>20505.000000</td>\n",
              "      <td>20505.000000</td>\n",
              "      <td>20505.000000</td>\n",
              "      <td>20505.000000</td>\n",
              "      <td>20505.000000</td>\n",
              "      <td>20505.000000</td>\n",
              "      <td>20505.000000</td>\n",
              "      <td>20505.000000</td>\n",
              "      <td>20505.000000</td>\n",
              "      <td>20505.000000</td>\n",
              "      <td>20505.000000</td>\n",
              "      <td>20505.000000</td>\n",
              "      <td>20505.000000</td>\n",
              "      <td>20505.000000</td>\n",
              "      <td>20505.000000</td>\n",
              "      <td>20505.000000</td>\n",
              "      <td>20505.000000</td>\n",
              "      <td>20505.000000</td>\n",
              "    </tr>\n",
              "    <tr>\n",
              "      <th>mean</th>\n",
              "      <td>2.745379</td>\n",
              "      <td>15.641551</td>\n",
              "      <td>3.241600</td>\n",
              "      <td>15.641697</td>\n",
              "      <td>3.241746</td>\n",
              "      <td>15.641697</td>\n",
              "      <td>3.241746</td>\n",
              "      <td>15.641697</td>\n",
              "      <td>3.241746</td>\n",
              "      <td>15.641697</td>\n",
              "      <td>3.241746</td>\n",
              "      <td>9.607998</td>\n",
              "      <td>23.227811</td>\n",
              "      <td>-1.281277</td>\n",
              "      <td>36.811138</td>\n",
              "      <td>-1.282609</td>\n",
              "      <td>36.811258</td>\n",
              "      <td>1609.512753</td>\n",
              "      <td>1647.029066</td>\n",
              "      <td>976.132504</td>\n",
              "      <td>13.889710</td>\n",
              "      <td>340.364789</td>\n",
              "    </tr>\n",
              "    <tr>\n",
              "      <th>std</th>\n",
              "      <td>0.632302</td>\n",
              "      <td>8.789174</td>\n",
              "      <td>1.568614</td>\n",
              "      <td>8.789144</td>\n",
              "      <td>1.568545</td>\n",
              "      <td>8.789144</td>\n",
              "      <td>1.568545</td>\n",
              "      <td>8.789144</td>\n",
              "      <td>1.568545</td>\n",
              "      <td>8.789144</td>\n",
              "      <td>1.568545</td>\n",
              "      <td>5.672881</td>\n",
              "      <td>3.227694</td>\n",
              "      <td>0.030589</td>\n",
              "      <td>0.037736</td>\n",
              "      <td>0.035081</td>\n",
              "      <td>0.045002</td>\n",
              "      <td>961.005156</td>\n",
              "      <td>1506.477797</td>\n",
              "      <td>640.153976</td>\n",
              "      <td>0.911349</td>\n",
              "      <td>404.025122</td>\n",
              "    </tr>\n",
              "    <tr>\n",
              "      <th>min</th>\n",
              "      <td>1.000000</td>\n",
              "      <td>1.000000</td>\n",
              "      <td>1.000000</td>\n",
              "      <td>1.000000</td>\n",
              "      <td>1.000000</td>\n",
              "      <td>1.000000</td>\n",
              "      <td>1.000000</td>\n",
              "      <td>1.000000</td>\n",
              "      <td>1.000000</td>\n",
              "      <td>1.000000</td>\n",
              "      <td>1.000000</td>\n",
              "      <td>1.000000</td>\n",
              "      <td>11.200000</td>\n",
              "      <td>-1.438302</td>\n",
              "      <td>36.653621</td>\n",
              "      <td>-1.430298</td>\n",
              "      <td>36.606594</td>\n",
              "      <td>33.000000</td>\n",
              "      <td>2.000000</td>\n",
              "      <td>96.000000</td>\n",
              "      <td>0.000000</td>\n",
              "      <td>0.000000</td>\n",
              "    </tr>\n",
              "    <tr>\n",
              "      <th>25%</th>\n",
              "      <td>3.000000</td>\n",
              "      <td>8.000000</td>\n",
              "      <td>2.000000</td>\n",
              "      <td>8.000000</td>\n",
              "      <td>2.000000</td>\n",
              "      <td>8.000000</td>\n",
              "      <td>2.000000</td>\n",
              "      <td>8.000000</td>\n",
              "      <td>2.000000</td>\n",
              "      <td>8.000000</td>\n",
              "      <td>2.000000</td>\n",
              "      <td>5.000000</td>\n",
              "      <td>21.300000</td>\n",
              "      <td>-1.300921</td>\n",
              "      <td>36.783799</td>\n",
              "      <td>-1.301446</td>\n",
              "      <td>36.785586</td>\n",
              "      <td>926.000000</td>\n",
              "      <td>557.000000</td>\n",
              "      <td>495.000000</td>\n",
              "      <td>13.700000</td>\n",
              "      <td>60.000000</td>\n",
              "    </tr>\n",
              "    <tr>\n",
              "      <th>50%</th>\n",
              "      <td>3.000000</td>\n",
              "      <td>15.000000</td>\n",
              "      <td>3.000000</td>\n",
              "      <td>15.000000</td>\n",
              "      <td>3.000000</td>\n",
              "      <td>15.000000</td>\n",
              "      <td>3.000000</td>\n",
              "      <td>15.000000</td>\n",
              "      <td>3.000000</td>\n",
              "      <td>15.000000</td>\n",
              "      <td>3.000000</td>\n",
              "      <td>8.000000</td>\n",
              "      <td>23.258889</td>\n",
              "      <td>-1.279395</td>\n",
              "      <td>36.806629</td>\n",
              "      <td>-1.284467</td>\n",
              "      <td>36.807974</td>\n",
              "      <td>1404.000000</td>\n",
              "      <td>1209.000000</td>\n",
              "      <td>872.000000</td>\n",
              "      <td>14.000000</td>\n",
              "      <td>158.000000</td>\n",
              "    </tr>\n",
              "    <tr>\n",
              "      <th>75%</th>\n",
              "      <td>3.000000</td>\n",
              "      <td>23.000000</td>\n",
              "      <td>5.000000</td>\n",
              "      <td>23.000000</td>\n",
              "      <td>5.000000</td>\n",
              "      <td>23.000000</td>\n",
              "      <td>5.000000</td>\n",
              "      <td>23.000000</td>\n",
              "      <td>5.000000</td>\n",
              "      <td>23.000000</td>\n",
              "      <td>5.000000</td>\n",
              "      <td>13.000000</td>\n",
              "      <td>25.200000</td>\n",
              "      <td>-1.257147</td>\n",
              "      <td>36.828889</td>\n",
              "      <td>-1.261072</td>\n",
              "      <td>36.829263</td>\n",
              "      <td>2070.000000</td>\n",
              "      <td>2273.000000</td>\n",
              "      <td>1218.000000</td>\n",
              "      <td>14.300000</td>\n",
              "      <td>501.000000</td>\n",
              "    </tr>\n",
              "    <tr>\n",
              "      <th>max</th>\n",
              "      <td>4.000000</td>\n",
              "      <td>31.000000</td>\n",
              "      <td>7.000000</td>\n",
              "      <td>31.000000</td>\n",
              "      <td>7.000000</td>\n",
              "      <td>31.000000</td>\n",
              "      <td>7.000000</td>\n",
              "      <td>31.000000</td>\n",
              "      <td>7.000000</td>\n",
              "      <td>31.000000</td>\n",
              "      <td>7.000000</td>\n",
              "      <td>49.000000</td>\n",
              "      <td>32.100000</td>\n",
              "      <td>-1.147170</td>\n",
              "      <td>36.991046</td>\n",
              "      <td>-1.030225</td>\n",
              "      <td>37.016779</td>\n",
              "      <td>7883.000000</td>\n",
              "      <td>9756.000000</td>\n",
              "      <td>3764.000000</td>\n",
              "      <td>15.200000</td>\n",
              "      <td>2298.000000</td>\n",
              "    </tr>\n",
              "  </tbody>\n",
              "</table>\n",
              "</div>"
            ],
            "text/plain": [
              "       Platform Type  Placement - Day of Month  ...  Average Rating  No of Ratings\n",
              "count   20505.000000              20505.000000  ...    20505.000000   20505.000000\n",
              "mean        2.745379                 15.641551  ...       13.889710     340.364789\n",
              "std         0.632302                  8.789174  ...        0.911349     404.025122\n",
              "min         1.000000                  1.000000  ...        0.000000       0.000000\n",
              "25%         3.000000                  8.000000  ...       13.700000      60.000000\n",
              "50%         3.000000                 15.000000  ...       14.000000     158.000000\n",
              "75%         3.000000                 23.000000  ...       14.300000     501.000000\n",
              "max         4.000000                 31.000000  ...       15.200000    2298.000000\n",
              "\n",
              "[8 rows x 22 columns]"
            ]
          },
          "metadata": {
            "tags": []
          },
          "execution_count": 90
        }
      ]
    },
    {
      "cell_type": "markdown",
      "metadata": {
        "colab_type": "text",
        "id": "Dzdrj2PiKW7a"
      },
      "source": [
        "Single variable data\n",
        ">* Platform Type\n",
        ">* Customer Type(Personal or Business)\n",
        ">* Orders and Deliveries Per Weekday\n",
        ">* Orders and Deliveries Per Day of the Month\n",
        ">* Distance from Pickup to Destination"
      ]
    },
    {
      "cell_type": "code",
      "metadata": {
        "colab_type": "code",
        "id": "gYqHLiShI0iV",
        "outputId": "32ee27ad-27fb-43c1-d3a7-d7c836965270",
        "colab": {
          "base_uri": "https://localhost:8080/",
          "height": 402
        }
      },
      "source": [
        "# Platform Type\n",
        "fig, axis= plt.subplots(figsize=(8, 6))\n",
        "ax_PT= sns.countplot(x='Platform Type', data=train, palette='CMRmap')\n",
        "plt.title('No. of order per platform type', fontsize=10)\n",
        "plt.xlabel('Platform Type', fontsize=10)\n",
        "plt.ylabel('No. of orders', fontsize=10)\n",
        "plt.show()"
      ],
      "execution_count": 91,
      "outputs": [
        {
          "output_type": "display_data",
          "data": {
            "image/png": "[encoded data removed]",
            "text/plain": [
              "<Figure size 576x432 with 1 Axes>"
            ]
          },
          "metadata": {
            "tags": []
          }
        }
      ]
    },
    {
      "cell_type": "code",
      "metadata": {
        "colab_type": "code",
        "id": "62WzNQV3Q3-F",
        "outputId": "a3c06bb9-7df6-4386-8a21-61846831f18a",
        "colab": {
          "base_uri": "https://localhost:8080/",
          "height": 404
        }
      },
      "source": [
        "# Customer Type(Personal or Business)\n",
        "fig, axis= plt.subplots(figsize=(8, 6))\n",
        "ax_PT= sns.countplot(x='Personal or Business', data=train, palette='CMRmap')\n",
        "plt.title('No. of order per platform type', fontsize=12)\n",
        "plt.xlabel('Customer Type', fontsize=10)\n",
        "plt.ylabel('No. of orders', fontsize=10)\n",
        "plt.show()"
      ],
      "execution_count": 92,
      "outputs": [
        {
          "output_type": "display_data",
          "data": {
            "image/png": "[encoded data removed]",
            "text/plain": [
              "<Figure size 576x432 with 1 Axes>"
            ]
          },
          "metadata": {
            "tags": []
          }
        }
      ]
    },
    {
      "cell_type": "code",
      "metadata": {
        "colab_type": "code",
        "id": "STO1wuNKU5iE",
        "outputId": "af951498-0bd9-46cb-a214-478893c41a1e",
        "colab": {
          "base_uri": "https://localhost:8080/",
          "height": 404
        }
      },
      "source": [
        "# Orders and Deliveries Per Weekday\n",
        "fig,axis= plt.subplots(ncols=2, figsize=(14, 6))\n",
        "sns.countplot(x='Placement - Weekday', data=train, palette='CMRmap', ax=axis[0])\n",
        "sns.countplot(x='Pickup - Weekday', data=train, palette='CMRmap', ax=axis[1])\n",
        "axis[0].set_title('No. of orders per weekday', fontsize=12)\n",
        "axis[1].set_title('No. of deliveries per weekday', fontsize=12)\n",
        "axis[0].set_xlabel('Weekday order was placed', fontsize=10)\n",
        "axis[1].set_xlabel('Weekday order was picked up', fontsize=10)\n",
        "axis[0].set_ylabel('No. of orders', fontsize=10)\n",
        "axis[1].set_ylabel('No. of deliveries', fontsize=10)\n",
        "plt.show()"
      ],
      "execution_count": 93,
      "outputs": [
        {
          "output_type": "display_data",
          "data": {
            "image/png": "[encoded data removed]",
            "text/plain": [
              "<Figure size 1008x432 with 2 Axes>"
            ]
          },
          "metadata": {
            "tags": []
          }
        }
      ]
    },
    {
      "cell_type": "code",
      "metadata": {
        "colab_type": "code",
        "id": "M5LEw0RQboYo",
        "outputId": "94b5d9aa-b371-41b7-e40c-851b7ab3e1de",
        "colab": {
          "base_uri": "https://localhost:8080/",
          "height": 404
        }
      },
      "source": [
        "# Orders and Deliveries Per Day of the Month\n",
        "fig,axis= plt.subplots(ncols=2, figsize=(14, 6))\n",
        "sns.countplot(x='Placement - Day of Month', data=train, palette='CMRmap', ax=axis[0])\n",
        "sns.countplot(x='Pickup - Day of Month', data=train, palette='CMRmap', ax=axis[1])\n",
        "axis[0].set_title('No. of orders per month day', fontsize=12)\n",
        "axis[1].set_title('No. of deliveries per month day', fontsize=12)\n",
        "axis[0].set_xlabel('Month day order was placed', fontsize=10)\n",
        "axis[1].set_xlabel('Month day order was picked up', fontsize=10)\n",
        "axis[0].set_ylabel('No. of orders', fontsize=10)\n",
        "axis[1].set_ylabel('No. of deliveries', fontsize=10)\n",
        "plt.show()"
      ],
      "execution_count": 94,
      "outputs": [
        {
          "output_type": "display_data",
          "data": {
            "image/png": "[encoded data removed]",
            "text/plain": [
              "<Figure size 1008x432 with 2 Axes>"
            ]
          },
          "metadata": {
            "tags": []
          }
        }
      ]
    },
    {
      "cell_type": "code",
      "metadata": {
        "colab_type": "code",
        "id": "5_7BfX_mbnve",
        "outputId": "194f241f-70ec-4c84-e3b5-0e8558f385f1",
        "colab": {
          "base_uri": "https://localhost:8080/",
          "height": 404
        }
      },
      "source": [
        "# Distance from Pickup to Destination\n",
        "fig, axis= plt.subplots(figsize=(8, 6))\n",
        "sns.distplot(train['Distance (KM)'], bins=25, color='green')\n",
        "plt.title('Distance from pickup to destination(KM)', fontsize=12)\n",
        "plt.xlabel('Distance (KM)', fontsize=10)\n",
        "plt.ylabel('Speed', fontsize=10)\n",
        "plt.show()"
      ],
      "execution_count": 95,
      "outputs": [
        {
          "output_type": "display_data",
          "data": {
            "image/png": "[encoded data removed]",
            "text/plain": [
              "<Figure size 576x432 with 1 Axes>"
            ]
          },
          "metadata": {
            "tags": []
          }
        }
      ]
    },
    {
      "cell_type": "markdown",
      "metadata": {
        "colab_type": "text",
        "id": "-ZCgorRbfmpG"
      },
      "source": [
        "## **Data preprocessing**"
      ]
    },
    {
      "cell_type": "markdown",
      "metadata": {
        "colab_type": "text",
        "id": "a8AftCiVrgEl"
      },
      "source": [
        "**ENCODING CATEGORICAL DATA**"
      ]
    },
    {
      "cell_type": "markdown",
      "metadata": {
        "colab_type": "text",
        "id": "gwb1ap_1rvRz"
      },
      "source": [
        "Encoding the Independent Variable"
      ]
    },
    {
      "cell_type": "code",
      "metadata": {
        "colab_type": "code",
        "id": "khES8Nienpk2",
        "colab": {}
      },
      "source": [
        "#train = pd.get_dummies(train, columns=['Personal or Business'], drop_first=True)\n",
        "#train = pd.get_dummies(train, columns=['Platform Type'], drop_first=True)\n",
        "#train.head()"
      ],
      "execution_count": 0,
      "outputs": []
    },
    {
      "cell_type": "code",
      "metadata": {
        "colab_type": "code",
        "id": "2mL58DjykFYq",
        "colab": {}
      },
      "source": [
        "# Number of times in seconds\n",
        "def time_in_seconds_train(column):\n",
        "    train[column]= pd.to_datetime(train[column])\n",
        "    return (train[column] - pd.to_datetime(pd.to_datetime('today').date())).astype('timedelta64[s]')\n",
        "\n",
        "# converting time in dataset\n",
        "train['Placement - Time']= time_in_seconds_train('Placement - Time')\n",
        "train['Confirmation - Time']= time_in_seconds_train('Confirmation - Time')\n",
        "train['Pickup - Time']= time_in_seconds_train('Pickup - Time')\n",
        "train['Arrival at Pickup - Time']= time_in_seconds_train('Arrival at Pickup - Time')\n",
        "train['Arrival at Destination - Time']= time_in_seconds_train('Arrival at Destination - Time')"
      ],
      "execution_count": 0,
      "outputs": []
    },
    {
      "cell_type": "code",
      "metadata": {
        "id": "vLy35Nq7_azW",
        "colab_type": "code",
        "outputId": "24e57eb9-3aa5-420b-a423-4dc0c97ac465",
        "colab": {
          "base_uri": "https://localhost:8080/",
          "height": 119
        }
      },
      "source": [
        "# Checking how many unique items are in each column of independent variables\n",
        "for col_name in train.columns:\n",
        "  if train[col_name].dtypes == 'object':\n",
        "    unique_out= len(train[col_name].unique())\n",
        "    print(f\"Feature '{col_name}' has {unique_out} unique catergories\")"
      ],
      "execution_count": 98,
      "outputs": [
        {
          "output_type": "stream",
          "text": [
            "Feature 'Order No' has 20505 unique catergories\n",
            "Feature 'User Id' has 3175 unique catergories\n",
            "Feature 'Vehicle Type' has 1 unique catergories\n",
            "Feature 'Personal or Business' has 2 unique catergories\n",
            "Feature 'Rider Id' has 922 unique catergories\n",
            "Feature 'Placement - Time(bins)' has 17 unique catergories\n"
          ],
          "name": "stdout"
        }
      ]
    },
    {
      "cell_type": "code",
      "metadata": {
        "id": "N-QU3G2AmWbl",
        "colab_type": "code",
        "colab": {}
      },
      "source": [
        "# Number of times in seconds for test\n",
        "def time_in_seconds_test(column):\n",
        "    test[column]= pd.to_datetime(test[column])\n",
        "    return (test[column] - pd.to_datetime(pd.to_datetime('today').date())).astype('timedelta64[s]')\n",
        "\n",
        "# Converting time in testset\n",
        "test['Placement - Time']= time_in_seconds_test('Placement - Time')\n",
        "test['Confirmation - Time']= time_in_seconds_test('Confirmation - Time')\n",
        "test['Pickup - Time']= time_in_seconds_test('Pickup - Time')\n",
        "test['Arrival at Pickup - Time']= time_in_seconds_test('Arrival at Pickup - Time')"
      ],
      "execution_count": 0,
      "outputs": []
    },
    {
      "cell_type": "code",
      "metadata": {
        "id": "T5Xo9_T_nLgf",
        "colab_type": "code",
        "outputId": "f8bfd5ed-e3a1-4084-e3a8-36eee8e66e06",
        "colab": {
          "base_uri": "https://localhost:8080/",
          "height": 102
        }
      },
      "source": [
        "# Checking how many unique items are in each column of independent variables\n",
        "for col_name in test.columns:\n",
        "  if test[col_name].dtypes == 'object':\n",
        "    unique_out= len(test[col_name].unique())\n",
        "    print(f\"Feature '{col_name}' has {unique_out} unique catergories\")"
      ],
      "execution_count": 100,
      "outputs": [
        {
          "output_type": "stream",
          "text": [
            "Feature 'Order No' has 7068 unique catergories\n",
            "Feature 'User Id' has 1617 unique catergories\n",
            "Feature 'Vehicle Type' has 1 unique catergories\n",
            "Feature 'Personal or Business' has 2 unique catergories\n",
            "Feature 'Rider Id' has 822 unique catergories\n"
          ],
          "name": "stdout"
        }
      ]
    },
    {
      "cell_type": "code",
      "metadata": {
        "id": "EG_reAqWJBC5",
        "colab_type": "code",
        "outputId": "308729e4-3f4e-4532-f7f4-dc12cb6bf888",
        "colab": {
          "base_uri": "https://localhost:8080/",
          "height": 309
        }
      },
      "source": [
        "# Drop useless columns\n",
        "train= train.drop(['Order No', 'User Id', 'Vehicle Type', 'Rider Id', 'Placement - Time(bins)'], axis=1)\n",
        "\n",
        "# Rearrange columns\n",
        "column_titles= [col for col in train.columns if col != 'Time from Pickup to Arrival'] + ['Time from Pickup to Arrival']\n",
        "train= train.reindex(columns=column_titles)\n",
        "train.head()"
      ],
      "execution_count": 101,
      "outputs": [
        {
          "output_type": "execute_result",
          "data": {
            "text/html": [
              "<div>\n",
              "<style scoped>\n",
              "    .dataframe tbody tr th:only-of-type {\n",
              "        vertical-align: middle;\n",
              "    }\n",
              "\n",
              "    .dataframe tbody tr th {\n",
              "        vertical-align: top;\n",
              "    }\n",
              "\n",
              "    .dataframe thead th {\n",
              "        text-align: right;\n",
              "    }\n",
              "</style>\n",
              "<table border=\"1\" class=\"dataframe\">\n",
              "  <thead>\n",
              "    <tr style=\"text-align: right;\">\n",
              "      <th></th>\n",
              "      <th>Platform Type</th>\n",
              "      <th>Personal or Business</th>\n",
              "      <th>Placement - Day of Month</th>\n",
              "      <th>Placement - Weekday</th>\n",
              "      <th>Placement - Time</th>\n",
              "      <th>Confirmation - Day of Month</th>\n",
              "      <th>Confirmation - Weekday</th>\n",
              "      <th>Confirmation - Time</th>\n",
              "      <th>Arrival at Pickup - Day of Month</th>\n",
              "      <th>Arrival at Pickup - Weekday</th>\n",
              "      <th>Arrival at Pickup - Time</th>\n",
              "      <th>Pickup - Day of Month</th>\n",
              "      <th>Pickup - Weekday</th>\n",
              "      <th>Pickup - Time</th>\n",
              "      <th>Arrival at Destination - Day of Month</th>\n",
              "      <th>Arrival at Destination - Weekday</th>\n",
              "      <th>Arrival at Destination - Time</th>\n",
              "      <th>Distance (KM)</th>\n",
              "      <th>Temperature</th>\n",
              "      <th>Pickup Lat</th>\n",
              "      <th>Pickup Long</th>\n",
              "      <th>Destination Lat</th>\n",
              "      <th>Destination Long</th>\n",
              "      <th>No of Orders</th>\n",
              "      <th>Age</th>\n",
              "      <th>Average Rating</th>\n",
              "      <th>No of Ratings</th>\n",
              "      <th>Time from Pickup to Arrival</th>\n",
              "    </tr>\n",
              "  </thead>\n",
              "  <tbody>\n",
              "    <tr>\n",
              "      <th>0</th>\n",
              "      <td>3</td>\n",
              "      <td>Business</td>\n",
              "      <td>9</td>\n",
              "      <td>5</td>\n",
              "      <td>34546.0</td>\n",
              "      <td>9</td>\n",
              "      <td>5</td>\n",
              "      <td>34810.0</td>\n",
              "      <td>9</td>\n",
              "      <td>5</td>\n",
              "      <td>36287.0</td>\n",
              "      <td>9</td>\n",
              "      <td>5</td>\n",
              "      <td>37650.0</td>\n",
              "      <td>9</td>\n",
              "      <td>5</td>\n",
              "      <td>38395.0</td>\n",
              "      <td>4</td>\n",
              "      <td>20.400000</td>\n",
              "      <td>-1.317755</td>\n",
              "      <td>36.830370</td>\n",
              "      <td>-1.300406</td>\n",
              "      <td>36.829741</td>\n",
              "      <td>1637</td>\n",
              "      <td>1309</td>\n",
              "      <td>13.8</td>\n",
              "      <td>549</td>\n",
              "      <td>745</td>\n",
              "    </tr>\n",
              "    <tr>\n",
              "      <th>1</th>\n",
              "      <td>3</td>\n",
              "      <td>Personal</td>\n",
              "      <td>12</td>\n",
              "      <td>5</td>\n",
              "      <td>40576.0</td>\n",
              "      <td>12</td>\n",
              "      <td>5</td>\n",
              "      <td>41001.0</td>\n",
              "      <td>12</td>\n",
              "      <td>5</td>\n",
              "      <td>42022.0</td>\n",
              "      <td>12</td>\n",
              "      <td>5</td>\n",
              "      <td>42249.0</td>\n",
              "      <td>12</td>\n",
              "      <td>5</td>\n",
              "      <td>44242.0</td>\n",
              "      <td>16</td>\n",
              "      <td>26.400000</td>\n",
              "      <td>-1.351453</td>\n",
              "      <td>36.899315</td>\n",
              "      <td>-1.295004</td>\n",
              "      <td>36.814358</td>\n",
              "      <td>396</td>\n",
              "      <td>339</td>\n",
              "      <td>13.6</td>\n",
              "      <td>69</td>\n",
              "      <td>1993</td>\n",
              "    </tr>\n",
              "    <tr>\n",
              "      <th>2</th>\n",
              "      <td>3</td>\n",
              "      <td>Business</td>\n",
              "      <td>30</td>\n",
              "      <td>2</td>\n",
              "      <td>45565.0</td>\n",
              "      <td>30</td>\n",
              "      <td>2</td>\n",
              "      <td>45764.0</td>\n",
              "      <td>30</td>\n",
              "      <td>2</td>\n",
              "      <td>46174.0</td>\n",
              "      <td>30</td>\n",
              "      <td>2</td>\n",
              "      <td>46383.0</td>\n",
              "      <td>30</td>\n",
              "      <td>2</td>\n",
              "      <td>46838.0</td>\n",
              "      <td>3</td>\n",
              "      <td>23.258889</td>\n",
              "      <td>-1.308284</td>\n",
              "      <td>36.843419</td>\n",
              "      <td>-1.300921</td>\n",
              "      <td>36.828195</td>\n",
              "      <td>1023</td>\n",
              "      <td>242</td>\n",
              "      <td>12.5</td>\n",
              "      <td>114</td>\n",
              "      <td>455</td>\n",
              "    </tr>\n",
              "    <tr>\n",
              "      <th>3</th>\n",
              "      <td>3</td>\n",
              "      <td>Business</td>\n",
              "      <td>15</td>\n",
              "      <td>5</td>\n",
              "      <td>33934.0</td>\n",
              "      <td>15</td>\n",
              "      <td>5</td>\n",
              "      <td>33965.0</td>\n",
              "      <td>15</td>\n",
              "      <td>5</td>\n",
              "      <td>34676.0</td>\n",
              "      <td>15</td>\n",
              "      <td>5</td>\n",
              "      <td>34986.0</td>\n",
              "      <td>15</td>\n",
              "      <td>5</td>\n",
              "      <td>36327.0</td>\n",
              "      <td>9</td>\n",
              "      <td>19.200000</td>\n",
              "      <td>-1.281301</td>\n",
              "      <td>36.832396</td>\n",
              "      <td>-1.257147</td>\n",
              "      <td>36.795063</td>\n",
              "      <td>886</td>\n",
              "      <td>283</td>\n",
              "      <td>14.5</td>\n",
              "      <td>113</td>\n",
              "      <td>1341</td>\n",
              "    </tr>\n",
              "    <tr>\n",
              "      <th>4</th>\n",
              "      <td>1</td>\n",
              "      <td>Personal</td>\n",
              "      <td>13</td>\n",
              "      <td>1</td>\n",
              "      <td>35718.0</td>\n",
              "      <td>13</td>\n",
              "      <td>1</td>\n",
              "      <td>35778.0</td>\n",
              "      <td>13</td>\n",
              "      <td>1</td>\n",
              "      <td>36233.0</td>\n",
              "      <td>13</td>\n",
              "      <td>1</td>\n",
              "      <td>36323.0</td>\n",
              "      <td>13</td>\n",
              "      <td>1</td>\n",
              "      <td>37537.0</td>\n",
              "      <td>9</td>\n",
              "      <td>15.400000</td>\n",
              "      <td>-1.266597</td>\n",
              "      <td>36.792118</td>\n",
              "      <td>-1.295041</td>\n",
              "      <td>36.809817</td>\n",
              "      <td>2311</td>\n",
              "      <td>872</td>\n",
              "      <td>14.1</td>\n",
              "      <td>533</td>\n",
              "      <td>1214</td>\n",
              "    </tr>\n",
              "  </tbody>\n",
              "</table>\n",
              "</div>"
            ],
            "text/plain": [
              "   Platform Type  ... Time from Pickup to Arrival\n",
              "0              3  ...                         745\n",
              "1              3  ...                        1993\n",
              "2              3  ...                         455\n",
              "3              3  ...                        1341\n",
              "4              1  ...                        1214\n",
              "\n",
              "[5 rows x 28 columns]"
            ]
          },
          "metadata": {
            "tags": []
          },
          "execution_count": 101
        }
      ]
    },
    {
      "cell_type": "code",
      "metadata": {
        "id": "spFER_l-ok8c",
        "colab_type": "code",
        "outputId": "9b271d1c-6827-44a0-ca41-0dab1145c4da",
        "colab": {
          "base_uri": "https://localhost:8080/",
          "height": 204
        }
      },
      "source": [
        "test.columns"
      ],
      "execution_count": 102,
      "outputs": [
        {
          "output_type": "execute_result",
          "data": {
            "text/plain": [
              "Index(['Order No', 'User Id', 'Vehicle Type', 'Platform Type',\n",
              "       'Personal or Business', 'Placement - Day of Month',\n",
              "       'Placement - Weekday', 'Placement - Time',\n",
              "       'Confirmation - Day of Month', 'Confirmation - Weekday',\n",
              "       'Confirmation - Time', 'Arrival at Pickup - Day of Month',\n",
              "       'Arrival at Pickup - Weekday', 'Arrival at Pickup - Time',\n",
              "       'Pickup - Day of Month', 'Pickup - Weekday', 'Pickup - Time',\n",
              "       'Distance (KM)', 'Temperature', 'Pickup Lat', 'Pickup Long',\n",
              "       'Destination Lat', 'Destination Long', 'Rider Id', 'No of Orders',\n",
              "       'Age', 'Average Rating', 'No of Ratings'],\n",
              "      dtype='object')"
            ]
          },
          "metadata": {
            "tags": []
          },
          "execution_count": 102
        }
      ]
    },
    {
      "cell_type": "code",
      "metadata": {
        "id": "mNdKPySynx9v",
        "colab_type": "code",
        "colab": {}
      },
      "source": [
        "# Drop useless columns in test\n",
        "test= test.drop(['Order No', 'User Id', 'Vehicle Type', 'Rider Id', 'Placement - Time'], axis=1)\n",
        "\n",
        "# Rearrange columns\n",
        "column_titles= list(test.columns)\n",
        "y= train.iloc[:, -1].values\n",
        "train= train.reindex(columns=column_titles)\n"
      ],
      "execution_count": 0,
      "outputs": []
    },
    {
      "cell_type": "markdown",
      "metadata": {
        "colab_type": "text",
        "id": "07CBNBvI7sru"
      },
      "source": [
        "Encoding the Dependent Variable"
      ]
    },
    {
      "cell_type": "code",
      "metadata": {
        "id": "deKcyNSiKk0M",
        "colab_type": "code",
        "colab": {
          "base_uri": "https://localhost:8080/",
          "height": 170
        },
        "outputId": "dbcf0300-9163-4e04-8957-eb77b81e54bf"
      },
      "source": [
        "train.columns"
      ],
      "execution_count": 104,
      "outputs": [
        {
          "output_type": "execute_result",
          "data": {
            "text/plain": [
              "Index(['Platform Type', 'Personal or Business', 'Placement - Day of Month',\n",
              "       'Placement - Weekday', 'Confirmation - Day of Month',\n",
              "       'Confirmation - Weekday', 'Confirmation - Time',\n",
              "       'Arrival at Pickup - Day of Month', 'Arrival at Pickup - Weekday',\n",
              "       'Arrival at Pickup - Time', 'Pickup - Day of Month', 'Pickup - Weekday',\n",
              "       'Pickup - Time', 'Distance (KM)', 'Temperature', 'Pickup Lat',\n",
              "       'Pickup Long', 'Destination Lat', 'Destination Long', 'No of Orders',\n",
              "       'Age', 'Average Rating', 'No of Ratings'],\n",
              "      dtype='object')"
            ]
          },
          "metadata": {
            "tags": []
          },
          "execution_count": 104
        }
      ]
    },
    {
      "cell_type": "code",
      "metadata": {
        "id": "ua1R5a1eOBex",
        "colab_type": "code",
        "outputId": "1302b6f6-36f9-4459-a555-47cf59eab4cc",
        "colab": {
          "base_uri": "https://localhost:8080/",
          "height": 136
        }
      },
      "source": [
        "# Create metrix of features \n",
        "X= train.values\n",
        "#y= train.iloc[:, -1].values\n",
        "\n",
        "# Encode categorival data\n",
        "le= LabelEncoder()\n",
        "X[:, 1]= le.fit_transform(X[:, 1])\n",
        "\n",
        "ct= ColumnTransformer(transformers=[('encoder', OneHotEncoder(), [0])], remainder='passthrough')\n",
        "X= np.array(ct.fit_transform(X))\n",
        "print(X)"
      ],
      "execution_count": 105,
      "outputs": [
        {
          "output_type": "stream",
          "text": [
            "[[0.0 0.0 1.0 ... 1309 13.8 549]\n",
            " [0.0 0.0 1.0 ... 339 13.6 69]\n",
            " [0.0 0.0 1.0 ... 242 12.5 114]\n",
            " ...\n",
            " [0.0 0.0 1.0 ... 473 13.8 29]\n",
            " [1.0 0.0 0.0 ... 1821 14.0 1101]\n",
            " [0.0 0.0 1.0 ... 286 13.6 70]]\n"
          ],
          "name": "stdout"
        }
      ]
    },
    {
      "cell_type": "code",
      "metadata": {
        "id": "lFaW9Qz8KSgi",
        "colab_type": "code",
        "colab": {
          "base_uri": "https://localhost:8080/",
          "height": 34
        },
        "outputId": "898f51f0-a3c2-4a18-8f77-5c8d57d6124b"
      },
      "source": [
        "X.shape"
      ],
      "execution_count": 106,
      "outputs": [
        {
          "output_type": "execute_result",
          "data": {
            "text/plain": [
              "(20505, 26)"
            ]
          },
          "metadata": {
            "tags": []
          },
          "execution_count": 106
        }
      ]
    },
    {
      "cell_type": "code",
      "metadata": {
        "colab_type": "code",
        "id": "miWZYl-c7RwY",
        "outputId": "52bf0f49-700d-4fc0-bc65-80917a933f50",
        "colab": {
          "base_uri": "https://localhost:8080/",
          "height": 34
        }
      },
      "source": [
        "print(y)"
      ],
      "execution_count": 107,
      "outputs": [
        {
          "output_type": "stream",
          "text": [
            "[ 745 1993  455 ... 2953 1380 2128]\n"
          ],
          "name": "stdout"
        }
      ]
    },
    {
      "cell_type": "code",
      "metadata": {
        "id": "6wwyM6r0qB5Z",
        "colab_type": "code",
        "outputId": "108ecf0c-b71b-4933-f17f-e7bff22a1486",
        "colab": {
          "base_uri": "https://localhost:8080/",
          "height": 238
        }
      },
      "source": [
        "# Create metrix of features for test \n",
        "Xtest= test\n",
        "#y= test.iloc[:, -1].values\n",
        "\n",
        "# Encode categorival data\n",
        "le= LabelEncoder()\n",
        "Xtest.iloc[:, 1]= le.fit_transform(Xtest.iloc[:, 1])\n",
        "\n",
        "ct= ColumnTransformer(transformers=[('encoder', OneHotEncoder(), [0])], remainder='passthrough')\n",
        "Xtest= np.array(ct.fit_transform(Xtest))\n",
        "Xtest"
      ],
      "execution_count": 108,
      "outputs": [
        {
          "output_type": "execute_result",
          "data": {
            "text/plain": [
              "array([[0.000e+00, 0.000e+00, 1.000e+00, ..., 1.511e+03, 1.330e+01,\n",
              "        1.710e+02],\n",
              "       [0.000e+00, 0.000e+00, 1.000e+00, ..., 2.730e+02, 1.440e+01,\n",
              "        4.500e+01],\n",
              "       [0.000e+00, 0.000e+00, 1.000e+00, ..., 4.600e+02, 1.310e+01,\n",
              "        6.700e+01],\n",
              "       ...,\n",
              "       [0.000e+00, 0.000e+00, 1.000e+00, ..., 1.337e+03, 1.370e+01,\n",
              "        4.410e+02],\n",
              "       [0.000e+00, 0.000e+00, 1.000e+00, ..., 8.780e+02, 1.410e+01,\n",
              "        6.600e+01],\n",
              "       [0.000e+00, 0.000e+00, 1.000e+00, ..., 2.970e+02, 1.400e+01,\n",
              "        1.080e+02]])"
            ]
          },
          "metadata": {
            "tags": []
          },
          "execution_count": 108
        }
      ]
    },
    {
      "cell_type": "markdown",
      "metadata": {
        "colab_type": "text",
        "id": "7qNjkTjq-tdj"
      },
      "source": [
        "**Splitting the dataset into the Training set and Test set**"
      ]
    },
    {
      "cell_type": "code",
      "metadata": {
        "colab_type": "code",
        "id": "vfQ2tRMgjIOu",
        "colab": {}
      },
      "source": [
        "X_train, X_test, y_train, y_test= train_test_split(X, y, test_size = 0.2, random_state = 1)"
      ],
      "execution_count": 0,
      "outputs": []
    },
    {
      "cell_type": "markdown",
      "metadata": {
        "colab_type": "text",
        "id": "OFj-VRg-CGol"
      },
      "source": [
        "**Feature Scaling**"
      ]
    },
    {
      "cell_type": "code",
      "metadata": {
        "id": "enWXLLqaPZ4x",
        "colab_type": "code",
        "outputId": "f03d38e7-0560-42dc-a8e2-12c532b98608",
        "colab": {
          "base_uri": "https://localhost:8080/",
          "height": 34
        }
      },
      "source": [
        "train.isnull().any().all()"
      ],
      "execution_count": 110,
      "outputs": [
        {
          "output_type": "execute_result",
          "data": {
            "text/plain": [
              "False"
            ]
          },
          "metadata": {
            "tags": []
          },
          "execution_count": 110
        }
      ]
    },
    {
      "cell_type": "code",
      "metadata": {
        "id": "p1BG3ocyep_A",
        "colab_type": "code",
        "colab": {}
      },
      "source": [
        "Xx = train.iloc[:, :-1]\n",
        "Yy = train.iloc[:, -1]"
      ],
      "execution_count": 0,
      "outputs": []
    },
    {
      "cell_type": "code",
      "metadata": {
        "id": "GNDiZ7MQJ5zN",
        "colab_type": "code",
        "colab": {
          "base_uri": "https://localhost:8080/",
          "height": 34
        },
        "outputId": "4614678c-b2df-4078-ea70-b18720dcbdc1"
      },
      "source": [
        "Xx.shape"
      ],
      "execution_count": 112,
      "outputs": [
        {
          "output_type": "execute_result",
          "data": {
            "text/plain": [
              "(20505, 22)"
            ]
          },
          "metadata": {
            "tags": []
          },
          "execution_count": 112
        }
      ]
    },
    {
      "cell_type": "code",
      "metadata": {
        "id": "AtsFec4uMo-2",
        "colab_type": "code",
        "outputId": "959fd48b-4454-4953-eee4-039a27c12bb1",
        "colab": {
          "base_uri": "https://localhost:8080/",
          "height": 136
        }
      },
      "source": [
        "RFR= RandomForestRegressor(n_jobs=-1, max_depth=5)\n",
        "RFR.fit(X_train, y_train)"
      ],
      "execution_count": 113,
      "outputs": [
        {
          "output_type": "execute_result",
          "data": {
            "text/plain": [
              "RandomForestRegressor(bootstrap=True, ccp_alpha=0.0, criterion='mse',\n",
              "                      max_depth=5, max_features='auto', max_leaf_nodes=None,\n",
              "                      max_samples=None, min_impurity_decrease=0.0,\n",
              "                      min_impurity_split=None, min_samples_leaf=1,\n",
              "                      min_samples_split=2, min_weight_fraction_leaf=0.0,\n",
              "                      n_estimators=100, n_jobs=-1, oob_score=False,\n",
              "                      random_state=None, verbose=0, warm_start=False)"
            ]
          },
          "metadata": {
            "tags": []
          },
          "execution_count": 113
        }
      ]
    },
    {
      "cell_type": "code",
      "metadata": {
        "colab_type": "code",
        "id": "FDS3FZon-_S9",
        "colab": {}
      },
      "source": [
        "#sc_X= StandardScaler()\n",
        "#X_train[:,5:]= sc_X.fit_transform(X_train[:,5:])\n",
        "#X_test[:,5:]= sc_X.transform(X_test[:,5:])"
      ],
      "execution_count": 0,
      "outputs": []
    },
    {
      "cell_type": "markdown",
      "metadata": {
        "id": "LrWIM3OBcaJh",
        "colab_type": "text"
      },
      "source": [
        "# **3.1 Fit model**"
      ]
    },
    {
      "cell_type": "code",
      "metadata": {
        "id": "YvoB1b4CgBcw",
        "colab_type": "code",
        "outputId": "2edafbd4-c3c6-465b-9af3-394ae5ee1318",
        "colab": {
          "base_uri": "https://localhost:8080/",
          "height": 34
        }
      },
      "source": [
        "y_pred = RFR.predict(X_test)\n",
        "results = np.sqrt(mse(y_test, y_pred))\n",
        "results"
      ],
      "execution_count": 115,
      "outputs": [
        {
          "output_type": "execute_result",
          "data": {
            "text/plain": [
              "778.673665896496"
            ]
          },
          "metadata": {
            "tags": []
          },
          "execution_count": 115
        }
      ]
    },
    {
      "cell_type": "markdown",
      "metadata": {
        "id": "7JxJg_1rdlLG",
        "colab_type": "text"
      },
      "source": [
        "# **4.1 Perfomance evaluation**"
      ]
    },
    {
      "cell_type": "code",
      "metadata": {
        "id": "PIJL_5TGg0R4",
        "colab_type": "code",
        "colab": {
          "base_uri": "https://localhost:8080/",
          "height": 204
        },
        "outputId": "dbedec25-9fc0-4592-ce1a-58e6d2ae27af"
      },
      "source": [
        "final_pred = RFR.predict(Xtest)\n",
        "submission = pd.read_csv('SampleSubmission.csv')\n",
        "submission.head()\n"
      ],
      "execution_count": 116,
      "outputs": [
        {
          "output_type": "execute_result",
          "data": {
            "text/html": [
              "<div>\n",
              "<style scoped>\n",
              "    .dataframe tbody tr th:only-of-type {\n",
              "        vertical-align: middle;\n",
              "    }\n",
              "\n",
              "    .dataframe tbody tr th {\n",
              "        vertical-align: top;\n",
              "    }\n",
              "\n",
              "    .dataframe thead th {\n",
              "        text-align: right;\n",
              "    }\n",
              "</style>\n",
              "<table border=\"1\" class=\"dataframe\">\n",
              "  <thead>\n",
              "    <tr style=\"text-align: right;\">\n",
              "      <th></th>\n",
              "      <th>Order_No</th>\n",
              "      <th>Time from Pickup to Arrival</th>\n",
              "    </tr>\n",
              "  </thead>\n",
              "  <tbody>\n",
              "    <tr>\n",
              "      <th>0</th>\n",
              "      <td>Order_No_19248</td>\n",
              "      <td>567.0</td>\n",
              "    </tr>\n",
              "    <tr>\n",
              "      <th>1</th>\n",
              "      <td>Order_No_12736</td>\n",
              "      <td>4903.0</td>\n",
              "    </tr>\n",
              "    <tr>\n",
              "      <th>2</th>\n",
              "      <td>Order_No_768</td>\n",
              "      <td>5649.0</td>\n",
              "    </tr>\n",
              "    <tr>\n",
              "      <th>3</th>\n",
              "      <td>Order_No_15332</td>\n",
              "      <td>NaN</td>\n",
              "    </tr>\n",
              "    <tr>\n",
              "      <th>4</th>\n",
              "      <td>Order_No_21373</td>\n",
              "      <td>NaN</td>\n",
              "    </tr>\n",
              "  </tbody>\n",
              "</table>\n",
              "</div>"
            ],
            "text/plain": [
              "         Order_No  Time from Pickup to Arrival\n",
              "0  Order_No_19248                        567.0\n",
              "1  Order_No_12736                       4903.0\n",
              "2    Order_No_768                       5649.0\n",
              "3  Order_No_15332                          NaN\n",
              "4  Order_No_21373                          NaN"
            ]
          },
          "metadata": {
            "tags": []
          },
          "execution_count": 116
        }
      ]
    },
    {
      "cell_type": "code",
      "metadata": {
        "id": "K6cDJiqKhM_F",
        "colab_type": "code",
        "colab": {}
      },
      "source": [
        "final_pred[3:]\n",
        "for row in range(3, len(submission)):\n",
        "    submission.loc[row,'Time from Pickup to Arrival'] = final_pred[row]\n",
        "submission.head(10)\n",
        "submission.to_csv('Forest_model.csv', index=False)"
      ],
      "execution_count": 0,
      "outputs": []
    },
    {
      "cell_type": "markdown",
      "metadata": {
        "id": "1XPMDEc8maYM",
        "colab_type": "text"
      },
      "source": [
        "# **Model 2**"
      ]
    },
    {
      "cell_type": "code",
      "metadata": {
        "id": "87-QD7KRpN92",
        "colab_type": "code",
        "colab": {}
      },
      "source": [
        ""
      ],
      "execution_count": 0,
      "outputs": []
    },
    {
      "cell_type": "markdown",
      "metadata": {
        "colab_type": "text",
        "id": "hjy9SUx-pUb2"
      },
      "source": [
        "# **3.2 Fit model 2**"
      ]
    },
    {
      "cell_type": "code",
      "metadata": {
        "id": "gXGNz4ilhfUs",
        "colab_type": "code",
        "outputId": "147bf2f1-d2f1-4e1d-c6fa-2538b7e77cc6",
        "colab": {
          "base_uri": "https://localhost:8080/",
          "height": 204
        }
      },
      "source": [
        "train_df = train[['Distance (KM)', 'Time from Pickup to Arrival']]\n",
        "test_df = test[['Distance (KM)']]\n",
        "train_df.head()"
      ],
      "execution_count": 0,
      "outputs": [
        {
          "output_type": "execute_result",
          "data": {
            "text/html": [
              "<div>\n",
              "<style scoped>\n",
              "    .dataframe tbody tr th:only-of-type {\n",
              "        vertical-align: middle;\n",
              "    }\n",
              "\n",
              "    .dataframe tbody tr th {\n",
              "        vertical-align: top;\n",
              "    }\n",
              "\n",
              "    .dataframe thead th {\n",
              "        text-align: right;\n",
              "    }\n",
              "</style>\n",
              "<table border=\"1\" class=\"dataframe\">\n",
              "  <thead>\n",
              "    <tr style=\"text-align: right;\">\n",
              "      <th></th>\n",
              "      <th>Distance (KM)</th>\n",
              "      <th>Time from Pickup to Arrival</th>\n",
              "    </tr>\n",
              "  </thead>\n",
              "  <tbody>\n",
              "    <tr>\n",
              "      <th>0</th>\n",
              "      <td>4.0</td>\n",
              "      <td>745.0</td>\n",
              "    </tr>\n",
              "    <tr>\n",
              "      <th>1</th>\n",
              "      <td>16.0</td>\n",
              "      <td>1993.0</td>\n",
              "    </tr>\n",
              "    <tr>\n",
              "      <th>2</th>\n",
              "      <td>3.0</td>\n",
              "      <td>455.0</td>\n",
              "    </tr>\n",
              "    <tr>\n",
              "      <th>3</th>\n",
              "      <td>9.0</td>\n",
              "      <td>1341.0</td>\n",
              "    </tr>\n",
              "    <tr>\n",
              "      <th>4</th>\n",
              "      <td>9.0</td>\n",
              "      <td>1214.0</td>\n",
              "    </tr>\n",
              "  </tbody>\n",
              "</table>\n",
              "</div>"
            ],
            "text/plain": [
              "   Distance (KM)  Time from Pickup to Arrival\n",
              "0            4.0                        745.0\n",
              "1           16.0                       1993.0\n",
              "2            3.0                        455.0\n",
              "3            9.0                       1341.0\n",
              "4            9.0                       1214.0"
            ]
          },
          "metadata": {
            "tags": []
          },
          "execution_count": 442
        }
      ]
    },
    {
      "cell_type": "markdown",
      "metadata": {
        "colab_type": "text",
        "id": "mVNSL4FBnkXn"
      },
      "source": [
        "**Splitting the dataset into the Training set and Test set**"
      ]
    },
    {
      "cell_type": "code",
      "metadata": {
        "colab_type": "code",
        "id": "O5W8geMdn0VF",
        "colab": {}
      },
      "source": [
        "X_train, X_test, y_train, y_test= train_test_split(train_df[['Distance (KM)']], train_df[['Time from Pickup to Arrival']], test_size = 0.2, random_state = 1)"
      ],
      "execution_count": 0,
      "outputs": []
    },
    {
      "cell_type": "code",
      "metadata": {
        "id": "VxhDv41Phwj-",
        "colab_type": "code",
        "outputId": "7c3e2b5f-b910-4122-f1ed-6862981064d6",
        "colab": {
          "base_uri": "https://localhost:8080/",
          "height": 309
        }
      },
      "source": [
        "test.head()"
      ],
      "execution_count": 0,
      "outputs": [
        {
          "output_type": "execute_result",
          "data": {
            "text/html": [
              "<div>\n",
              "<style scoped>\n",
              "    .dataframe tbody tr th:only-of-type {\n",
              "        vertical-align: middle;\n",
              "    }\n",
              "\n",
              "    .dataframe tbody tr th {\n",
              "        vertical-align: top;\n",
              "    }\n",
              "\n",
              "    .dataframe thead th {\n",
              "        text-align: right;\n",
              "    }\n",
              "</style>\n",
              "<table border=\"1\" class=\"dataframe\">\n",
              "  <thead>\n",
              "    <tr style=\"text-align: right;\">\n",
              "      <th></th>\n",
              "      <th>Order No</th>\n",
              "      <th>User Id</th>\n",
              "      <th>Vehicle Type</th>\n",
              "      <th>Platform Type</th>\n",
              "      <th>Personal or Business</th>\n",
              "      <th>Placement - Day of Month</th>\n",
              "      <th>Placement - Weekday</th>\n",
              "      <th>Placement - Time</th>\n",
              "      <th>Confirmation - Day of Month</th>\n",
              "      <th>Confirmation - Weekday</th>\n",
              "      <th>Confirmation - Time</th>\n",
              "      <th>Arrival at Pickup - Day of Month</th>\n",
              "      <th>Arrival at Pickup - Weekday</th>\n",
              "      <th>Arrival at Pickup - Time</th>\n",
              "      <th>Pickup - Day of Month</th>\n",
              "      <th>Pickup - Weekday</th>\n",
              "      <th>Pickup - Time</th>\n",
              "      <th>Distance (KM)</th>\n",
              "      <th>Temperature</th>\n",
              "      <th>Pickup Lat</th>\n",
              "      <th>Pickup Long</th>\n",
              "      <th>Destination Lat</th>\n",
              "      <th>Destination Long</th>\n",
              "      <th>Rider Id</th>\n",
              "      <th>No of Orders</th>\n",
              "      <th>Age</th>\n",
              "      <th>Average Rating</th>\n",
              "      <th>No of Ratings</th>\n",
              "    </tr>\n",
              "  </thead>\n",
              "  <tbody>\n",
              "    <tr>\n",
              "      <th>0</th>\n",
              "      <td>Order_No_19248</td>\n",
              "      <td>User_Id_3355</td>\n",
              "      <td>Bike</td>\n",
              "      <td>3</td>\n",
              "      <td>Business</td>\n",
              "      <td>27</td>\n",
              "      <td>3</td>\n",
              "      <td>60250.0</td>\n",
              "      <td>27</td>\n",
              "      <td>3</td>\n",
              "      <td>60269.0</td>\n",
              "      <td>27</td>\n",
              "      <td>3</td>\n",
              "      <td>60784.0</td>\n",
              "      <td>27</td>\n",
              "      <td>3</td>\n",
              "      <td>61607.0</td>\n",
              "      <td>8</td>\n",
              "      <td>23.274194</td>\n",
              "      <td>-1.333275</td>\n",
              "      <td>36.870815</td>\n",
              "      <td>-1.305249</td>\n",
              "      <td>36.822390</td>\n",
              "      <td>Rider_Id_192</td>\n",
              "      <td>439</td>\n",
              "      <td>1511</td>\n",
              "      <td>13.3</td>\n",
              "      <td>171</td>\n",
              "    </tr>\n",
              "    <tr>\n",
              "      <th>1</th>\n",
              "      <td>Order_No_12736</td>\n",
              "      <td>User_Id_3647</td>\n",
              "      <td>Bike</td>\n",
              "      <td>3</td>\n",
              "      <td>Business</td>\n",
              "      <td>17</td>\n",
              "      <td>5</td>\n",
              "      <td>46655.0</td>\n",
              "      <td>17</td>\n",
              "      <td>5</td>\n",
              "      <td>46757.0</td>\n",
              "      <td>17</td>\n",
              "      <td>5</td>\n",
              "      <td>48027.0</td>\n",
              "      <td>17</td>\n",
              "      <td>5</td>\n",
              "      <td>48337.0</td>\n",
              "      <td>5</td>\n",
              "      <td>23.274194</td>\n",
              "      <td>-1.272639</td>\n",
              "      <td>36.794723</td>\n",
              "      <td>-1.277007</td>\n",
              "      <td>36.823907</td>\n",
              "      <td>Rider_Id_868</td>\n",
              "      <td>488</td>\n",
              "      <td>273</td>\n",
              "      <td>14.4</td>\n",
              "      <td>45</td>\n",
              "    </tr>\n",
              "    <tr>\n",
              "      <th>2</th>\n",
              "      <td>Order_No_768</td>\n",
              "      <td>User_Id_2154</td>\n",
              "      <td>Bike</td>\n",
              "      <td>3</td>\n",
              "      <td>Business</td>\n",
              "      <td>27</td>\n",
              "      <td>4</td>\n",
              "      <td>40094.0</td>\n",
              "      <td>27</td>\n",
              "      <td>4</td>\n",
              "      <td>41105.0</td>\n",
              "      <td>27</td>\n",
              "      <td>4</td>\n",
              "      <td>41600.0</td>\n",
              "      <td>27</td>\n",
              "      <td>4</td>\n",
              "      <td>43074.0</td>\n",
              "      <td>5</td>\n",
              "      <td>22.800000</td>\n",
              "      <td>-1.290894</td>\n",
              "      <td>36.822971</td>\n",
              "      <td>-1.276574</td>\n",
              "      <td>36.851365</td>\n",
              "      <td>Rider_Id_26</td>\n",
              "      <td>833</td>\n",
              "      <td>460</td>\n",
              "      <td>13.1</td>\n",
              "      <td>67</td>\n",
              "    </tr>\n",
              "    <tr>\n",
              "      <th>3</th>\n",
              "      <td>Order_No_15332</td>\n",
              "      <td>User_Id_2910</td>\n",
              "      <td>Bike</td>\n",
              "      <td>3</td>\n",
              "      <td>Business</td>\n",
              "      <td>17</td>\n",
              "      <td>1</td>\n",
              "      <td>49895.0</td>\n",
              "      <td>17</td>\n",
              "      <td>1</td>\n",
              "      <td>50007.0</td>\n",
              "      <td>17</td>\n",
              "      <td>1</td>\n",
              "      <td>50561.0</td>\n",
              "      <td>17</td>\n",
              "      <td>1</td>\n",
              "      <td>51412.0</td>\n",
              "      <td>5</td>\n",
              "      <td>24.500000</td>\n",
              "      <td>-1.290503</td>\n",
              "      <td>36.809646</td>\n",
              "      <td>-1.303382</td>\n",
              "      <td>36.790658</td>\n",
              "      <td>Rider_Id_685</td>\n",
              "      <td>487</td>\n",
              "      <td>560</td>\n",
              "      <td>13.7</td>\n",
              "      <td>44</td>\n",
              "    </tr>\n",
              "    <tr>\n",
              "      <th>4</th>\n",
              "      <td>Order_No_21373</td>\n",
              "      <td>User_Id_1205</td>\n",
              "      <td>Bike</td>\n",
              "      <td>3</td>\n",
              "      <td>Business</td>\n",
              "      <td>11</td>\n",
              "      <td>2</td>\n",
              "      <td>41428.0</td>\n",
              "      <td>11</td>\n",
              "      <td>2</td>\n",
              "      <td>41685.0</td>\n",
              "      <td>11</td>\n",
              "      <td>2</td>\n",
              "      <td>42439.0</td>\n",
              "      <td>11</td>\n",
              "      <td>2</td>\n",
              "      <td>42964.0</td>\n",
              "      <td>6</td>\n",
              "      <td>24.400000</td>\n",
              "      <td>-1.281081</td>\n",
              "      <td>36.814423</td>\n",
              "      <td>-1.266467</td>\n",
              "      <td>36.792161</td>\n",
              "      <td>Rider_Id_858</td>\n",
              "      <td>4761</td>\n",
              "      <td>1120</td>\n",
              "      <td>14.1</td>\n",
              "      <td>1010</td>\n",
              "    </tr>\n",
              "  </tbody>\n",
              "</table>\n",
              "</div>"
            ],
            "text/plain": [
              "         Order No       User Id  ... Average Rating  No of Ratings\n",
              "0  Order_No_19248  User_Id_3355  ...           13.3            171\n",
              "1  Order_No_12736  User_Id_3647  ...           14.4             45\n",
              "2    Order_No_768  User_Id_2154  ...           13.1             67\n",
              "3  Order_No_15332  User_Id_2910  ...           13.7             44\n",
              "4  Order_No_21373  User_Id_1205  ...           14.1           1010\n",
              "\n",
              "[5 rows x 28 columns]"
            ]
          },
          "metadata": {
            "tags": []
          },
          "execution_count": 423
        }
      ]
    },
    {
      "cell_type": "code",
      "metadata": {
        "id": "hKzwcE8JcOZW",
        "colab_type": "code",
        "outputId": "d201b0e6-e38d-40b7-a773-62465e64d104",
        "colab": {
          "base_uri": "https://localhost:8080/",
          "height": 34
        }
      },
      "source": [
        "X = train_df[['Distance (KM)']]\n",
        "#y = train_df[['Time from Pickup to Arrival']]\n",
        "lr_model = LinearRegression()\n",
        "lr_model.fit(X_train, y_train)\n",
        "y_pred = lr_model.predict(X_test)\n",
        "results = np.sqrt(mse(y_test, y_pred))\n",
        "results"
      ],
      "execution_count": 0,
      "outputs": [
        {
          "output_type": "execute_result",
          "data": {
            "text/plain": [
              "788.1486757287727"
            ]
          },
          "metadata": {
            "tags": []
          },
          "execution_count": 444
        }
      ]
    },
    {
      "cell_type": "markdown",
      "metadata": {
        "colab_type": "text",
        "id": "rAYTyLAoonMq"
      },
      "source": [
        "# **4.2 Perfomance evaluation for model 2**"
      ]
    },
    {
      "cell_type": "code",
      "metadata": {
        "id": "U0up2Hb2dVt-",
        "colab_type": "code",
        "colab": {}
      },
      "source": [
        "final_pred = lr_model.predict(test_df)\n",
        "submission = pd.read_csv('SampleSubmission.csv')\n",
        "submission.head()\n",
        "final_pred[3:]\n",
        "for row in range(3, len(submission)):\n",
        "    submission.loc[row,'Time from Pickup to Arrival'] = final_pred[row:][0][0]\n",
        "submission.head(10)\n",
        "submission.to_csv('linear_model.csv', index=False)"
      ],
      "execution_count": 0,
      "outputs": []
    },
    {
      "cell_type": "markdown",
      "metadata": {
        "colab_type": "text",
        "id": "GwBRAmveCpzT"
      },
      "source": [
        "# **5. Model analysis**"
      ]
    },
    {
      "cell_type": "markdown",
      "metadata": {
        "id": "Oh6EhswCeiWO",
        "colab_type": "text"
      },
      "source": [
        "## Conclusion"
      ]
    },
    {
      "cell_type": "markdown",
      "metadata": {
        "id": "yn3ege8Mk4Qe",
        "colab_type": "text"
      },
      "source": [
        "The regression model has worked best in this notebook"
      ]
    }
  ]
}