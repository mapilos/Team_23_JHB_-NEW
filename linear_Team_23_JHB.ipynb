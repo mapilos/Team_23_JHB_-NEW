{
  "nbformat": 4,
  "nbformat_minor": 0,
  "metadata": {
    "colab": {
      "name": "linear_Team_23_JHB.ipynb",
      "provenance": [],
      "collapsed_sections": [],
      "toc_visible": true,
      "include_colab_link": true
    },
    "kernelspec": {
      "display_name": "Python 3",
      "language": "python",
      "name": "python3"
    },
    "language_info": {
      "codemirror_mode": {
        "name": "ipython",
        "version": 3
      },
      "file_extension": ".py",
      "mimetype": "text/x-python",
      "name": "python",
      "nbconvert_exporter": "python",
      "pygments_lexer": "ipython3",
      "version": "3.7.4"
    }
  },
  "cells": [
    {
      "cell_type": "markdown",
      "metadata": {
        "id": "view-in-github",
        "colab_type": "text"
      },
      "source": [
        "<a href=\"https://colab.research.google.com/github/mapilos/Team_23_JHB_-NEW/blob/master/linear_Team_23_JHB.ipynb\" target=\"_parent\"><img src=\"https://colab.research.google.com/assets/colab-badge.svg\" alt=\"Open In Colab\"/></a>"
      ]
    },
    {
      "cell_type": "markdown",
      "metadata": {
        "colab_type": "text",
        "id": "zpglp6FxzVNH"
      },
      "source": [
        "  **Regression Predict** "
      ]
    },
    {
      "cell_type": "markdown",
      "metadata": {
        "colab_type": "text",
        "id": "79y1VXVMv4jv"
      },
      "source": [
        "Team_23_JHB_#New "
      ]
    },
    {
      "cell_type": "markdown",
      "metadata": {
        "colab_type": "text",
        "id": "asLyF4xZrbGv"
      },
      "source": [
        "****"
      ]
    },
    {
      "cell_type": "markdown",
      "metadata": {
        "colab_type": "text",
        "id": "3mSv0WwFEuN-"
      },
      "source": [
        "![alt text](https://drive.google.com/uc?id=1o1q28lb0yiJ8ijoUGjcW3DrK45FF1dKq)"
      ]
    },
    {
      "cell_type": "markdown",
      "metadata": {
        "colab_type": "text",
        "id": "MgOfGVz50Afd"
      },
      "source": [
        "## **Table of contants**\n",
        "\n",
        "1.   **Introduction**\n",
        ">* Project description\n",
        ">* Variables\n",
        "\n",
        "2.    **Data preprocessing tools**\n",
        ">* Importing the libraries\n",
        ">* Importing the datasets\n",
        ">*Merging datasets\n",
        ">* Data cleaning\n",
        ">*Exploratory data analysis\n",
        ">* Data preprocessing\n",
        "\n",
        "3. **Fit Model**\n",
        "\n",
        "4. **Perfomance evaluation**\n",
        "\n",
        "5. **Model analysis**\n",
        ">* Conclusion\n"
      ]
    },
    {
      "cell_type": "markdown",
      "metadata": {
        "colab_type": "text",
        "id": "9RXcmm625iWV"
      },
      "source": [
        "# **1. Introduction**\n",
        "#### Project description\n",
        "\n",
        "The Zindi challenge, hosted by Sendy in partnership with insight2impact facility, aims to build a regression model that will predict the estimated time of delivery of orders, from the point of driver pickup to the point of arrival at final destination. The solution will help Sendy enhance customer communication and improve the reliability of its service; which will ultimately improve customer experience.\n",
        "\n",
        "Regression is a measure of the relation between the mean value of a dependent variable (y) and corresponding values of the independent variable (x)\n",
        "\n",
        "##Variables\n",
        "\n",
        "**Order details**\n",
        ">* order No: unique number indentifying the order\n",
        ">* User Id: Unique number indefying the customer\n",
        ">* Vehycle Type: Type of transport used by the rider(e.g bike)\n",
        ">* Platform Type: What used to place order\n",
        ">* Personal or Business: Customer type\n",
        "\n",
        "**Placement times**: placing of order by customer*\n",
        ">* Placement: Day of month\n",
        ">* Placement: Weekday\n",
        ">* Placement: Time\n",
        "\n",
        "**Confirmation times**: confirmation of order by rider\n",
        ">* Confirmation: Day of month\n",
        ">* Confirmation: Weekday\n",
        ">* Confirmation: Time\n",
        "\n",
        "**Arrival at pickup times**: rider arrived at the location to pickup order\n",
        ">* Arrival at pickup: Day of month\n",
        ">* Arrival at pickup: Weekday\n",
        ">* Arrival at pickup: Time\n",
        "\n",
        "**Pickup times**: rider picked up the order\n",
        ">* Pickup: Day of month\n",
        ">* Pickup: Weekday\n",
        ">* Pickup: Time\n",
        "\n",
        "**Arrival at destination times**: arrival of rider to customer location\n",
        ">* Arrival at delivery: Day of month\n",
        ">* Arrival at delivery: Weekday\n",
        ">* Arrival at delivery: Time\n",
        ">* Distance covered (KM): The distance between Pickup and Destination \n",
        ">* Temperature\n",
        ">* Precipitation in Millimiters\n",
        ">* Pickup lattitude and longitude\n",
        ">* Distination lattitude and longitude\n",
        ">* Rider Id: Identification of the rider who accepted the order\n",
        ">* Time from pickup to arrival: (**Tagert variable**)\n",
        "\n",
        "**Rider metrics**: details about rider\n",
        ">* Rider Id\n",
        ">* No. of orders\n",
        ">* Age\n",
        ">* Average ratings\n",
        ">* No. of ratings\n",
        "\n"
      ]
    },
    {
      "cell_type": "markdown",
      "metadata": {
        "colab_type": "text",
        "id": "7dsnpX7H-VHZ"
      },
      "source": [
        "# **2. Data preprocesing tools**"
      ]
    },
    {
      "cell_type": "markdown",
      "metadata": {
        "colab_type": "text",
        "id": "OzWkmHPjr9aj"
      },
      "source": [
        "## Importing the libraries"
      ]
    },
    {
      "cell_type": "code",
      "metadata": {
        "colab_type": "code",
        "id": "gOdTyF7BU6kX",
        "colab": {}
      },
      "source": [
        "# ignore warnings\n",
        "import warnings\n",
        "warnings.simplefilter(action='ignore')\n",
        "\n",
        "import pandas as pd\n",
        "import matplotlib.pyplot as plt\n",
        "import numpy as np\n",
        "import seaborn as sns\n",
        "\n",
        "# Imputing missing values and scaling values\n",
        "#from sklearn.preprocessing import Imputer, MinMaxScaler\n",
        "\n",
        "import folium\n",
        "from folium.plugins import HeatMap\n",
        "\n",
        "\n",
        "# machine learning models\n",
        "from sklearn.linear_model import LinearRegression\n",
        "from sklearn.ensemble import RandomForestRegressor, GradientBoostingRegressor\n",
        "from sklearn.preprocessing import LabelEncoder, OneHotEncoder\n",
        "from sklearn.compose import ColumnTransformer\n",
        "from sklearn.model_selection import train_test_split\n",
        "from sklearn.preprocessing import StandardScaler\n",
        "\n",
        "from sklearn.metrics import mean_squared_error as mse\n",
        "\n",
        "#Displays\n",
        "sns.set_style('dark')"
      ],
      "execution_count": 0,
      "outputs": []
    },
    {
      "cell_type": "markdown",
      "metadata": {
        "colab_type": "text",
        "id": "fvNzDZv6X3to"
      },
      "source": [
        "## Importing the datasets"
      ]
    },
    {
      "cell_type": "code",
      "metadata": {
        "colab_type": "code",
        "id": "O3N_EhXSY0g4",
        "colab": {}
      },
      "source": [
        "train = pd.read_csv('Train.csv')\n",
        "riders = pd.read_csv('Riders.csv')\n",
        "test = pd.read_csv('Test.csv')"
      ],
      "execution_count": 0,
      "outputs": []
    },
    {
      "cell_type": "code",
      "metadata": {
        "colab_type": "code",
        "id": "G32gYJGvNscy",
        "outputId": "8ea70548-cf08-4df4-9559-e06b633c4da0",
        "colab": {
          "base_uri": "https://localhost:8080/",
          "height": 255
        }
      },
      "source": [
        "train.columns"
      ],
      "execution_count": 378,
      "outputs": [
        {
          "output_type": "execute_result",
          "data": {
            "text/plain": [
              "Index(['Order No', 'User Id', 'Vehicle Type', 'Platform Type',\n",
              "       'Personal or Business', 'Placement - Day of Month',\n",
              "       'Placement - Weekday (Mo = 1)', 'Placement - Time',\n",
              "       'Confirmation - Day of Month', 'Confirmation - Weekday (Mo = 1)',\n",
              "       'Confirmation - Time', 'Arrival at Pickup - Day of Month',\n",
              "       'Arrival at Pickup - Weekday (Mo = 1)', 'Arrival at Pickup - Time',\n",
              "       'Pickup - Day of Month', 'Pickup - Weekday (Mo = 1)', 'Pickup - Time',\n",
              "       'Arrival at Destination - Day of Month',\n",
              "       'Arrival at Destination - Weekday (Mo = 1)',\n",
              "       'Arrival at Destination - Time', 'Distance (KM)', 'Temperature',\n",
              "       'Precipitation in millimeters', 'Pickup Lat', 'Pickup Long',\n",
              "       'Destination Lat', 'Destination Long', 'Rider Id',\n",
              "       'Time from Pickup to Arrival'],\n",
              "      dtype='object')"
            ]
          },
          "metadata": {
            "tags": []
          },
          "execution_count": 378
        }
      ]
    },
    {
      "cell_type": "code",
      "metadata": {
        "colab_type": "code",
        "id": "fWXmxutQn9Et",
        "colab": {}
      },
      "source": [
        "#x = train.iloc[:, :-1].values\n",
        "#y = train.iloc[:, -1].values\n"
      ],
      "execution_count": 0,
      "outputs": []
    },
    {
      "cell_type": "code",
      "metadata": {
        "colab_type": "code",
        "id": "da29JozwuZNv",
        "outputId": "9ee2595d-36cd-41f3-e1e6-5acd791eea98",
        "colab": {
          "base_uri": "https://localhost:8080/",
          "height": 34
        }
      },
      "source": [
        "print(y)"
      ],
      "execution_count": 380,
      "outputs": [
        {
          "output_type": "stream",
          "text": [
            "[ 745. 1993.  455. ...  804. 1202.  337.]\n"
          ],
          "name": "stdout"
        }
      ]
    },
    {
      "cell_type": "markdown",
      "metadata": {
        "colab_type": "text",
        "id": "Qz2KDIkBww_H"
      },
      "source": [
        "## Merging datasets"
      ]
    },
    {
      "cell_type": "code",
      "metadata": {
        "colab_type": "code",
        "id": "4u5hW9HMwpH1",
        "colab": {}
      },
      "source": [
        "# merge datasets\n",
        "train= pd.merge(train, riders, on='Rider Id', how='left')\n",
        "test= pd.merge(test, riders, on='Rider Id', how='left')\n",
        "\n",
        "# Rename columns\n",
        "train.columns= [column.replace('Of','of') for column in train.columns]\n",
        "train.columns= [column.replace('_',' ') for column in train.columns]\n",
        "train.columns= [column.replace('(Mo = 1)',' ') for column in train.columns]\n",
        "train= train.rename(columns=lambda x: x.strip())\n",
        "test.columns= [column.replace('Of','of') for column in test.columns]\n",
        "test.columns= [column.replace('_',' ') for column in test.columns]\n",
        "test.columns= [column.replace('(Mo = 1)',' ') for column in test.columns]\n",
        "test= test.rename(columns=lambda x: x.strip())"
      ],
      "execution_count": 0,
      "outputs": []
    },
    {
      "cell_type": "markdown",
      "metadata": {
        "id": "CQy9qrwBuAWn",
        "colab_type": "text"
      },
      "source": [
        "## Data Description"
      ]
    },
    {
      "cell_type": "code",
      "metadata": {
        "colab_type": "code",
        "id": "KncBzr0x07Oj",
        "outputId": "e9ef9460-2a3d-4670-8459-9b71ac358373",
        "colab": {
          "base_uri": "https://localhost:8080/",
          "height": 394
        }
      },
      "source": [
        "train.head()"
      ],
      "execution_count": 382,
      "outputs": [
        {
          "output_type": "execute_result",
          "data": {
            "text/html": [
              "<div>\n",
              "<style scoped>\n",
              "    .dataframe tbody tr th:only-of-type {\n",
              "        vertical-align: middle;\n",
              "    }\n",
              "\n",
              "    .dataframe tbody tr th {\n",
              "        vertical-align: top;\n",
              "    }\n",
              "\n",
              "    .dataframe thead th {\n",
              "        text-align: right;\n",
              "    }\n",
              "</style>\n",
              "<table border=\"1\" class=\"dataframe\">\n",
              "  <thead>\n",
              "    <tr style=\"text-align: right;\">\n",
              "      <th></th>\n",
              "      <th>Order No</th>\n",
              "      <th>User Id</th>\n",
              "      <th>Vehicle Type</th>\n",
              "      <th>Platform Type</th>\n",
              "      <th>Personal or Business</th>\n",
              "      <th>Placement - Day of Month</th>\n",
              "      <th>Placement - Weekday</th>\n",
              "      <th>Placement - Time</th>\n",
              "      <th>Confirmation - Day of Month</th>\n",
              "      <th>Confirmation - Weekday</th>\n",
              "      <th>Confirmation - Time</th>\n",
              "      <th>Arrival at Pickup - Day of Month</th>\n",
              "      <th>Arrival at Pickup - Weekday</th>\n",
              "      <th>Arrival at Pickup - Time</th>\n",
              "      <th>Pickup - Day of Month</th>\n",
              "      <th>Pickup - Weekday</th>\n",
              "      <th>Pickup - Time</th>\n",
              "      <th>Arrival at Destination - Day of Month</th>\n",
              "      <th>Arrival at Destination - Weekday</th>\n",
              "      <th>Arrival at Destination - Time</th>\n",
              "      <th>Distance (KM)</th>\n",
              "      <th>Temperature</th>\n",
              "      <th>Precipitation in millimeters</th>\n",
              "      <th>Pickup Lat</th>\n",
              "      <th>Pickup Long</th>\n",
              "      <th>Destination Lat</th>\n",
              "      <th>Destination Long</th>\n",
              "      <th>Rider Id</th>\n",
              "      <th>Time from Pickup to Arrival</th>\n",
              "      <th>No of Orders</th>\n",
              "      <th>Age</th>\n",
              "      <th>Average Rating</th>\n",
              "      <th>No of Ratings</th>\n",
              "    </tr>\n",
              "  </thead>\n",
              "  <tbody>\n",
              "    <tr>\n",
              "      <th>0</th>\n",
              "      <td>Order_No_4211</td>\n",
              "      <td>User_Id_633</td>\n",
              "      <td>Bike</td>\n",
              "      <td>3.0</td>\n",
              "      <td>Business</td>\n",
              "      <td>9.0</td>\n",
              "      <td>5.0</td>\n",
              "      <td>9:35:46 AM</td>\n",
              "      <td>9.0</td>\n",
              "      <td>5.0</td>\n",
              "      <td>9:40:10 AM</td>\n",
              "      <td>9.0</td>\n",
              "      <td>5.0</td>\n",
              "      <td>10:04:47 AM</td>\n",
              "      <td>9.0</td>\n",
              "      <td>5.0</td>\n",
              "      <td>10:27:30 AM</td>\n",
              "      <td>9.0</td>\n",
              "      <td>5.0</td>\n",
              "      <td>10:39:55 AM</td>\n",
              "      <td>4.0</td>\n",
              "      <td>20.4</td>\n",
              "      <td>NaN</td>\n",
              "      <td>-1.317755</td>\n",
              "      <td>36.830370</td>\n",
              "      <td>-1.300406</td>\n",
              "      <td>36.829741</td>\n",
              "      <td>Rider_Id_432</td>\n",
              "      <td>745.0</td>\n",
              "      <td>1637.0</td>\n",
              "      <td>1309.0</td>\n",
              "      <td>13.8</td>\n",
              "      <td>549.0</td>\n",
              "    </tr>\n",
              "    <tr>\n",
              "      <th>1</th>\n",
              "      <td>Order_No_25375</td>\n",
              "      <td>User_Id_2285</td>\n",
              "      <td>Bike</td>\n",
              "      <td>3.0</td>\n",
              "      <td>Personal</td>\n",
              "      <td>12.0</td>\n",
              "      <td>5.0</td>\n",
              "      <td>11:16:16 AM</td>\n",
              "      <td>12.0</td>\n",
              "      <td>5.0</td>\n",
              "      <td>11:23:21 AM</td>\n",
              "      <td>12.0</td>\n",
              "      <td>5.0</td>\n",
              "      <td>11:40:22 AM</td>\n",
              "      <td>12.0</td>\n",
              "      <td>5.0</td>\n",
              "      <td>11:44:09 AM</td>\n",
              "      <td>12.0</td>\n",
              "      <td>5.0</td>\n",
              "      <td>12:17:22 PM</td>\n",
              "      <td>16.0</td>\n",
              "      <td>26.4</td>\n",
              "      <td>NaN</td>\n",
              "      <td>-1.351453</td>\n",
              "      <td>36.899315</td>\n",
              "      <td>-1.295004</td>\n",
              "      <td>36.814358</td>\n",
              "      <td>Rider_Id_856</td>\n",
              "      <td>1993.0</td>\n",
              "      <td>396.0</td>\n",
              "      <td>339.0</td>\n",
              "      <td>13.6</td>\n",
              "      <td>69.0</td>\n",
              "    </tr>\n",
              "    <tr>\n",
              "      <th>2</th>\n",
              "      <td>Order_No_1899</td>\n",
              "      <td>User_Id_265</td>\n",
              "      <td>Bike</td>\n",
              "      <td>3.0</td>\n",
              "      <td>Business</td>\n",
              "      <td>30.0</td>\n",
              "      <td>2.0</td>\n",
              "      <td>12:39:25 PM</td>\n",
              "      <td>30.0</td>\n",
              "      <td>2.0</td>\n",
              "      <td>12:42:44 PM</td>\n",
              "      <td>30.0</td>\n",
              "      <td>2.0</td>\n",
              "      <td>12:49:34 PM</td>\n",
              "      <td>30.0</td>\n",
              "      <td>2.0</td>\n",
              "      <td>12:53:03 PM</td>\n",
              "      <td>30.0</td>\n",
              "      <td>2.0</td>\n",
              "      <td>1:00:38 PM</td>\n",
              "      <td>3.0</td>\n",
              "      <td>NaN</td>\n",
              "      <td>NaN</td>\n",
              "      <td>-1.308284</td>\n",
              "      <td>36.843419</td>\n",
              "      <td>-1.300921</td>\n",
              "      <td>36.828195</td>\n",
              "      <td>Rider_Id_155</td>\n",
              "      <td>455.0</td>\n",
              "      <td>1023.0</td>\n",
              "      <td>242.0</td>\n",
              "      <td>12.5</td>\n",
              "      <td>114.0</td>\n",
              "    </tr>\n",
              "    <tr>\n",
              "      <th>3</th>\n",
              "      <td>Order_No_9336</td>\n",
              "      <td>User_Id_1402</td>\n",
              "      <td>Bike</td>\n",
              "      <td>3.0</td>\n",
              "      <td>Business</td>\n",
              "      <td>15.0</td>\n",
              "      <td>5.0</td>\n",
              "      <td>9:25:34 AM</td>\n",
              "      <td>15.0</td>\n",
              "      <td>5.0</td>\n",
              "      <td>9:26:05 AM</td>\n",
              "      <td>15.0</td>\n",
              "      <td>5.0</td>\n",
              "      <td>9:37:56 AM</td>\n",
              "      <td>15.0</td>\n",
              "      <td>5.0</td>\n",
              "      <td>9:43:06 AM</td>\n",
              "      <td>15.0</td>\n",
              "      <td>5.0</td>\n",
              "      <td>10:05:27 AM</td>\n",
              "      <td>9.0</td>\n",
              "      <td>19.2</td>\n",
              "      <td>NaN</td>\n",
              "      <td>-1.281301</td>\n",
              "      <td>36.832396</td>\n",
              "      <td>-1.257147</td>\n",
              "      <td>36.795063</td>\n",
              "      <td>Rider_Id_855</td>\n",
              "      <td>1341.0</td>\n",
              "      <td>886.0</td>\n",
              "      <td>283.0</td>\n",
              "      <td>14.5</td>\n",
              "      <td>113.0</td>\n",
              "    </tr>\n",
              "    <tr>\n",
              "      <th>4</th>\n",
              "      <td>Order_No_27883</td>\n",
              "      <td>User_Id_1737</td>\n",
              "      <td>Bike</td>\n",
              "      <td>1.0</td>\n",
              "      <td>Personal</td>\n",
              "      <td>13.0</td>\n",
              "      <td>1.0</td>\n",
              "      <td>9:55:18 AM</td>\n",
              "      <td>13.0</td>\n",
              "      <td>1.0</td>\n",
              "      <td>9:56:18 AM</td>\n",
              "      <td>13.0</td>\n",
              "      <td>1.0</td>\n",
              "      <td>10:03:53 AM</td>\n",
              "      <td>13.0</td>\n",
              "      <td>1.0</td>\n",
              "      <td>10:05:23 AM</td>\n",
              "      <td>13.0</td>\n",
              "      <td>1.0</td>\n",
              "      <td>10:25:37 AM</td>\n",
              "      <td>9.0</td>\n",
              "      <td>15.4</td>\n",
              "      <td>NaN</td>\n",
              "      <td>-1.266597</td>\n",
              "      <td>36.792118</td>\n",
              "      <td>-1.295041</td>\n",
              "      <td>36.809817</td>\n",
              "      <td>Rider_Id_770</td>\n",
              "      <td>1214.0</td>\n",
              "      <td>2311.0</td>\n",
              "      <td>872.0</td>\n",
              "      <td>14.1</td>\n",
              "      <td>533.0</td>\n",
              "    </tr>\n",
              "  </tbody>\n",
              "</table>\n",
              "</div>"
            ],
            "text/plain": [
              "         Order No       User Id  ... Average Rating  No of Ratings\n",
              "0   Order_No_4211   User_Id_633  ...           13.8          549.0\n",
              "1  Order_No_25375  User_Id_2285  ...           13.6           69.0\n",
              "2   Order_No_1899   User_Id_265  ...           12.5          114.0\n",
              "3   Order_No_9336  User_Id_1402  ...           14.5          113.0\n",
              "4  Order_No_27883  User_Id_1737  ...           14.1          533.0\n",
              "\n",
              "[5 rows x 33 columns]"
            ]
          },
          "metadata": {
            "tags": []
          },
          "execution_count": 382
        }
      ]
    },
    {
      "cell_type": "code",
      "metadata": {
        "colab_type": "code",
        "id": "AgUBTI77065V",
        "outputId": "74453a72-59a9-4cfa-b662-da7cae3e231a",
        "colab": {
          "base_uri": "https://localhost:8080/",
          "height": 394
        }
      },
      "source": [
        "test.head()"
      ],
      "execution_count": 383,
      "outputs": [
        {
          "output_type": "execute_result",
          "data": {
            "text/html": [
              "<div>\n",
              "<style scoped>\n",
              "    .dataframe tbody tr th:only-of-type {\n",
              "        vertical-align: middle;\n",
              "    }\n",
              "\n",
              "    .dataframe tbody tr th {\n",
              "        vertical-align: top;\n",
              "    }\n",
              "\n",
              "    .dataframe thead th {\n",
              "        text-align: right;\n",
              "    }\n",
              "</style>\n",
              "<table border=\"1\" class=\"dataframe\">\n",
              "  <thead>\n",
              "    <tr style=\"text-align: right;\">\n",
              "      <th></th>\n",
              "      <th>Order No</th>\n",
              "      <th>User Id</th>\n",
              "      <th>Vehicle Type</th>\n",
              "      <th>Platform Type</th>\n",
              "      <th>Personal or Business</th>\n",
              "      <th>Placement - Day of Month</th>\n",
              "      <th>Placement - Weekday</th>\n",
              "      <th>Placement - Time</th>\n",
              "      <th>Confirmation - Day of Month</th>\n",
              "      <th>Confirmation - Weekday</th>\n",
              "      <th>Confirmation - Time</th>\n",
              "      <th>Arrival at Pickup - Day of Month</th>\n",
              "      <th>Arrival at Pickup - Weekday</th>\n",
              "      <th>Arrival at Pickup - Time</th>\n",
              "      <th>Pickup - Day of Month</th>\n",
              "      <th>Pickup - Weekday</th>\n",
              "      <th>Pickup - Time</th>\n",
              "      <th>Distance (KM)</th>\n",
              "      <th>Temperature</th>\n",
              "      <th>Precipitation in millimeters</th>\n",
              "      <th>Pickup Lat</th>\n",
              "      <th>Pickup Long</th>\n",
              "      <th>Destination Lat</th>\n",
              "      <th>Destination Long</th>\n",
              "      <th>Rider Id</th>\n",
              "      <th>No of Orders</th>\n",
              "      <th>Age</th>\n",
              "      <th>Average Rating</th>\n",
              "      <th>No of Ratings</th>\n",
              "    </tr>\n",
              "  </thead>\n",
              "  <tbody>\n",
              "    <tr>\n",
              "      <th>0</th>\n",
              "      <td>Order_No_19248</td>\n",
              "      <td>User_Id_3355</td>\n",
              "      <td>Bike</td>\n",
              "      <td>3</td>\n",
              "      <td>Business</td>\n",
              "      <td>27</td>\n",
              "      <td>3</td>\n",
              "      <td>4:44:10 PM</td>\n",
              "      <td>27</td>\n",
              "      <td>3</td>\n",
              "      <td>4:44:29 PM</td>\n",
              "      <td>27</td>\n",
              "      <td>3</td>\n",
              "      <td>4:53:04 PM</td>\n",
              "      <td>27</td>\n",
              "      <td>3</td>\n",
              "      <td>5:06:47 PM</td>\n",
              "      <td>8</td>\n",
              "      <td>NaN</td>\n",
              "      <td>NaN</td>\n",
              "      <td>-1.333275</td>\n",
              "      <td>36.870815</td>\n",
              "      <td>-1.305249</td>\n",
              "      <td>36.822390</td>\n",
              "      <td>Rider_Id_192</td>\n",
              "      <td>439</td>\n",
              "      <td>1511</td>\n",
              "      <td>13.3</td>\n",
              "      <td>171</td>\n",
              "    </tr>\n",
              "    <tr>\n",
              "      <th>1</th>\n",
              "      <td>Order_No_12736</td>\n",
              "      <td>User_Id_3647</td>\n",
              "      <td>Bike</td>\n",
              "      <td>3</td>\n",
              "      <td>Business</td>\n",
              "      <td>17</td>\n",
              "      <td>5</td>\n",
              "      <td>12:57:35 PM</td>\n",
              "      <td>17</td>\n",
              "      <td>5</td>\n",
              "      <td>12:59:17 PM</td>\n",
              "      <td>17</td>\n",
              "      <td>5</td>\n",
              "      <td>1:20:27 PM</td>\n",
              "      <td>17</td>\n",
              "      <td>5</td>\n",
              "      <td>1:25:37 PM</td>\n",
              "      <td>5</td>\n",
              "      <td>NaN</td>\n",
              "      <td>NaN</td>\n",
              "      <td>-1.272639</td>\n",
              "      <td>36.794723</td>\n",
              "      <td>-1.277007</td>\n",
              "      <td>36.823907</td>\n",
              "      <td>Rider_Id_868</td>\n",
              "      <td>488</td>\n",
              "      <td>273</td>\n",
              "      <td>14.4</td>\n",
              "      <td>45</td>\n",
              "    </tr>\n",
              "    <tr>\n",
              "      <th>2</th>\n",
              "      <td>Order_No_768</td>\n",
              "      <td>User_Id_2154</td>\n",
              "      <td>Bike</td>\n",
              "      <td>3</td>\n",
              "      <td>Business</td>\n",
              "      <td>27</td>\n",
              "      <td>4</td>\n",
              "      <td>11:08:14 AM</td>\n",
              "      <td>27</td>\n",
              "      <td>4</td>\n",
              "      <td>11:25:05 AM</td>\n",
              "      <td>27</td>\n",
              "      <td>4</td>\n",
              "      <td>11:33:20 AM</td>\n",
              "      <td>27</td>\n",
              "      <td>4</td>\n",
              "      <td>11:57:54 AM</td>\n",
              "      <td>5</td>\n",
              "      <td>22.8</td>\n",
              "      <td>NaN</td>\n",
              "      <td>-1.290894</td>\n",
              "      <td>36.822971</td>\n",
              "      <td>-1.276574</td>\n",
              "      <td>36.851365</td>\n",
              "      <td>Rider_Id_26</td>\n",
              "      <td>833</td>\n",
              "      <td>460</td>\n",
              "      <td>13.1</td>\n",
              "      <td>67</td>\n",
              "    </tr>\n",
              "    <tr>\n",
              "      <th>3</th>\n",
              "      <td>Order_No_15332</td>\n",
              "      <td>User_Id_2910</td>\n",
              "      <td>Bike</td>\n",
              "      <td>3</td>\n",
              "      <td>Business</td>\n",
              "      <td>17</td>\n",
              "      <td>1</td>\n",
              "      <td>1:51:35 PM</td>\n",
              "      <td>17</td>\n",
              "      <td>1</td>\n",
              "      <td>1:53:27 PM</td>\n",
              "      <td>17</td>\n",
              "      <td>1</td>\n",
              "      <td>2:02:41 PM</td>\n",
              "      <td>17</td>\n",
              "      <td>1</td>\n",
              "      <td>2:16:52 PM</td>\n",
              "      <td>5</td>\n",
              "      <td>24.5</td>\n",
              "      <td>NaN</td>\n",
              "      <td>-1.290503</td>\n",
              "      <td>36.809646</td>\n",
              "      <td>-1.303382</td>\n",
              "      <td>36.790658</td>\n",
              "      <td>Rider_Id_685</td>\n",
              "      <td>487</td>\n",
              "      <td>560</td>\n",
              "      <td>13.7</td>\n",
              "      <td>44</td>\n",
              "    </tr>\n",
              "    <tr>\n",
              "      <th>4</th>\n",
              "      <td>Order_No_21373</td>\n",
              "      <td>User_Id_1205</td>\n",
              "      <td>Bike</td>\n",
              "      <td>3</td>\n",
              "      <td>Business</td>\n",
              "      <td>11</td>\n",
              "      <td>2</td>\n",
              "      <td>11:30:28 AM</td>\n",
              "      <td>11</td>\n",
              "      <td>2</td>\n",
              "      <td>11:34:45 AM</td>\n",
              "      <td>11</td>\n",
              "      <td>2</td>\n",
              "      <td>11:47:19 AM</td>\n",
              "      <td>11</td>\n",
              "      <td>2</td>\n",
              "      <td>11:56:04 AM</td>\n",
              "      <td>6</td>\n",
              "      <td>24.4</td>\n",
              "      <td>NaN</td>\n",
              "      <td>-1.281081</td>\n",
              "      <td>36.814423</td>\n",
              "      <td>-1.266467</td>\n",
              "      <td>36.792161</td>\n",
              "      <td>Rider_Id_858</td>\n",
              "      <td>4761</td>\n",
              "      <td>1120</td>\n",
              "      <td>14.1</td>\n",
              "      <td>1010</td>\n",
              "    </tr>\n",
              "  </tbody>\n",
              "</table>\n",
              "</div>"
            ],
            "text/plain": [
              "         Order No       User Id  ... Average Rating  No of Ratings\n",
              "0  Order_No_19248  User_Id_3355  ...           13.3            171\n",
              "1  Order_No_12736  User_Id_3647  ...           14.4             45\n",
              "2    Order_No_768  User_Id_2154  ...           13.1             67\n",
              "3  Order_No_15332  User_Id_2910  ...           13.7             44\n",
              "4  Order_No_21373  User_Id_1205  ...           14.1           1010\n",
              "\n",
              "[5 rows x 29 columns]"
            ]
          },
          "metadata": {
            "tags": []
          },
          "execution_count": 383
        }
      ]
    },
    {
      "cell_type": "markdown",
      "metadata": {
        "id": "eOt4UfakuAW2",
        "colab_type": "text"
      },
      "source": [
        "#####  Descriptive statistics summary"
      ]
    },
    {
      "cell_type": "code",
      "metadata": {
        "colab_type": "code",
        "id": "2ad8WIgjIjIS",
        "outputId": "77bc7c7f-5a2a-445e-d5f1-b4a792e4e1cb",
        "colab": {
          "base_uri": "https://localhost:8080/",
          "height": 297
        }
      },
      "source": [
        "#descriptive statistics summary\n",
        "train[['Time from Pickup to Arrival']].describe()"
      ],
      "execution_count": 384,
      "outputs": [
        {
          "output_type": "execute_result",
          "data": {
            "text/html": [
              "<div>\n",
              "<style scoped>\n",
              "    .dataframe tbody tr th:only-of-type {\n",
              "        vertical-align: middle;\n",
              "    }\n",
              "\n",
              "    .dataframe tbody tr th {\n",
              "        vertical-align: top;\n",
              "    }\n",
              "\n",
              "    .dataframe thead th {\n",
              "        text-align: right;\n",
              "    }\n",
              "</style>\n",
              "<table border=\"1\" class=\"dataframe\">\n",
              "  <thead>\n",
              "    <tr style=\"text-align: right;\">\n",
              "      <th></th>\n",
              "      <th>Time from Pickup to Arrival</th>\n",
              "    </tr>\n",
              "  </thead>\n",
              "  <tbody>\n",
              "    <tr>\n",
              "      <th>count</th>\n",
              "      <td>16290.000000</td>\n",
              "    </tr>\n",
              "    <tr>\n",
              "      <th>mean</th>\n",
              "      <td>1561.475445</td>\n",
              "    </tr>\n",
              "    <tr>\n",
              "      <th>std</th>\n",
              "      <td>991.411108</td>\n",
              "    </tr>\n",
              "    <tr>\n",
              "      <th>min</th>\n",
              "      <td>1.000000</td>\n",
              "    </tr>\n",
              "    <tr>\n",
              "      <th>25%</th>\n",
              "      <td>883.000000</td>\n",
              "    </tr>\n",
              "    <tr>\n",
              "      <th>50%</th>\n",
              "      <td>1377.000000</td>\n",
              "    </tr>\n",
              "    <tr>\n",
              "      <th>75%</th>\n",
              "      <td>2043.000000</td>\n",
              "    </tr>\n",
              "    <tr>\n",
              "      <th>max</th>\n",
              "      <td>7883.000000</td>\n",
              "    </tr>\n",
              "  </tbody>\n",
              "</table>\n",
              "</div>"
            ],
            "text/plain": [
              "       Time from Pickup to Arrival\n",
              "count                 16290.000000\n",
              "mean                   1561.475445\n",
              "std                     991.411108\n",
              "min                       1.000000\n",
              "25%                     883.000000\n",
              "50%                    1377.000000\n",
              "75%                    2043.000000\n",
              "max                    7883.000000"
            ]
          },
          "metadata": {
            "tags": []
          },
          "execution_count": 384
        }
      ]
    },
    {
      "cell_type": "markdown",
      "metadata": {
        "id": "KzC9yQgruAW9",
        "colab_type": "text"
      },
      "source": [
        "## Feature Engineering"
      ]
    },
    {
      "cell_type": "markdown",
      "metadata": {
        "id": "jNnIrCliuAXE",
        "colab_type": "text"
      },
      "source": [
        "##### Eda "
      ]
    },
    {
      "cell_type": "code",
      "metadata": {
        "colab_type": "code",
        "id": "WuM-TqeyIjCx",
        "outputId": "9fd05a44-5cb7-4ae4-e7b9-9674634fd281",
        "colab": {
          "base_uri": "https://localhost:8080/",
          "height": 279
        }
      },
      "source": [
        "#histogram\n",
        "sns.distplot(train['Time from Pickup to Arrival']);"
      ],
      "execution_count": 385,
      "outputs": [
        {
          "output_type": "display_data",
          "data": {
            "image/png": "[encoded data removed]",
            "text/plain": [
              "<Figure size 432x288 with 1 Axes>"
            ]
          },
          "metadata": {
            "tags": []
          }
        }
      ]
    },
    {
      "cell_type": "markdown",
      "metadata": {
        "colab_type": "text",
        "id": "nr2WHeekJkcc"
      },
      "source": [
        ">* Deviate from the normal distribution.\n",
        ">* Have appreciable positive skewness.\n",
        ">* Show peakedness."
      ]
    },
    {
      "cell_type": "code",
      "metadata": {
        "colab_type": "code",
        "id": "7oZpCm8gJtAh",
        "outputId": "d5afb375-85b1-4abf-e4e0-2679cd1b3c13",
        "colab": {
          "base_uri": "https://localhost:8080/",
          "height": 51
        }
      },
      "source": [
        "#skewness and kurtosis\n",
        "print(\"Skewness: %f\" % train['Time from Pickup to Arrival'].skew())\n",
        "print(\"Kurtosis: %f\" % train['Time from Pickup to Arrival'].kurt())"
      ],
      "execution_count": 386,
      "outputs": [
        {
          "output_type": "stream",
          "text": [
            "Skewness: 1.212977\n",
            "Kurtosis: 2.274157\n"
          ],
          "name": "stdout"
        }
      ]
    },
    {
      "cell_type": "markdown",
      "metadata": {
        "colab_type": "text",
        "id": "ZiayTyB2Mdao"
      },
      "source": [
        "**Relationship with numerical variables**"
      ]
    },
    {
      "cell_type": "code",
      "metadata": {
        "colab_type": "code",
        "id": "0HGuuq1XPFHU",
        "outputId": "4f4456a6-3785-4b8d-f049-de98c806f0e6",
        "colab": {
          "base_uri": "https://localhost:8080/",
          "height": 394
        }
      },
      "source": [
        "train.head()"
      ],
      "execution_count": 387,
      "outputs": [
        {
          "output_type": "execute_result",
          "data": {
            "text/html": [
              "<div>\n",
              "<style scoped>\n",
              "    .dataframe tbody tr th:only-of-type {\n",
              "        vertical-align: middle;\n",
              "    }\n",
              "\n",
              "    .dataframe tbody tr th {\n",
              "        vertical-align: top;\n",
              "    }\n",
              "\n",
              "    .dataframe thead th {\n",
              "        text-align: right;\n",
              "    }\n",
              "</style>\n",
              "<table border=\"1\" class=\"dataframe\">\n",
              "  <thead>\n",
              "    <tr style=\"text-align: right;\">\n",
              "      <th></th>\n",
              "      <th>Order No</th>\n",
              "      <th>User Id</th>\n",
              "      <th>Vehicle Type</th>\n",
              "      <th>Platform Type</th>\n",
              "      <th>Personal or Business</th>\n",
              "      <th>Placement - Day of Month</th>\n",
              "      <th>Placement - Weekday</th>\n",
              "      <th>Placement - Time</th>\n",
              "      <th>Confirmation - Day of Month</th>\n",
              "      <th>Confirmation - Weekday</th>\n",
              "      <th>Confirmation - Time</th>\n",
              "      <th>Arrival at Pickup - Day of Month</th>\n",
              "      <th>Arrival at Pickup - Weekday</th>\n",
              "      <th>Arrival at Pickup - Time</th>\n",
              "      <th>Pickup - Day of Month</th>\n",
              "      <th>Pickup - Weekday</th>\n",
              "      <th>Pickup - Time</th>\n",
              "      <th>Arrival at Destination - Day of Month</th>\n",
              "      <th>Arrival at Destination - Weekday</th>\n",
              "      <th>Arrival at Destination - Time</th>\n",
              "      <th>Distance (KM)</th>\n",
              "      <th>Temperature</th>\n",
              "      <th>Precipitation in millimeters</th>\n",
              "      <th>Pickup Lat</th>\n",
              "      <th>Pickup Long</th>\n",
              "      <th>Destination Lat</th>\n",
              "      <th>Destination Long</th>\n",
              "      <th>Rider Id</th>\n",
              "      <th>Time from Pickup to Arrival</th>\n",
              "      <th>No of Orders</th>\n",
              "      <th>Age</th>\n",
              "      <th>Average Rating</th>\n",
              "      <th>No of Ratings</th>\n",
              "    </tr>\n",
              "  </thead>\n",
              "  <tbody>\n",
              "    <tr>\n",
              "      <th>0</th>\n",
              "      <td>Order_No_4211</td>\n",
              "      <td>User_Id_633</td>\n",
              "      <td>Bike</td>\n",
              "      <td>3.0</td>\n",
              "      <td>Business</td>\n",
              "      <td>9.0</td>\n",
              "      <td>5.0</td>\n",
              "      <td>9:35:46 AM</td>\n",
              "      <td>9.0</td>\n",
              "      <td>5.0</td>\n",
              "      <td>9:40:10 AM</td>\n",
              "      <td>9.0</td>\n",
              "      <td>5.0</td>\n",
              "      <td>10:04:47 AM</td>\n",
              "      <td>9.0</td>\n",
              "      <td>5.0</td>\n",
              "      <td>10:27:30 AM</td>\n",
              "      <td>9.0</td>\n",
              "      <td>5.0</td>\n",
              "      <td>10:39:55 AM</td>\n",
              "      <td>4.0</td>\n",
              "      <td>20.4</td>\n",
              "      <td>NaN</td>\n",
              "      <td>-1.317755</td>\n",
              "      <td>36.830370</td>\n",
              "      <td>-1.300406</td>\n",
              "      <td>36.829741</td>\n",
              "      <td>Rider_Id_432</td>\n",
              "      <td>745.0</td>\n",
              "      <td>1637.0</td>\n",
              "      <td>1309.0</td>\n",
              "      <td>13.8</td>\n",
              "      <td>549.0</td>\n",
              "    </tr>\n",
              "    <tr>\n",
              "      <th>1</th>\n",
              "      <td>Order_No_25375</td>\n",
              "      <td>User_Id_2285</td>\n",
              "      <td>Bike</td>\n",
              "      <td>3.0</td>\n",
              "      <td>Personal</td>\n",
              "      <td>12.0</td>\n",
              "      <td>5.0</td>\n",
              "      <td>11:16:16 AM</td>\n",
              "      <td>12.0</td>\n",
              "      <td>5.0</td>\n",
              "      <td>11:23:21 AM</td>\n",
              "      <td>12.0</td>\n",
              "      <td>5.0</td>\n",
              "      <td>11:40:22 AM</td>\n",
              "      <td>12.0</td>\n",
              "      <td>5.0</td>\n",
              "      <td>11:44:09 AM</td>\n",
              "      <td>12.0</td>\n",
              "      <td>5.0</td>\n",
              "      <td>12:17:22 PM</td>\n",
              "      <td>16.0</td>\n",
              "      <td>26.4</td>\n",
              "      <td>NaN</td>\n",
              "      <td>-1.351453</td>\n",
              "      <td>36.899315</td>\n",
              "      <td>-1.295004</td>\n",
              "      <td>36.814358</td>\n",
              "      <td>Rider_Id_856</td>\n",
              "      <td>1993.0</td>\n",
              "      <td>396.0</td>\n",
              "      <td>339.0</td>\n",
              "      <td>13.6</td>\n",
              "      <td>69.0</td>\n",
              "    </tr>\n",
              "    <tr>\n",
              "      <th>2</th>\n",
              "      <td>Order_No_1899</td>\n",
              "      <td>User_Id_265</td>\n",
              "      <td>Bike</td>\n",
              "      <td>3.0</td>\n",
              "      <td>Business</td>\n",
              "      <td>30.0</td>\n",
              "      <td>2.0</td>\n",
              "      <td>12:39:25 PM</td>\n",
              "      <td>30.0</td>\n",
              "      <td>2.0</td>\n",
              "      <td>12:42:44 PM</td>\n",
              "      <td>30.0</td>\n",
              "      <td>2.0</td>\n",
              "      <td>12:49:34 PM</td>\n",
              "      <td>30.0</td>\n",
              "      <td>2.0</td>\n",
              "      <td>12:53:03 PM</td>\n",
              "      <td>30.0</td>\n",
              "      <td>2.0</td>\n",
              "      <td>1:00:38 PM</td>\n",
              "      <td>3.0</td>\n",
              "      <td>NaN</td>\n",
              "      <td>NaN</td>\n",
              "      <td>-1.308284</td>\n",
              "      <td>36.843419</td>\n",
              "      <td>-1.300921</td>\n",
              "      <td>36.828195</td>\n",
              "      <td>Rider_Id_155</td>\n",
              "      <td>455.0</td>\n",
              "      <td>1023.0</td>\n",
              "      <td>242.0</td>\n",
              "      <td>12.5</td>\n",
              "      <td>114.0</td>\n",
              "    </tr>\n",
              "    <tr>\n",
              "      <th>3</th>\n",
              "      <td>Order_No_9336</td>\n",
              "      <td>User_Id_1402</td>\n",
              "      <td>Bike</td>\n",
              "      <td>3.0</td>\n",
              "      <td>Business</td>\n",
              "      <td>15.0</td>\n",
              "      <td>5.0</td>\n",
              "      <td>9:25:34 AM</td>\n",
              "      <td>15.0</td>\n",
              "      <td>5.0</td>\n",
              "      <td>9:26:05 AM</td>\n",
              "      <td>15.0</td>\n",
              "      <td>5.0</td>\n",
              "      <td>9:37:56 AM</td>\n",
              "      <td>15.0</td>\n",
              "      <td>5.0</td>\n",
              "      <td>9:43:06 AM</td>\n",
              "      <td>15.0</td>\n",
              "      <td>5.0</td>\n",
              "      <td>10:05:27 AM</td>\n",
              "      <td>9.0</td>\n",
              "      <td>19.2</td>\n",
              "      <td>NaN</td>\n",
              "      <td>-1.281301</td>\n",
              "      <td>36.832396</td>\n",
              "      <td>-1.257147</td>\n",
              "      <td>36.795063</td>\n",
              "      <td>Rider_Id_855</td>\n",
              "      <td>1341.0</td>\n",
              "      <td>886.0</td>\n",
              "      <td>283.0</td>\n",
              "      <td>14.5</td>\n",
              "      <td>113.0</td>\n",
              "    </tr>\n",
              "    <tr>\n",
              "      <th>4</th>\n",
              "      <td>Order_No_27883</td>\n",
              "      <td>User_Id_1737</td>\n",
              "      <td>Bike</td>\n",
              "      <td>1.0</td>\n",
              "      <td>Personal</td>\n",
              "      <td>13.0</td>\n",
              "      <td>1.0</td>\n",
              "      <td>9:55:18 AM</td>\n",
              "      <td>13.0</td>\n",
              "      <td>1.0</td>\n",
              "      <td>9:56:18 AM</td>\n",
              "      <td>13.0</td>\n",
              "      <td>1.0</td>\n",
              "      <td>10:03:53 AM</td>\n",
              "      <td>13.0</td>\n",
              "      <td>1.0</td>\n",
              "      <td>10:05:23 AM</td>\n",
              "      <td>13.0</td>\n",
              "      <td>1.0</td>\n",
              "      <td>10:25:37 AM</td>\n",
              "      <td>9.0</td>\n",
              "      <td>15.4</td>\n",
              "      <td>NaN</td>\n",
              "      <td>-1.266597</td>\n",
              "      <td>36.792118</td>\n",
              "      <td>-1.295041</td>\n",
              "      <td>36.809817</td>\n",
              "      <td>Rider_Id_770</td>\n",
              "      <td>1214.0</td>\n",
              "      <td>2311.0</td>\n",
              "      <td>872.0</td>\n",
              "      <td>14.1</td>\n",
              "      <td>533.0</td>\n",
              "    </tr>\n",
              "  </tbody>\n",
              "</table>\n",
              "</div>"
            ],
            "text/plain": [
              "         Order No       User Id  ... Average Rating  No of Ratings\n",
              "0   Order_No_4211   User_Id_633  ...           13.8          549.0\n",
              "1  Order_No_25375  User_Id_2285  ...           13.6           69.0\n",
              "2   Order_No_1899   User_Id_265  ...           12.5          114.0\n",
              "3   Order_No_9336  User_Id_1402  ...           14.5          113.0\n",
              "4  Order_No_27883  User_Id_1737  ...           14.1          533.0\n",
              "\n",
              "[5 rows x 33 columns]"
            ]
          },
          "metadata": {
            "tags": []
          },
          "execution_count": 387
        }
      ]
    },
    {
      "cell_type": "markdown",
      "metadata": {
        "colab_type": "text",
        "id": "taA70EXPIEws"
      },
      "source": [
        "##Data cleaning"
      ]
    },
    {
      "cell_type": "code",
      "metadata": {
        "colab_type": "code",
        "id": "9wrdf2RgswYP",
        "outputId": "fbc7384d-149f-44fb-f555-b0db25f7302d",
        "colab": {
          "base_uri": "https://localhost:8080/",
          "height": 359
        }
      },
      "source": [
        "#missing data\n",
        "total = train.isnull().sum().sort_values(ascending=False)\n",
        "percent = round((train.isnull().sum()/train.isnull().count()*100).sort_values(ascending=False),2)\n",
        "missing_data = pd.concat([total, percent], axis=1, keys=['Total', 'Percent'])\n",
        "missing_data.head(10)"
      ],
      "execution_count": 388,
      "outputs": [
        {
          "output_type": "execute_result",
          "data": {
            "text/html": [
              "<div>\n",
              "<style scoped>\n",
              "    .dataframe tbody tr th:only-of-type {\n",
              "        vertical-align: middle;\n",
              "    }\n",
              "\n",
              "    .dataframe tbody tr th {\n",
              "        vertical-align: top;\n",
              "    }\n",
              "\n",
              "    .dataframe thead th {\n",
              "        text-align: right;\n",
              "    }\n",
              "</style>\n",
              "<table border=\"1\" class=\"dataframe\">\n",
              "  <thead>\n",
              "    <tr style=\"text-align: right;\">\n",
              "      <th></th>\n",
              "      <th>Total</th>\n",
              "      <th>Percent</th>\n",
              "    </tr>\n",
              "  </thead>\n",
              "  <tbody>\n",
              "    <tr>\n",
              "      <th>Precipitation in millimeters</th>\n",
              "      <td>15863</td>\n",
              "      <td>97.37</td>\n",
              "    </tr>\n",
              "    <tr>\n",
              "      <th>Temperature</th>\n",
              "      <td>3360</td>\n",
              "      <td>20.62</td>\n",
              "    </tr>\n",
              "    <tr>\n",
              "      <th>No of Ratings</th>\n",
              "      <td>1</td>\n",
              "      <td>0.01</td>\n",
              "    </tr>\n",
              "    <tr>\n",
              "      <th>Confirmation - Day of Month</th>\n",
              "      <td>1</td>\n",
              "      <td>0.01</td>\n",
              "    </tr>\n",
              "    <tr>\n",
              "      <th>Arrival at Pickup - Weekday</th>\n",
              "      <td>1</td>\n",
              "      <td>0.01</td>\n",
              "    </tr>\n",
              "    <tr>\n",
              "      <th>Arrival at Pickup - Day of Month</th>\n",
              "      <td>1</td>\n",
              "      <td>0.01</td>\n",
              "    </tr>\n",
              "    <tr>\n",
              "      <th>Confirmation - Time</th>\n",
              "      <td>1</td>\n",
              "      <td>0.01</td>\n",
              "    </tr>\n",
              "    <tr>\n",
              "      <th>Confirmation - Weekday</th>\n",
              "      <td>1</td>\n",
              "      <td>0.01</td>\n",
              "    </tr>\n",
              "    <tr>\n",
              "      <th>Placement - Time</th>\n",
              "      <td>1</td>\n",
              "      <td>0.01</td>\n",
              "    </tr>\n",
              "    <tr>\n",
              "      <th>Pickup - Day of Month</th>\n",
              "      <td>1</td>\n",
              "      <td>0.01</td>\n",
              "    </tr>\n",
              "  </tbody>\n",
              "</table>\n",
              "</div>"
            ],
            "text/plain": [
              "                                  Total  Percent\n",
              "Precipitation in millimeters      15863    97.37\n",
              "Temperature                        3360    20.62\n",
              "No of Ratings                         1     0.01\n",
              "Confirmation - Day of Month           1     0.01\n",
              "Arrival at Pickup - Weekday           1     0.01\n",
              "Arrival at Pickup - Day of Month      1     0.01\n",
              "Confirmation - Time                   1     0.01\n",
              "Confirmation - Weekday                1     0.01\n",
              "Placement - Time                      1     0.01\n",
              "Pickup - Day of Month                 1     0.01"
            ]
          },
          "metadata": {
            "tags": []
          },
          "execution_count": 388
        }
      ]
    },
    {
      "cell_type": "markdown",
      "metadata": {
        "colab_type": "text",
        "id": "siVTTGM2pheW"
      },
      "source": [
        ">* Remove 'Precipitation in millimeters' column as 97.42% of the data is missing\n"
      ]
    },
    {
      "cell_type": "code",
      "metadata": {
        "colab_type": "code",
        "id": "2k5ZvyvTumIH",
        "colab": {}
      },
      "source": [
        "#drop 'Precipitation in millimeters' column\n",
        "train.drop('Precipitation in millimeters', axis=1, inplace=True)\n",
        "test.drop('Precipitation in millimeters', axis=1, inplace=True)"
      ],
      "execution_count": 0,
      "outputs": []
    },
    {
      "cell_type": "code",
      "metadata": {
        "colab_type": "code",
        "id": "IvlCAHq6vixo",
        "outputId": "e8e617e2-3b13-4c4b-a1d5-15fe0534b6a2",
        "colab": {
          "base_uri": "https://localhost:8080/",
          "height": 355
        }
      },
      "source": [
        "# create 24h time bins for when orders were placed\n",
        "train['Placement - Time(bins)']= pd.to_datetime(pd.to_datetime(train['Placement - Time']).dt.strftime('%H:%M:%S')).dt.strftime('%H')\n",
        "\n",
        "fig,axis= plt.subplots(figsize=(12,5))\n",
        "sns.boxplot(x='Placement - Time(bins)', y='Temperature', data=train, palette='CMRmap')\n",
        "plt.title('Temperature during the day', fontsize=16)\n",
        "plt.xlabel('Placement of orders in hours', fontsize=12)\n",
        "plt.ylabel('Temp in degrees celcius', fontsize=12)\n",
        "plt.show()\n"
      ],
      "execution_count": 390,
      "outputs": [
        {
          "output_type": "display_data",
          "data": {
            "image/png": "[encoded data removed]",
            "text/plain": [
              "<Figure size 864x360 with 1 Axes>"
            ]
          },
          "metadata": {
            "tags": []
          }
        }
      ]
    },
    {
      "cell_type": "code",
      "metadata": {
        "colab_type": "code",
        "id": "ppwWxDZnbr_q",
        "colab": {}
      },
      "source": [
        "#taking care of missing data\n",
        "test['Temperature'].fillna(value=train['Temperature'].mean(), inplace=True)\n",
        "train['Temperature'].fillna(value=train['Temperature'].mean(), inplace=True)\n"
      ],
      "execution_count": 0,
      "outputs": []
    },
    {
      "cell_type": "markdown",
      "metadata": {
        "colab_type": "text",
        "id": "5QQ1w47t5sYD"
      },
      "source": [
        "**Visuals**"
      ]
    },
    {
      "cell_type": "code",
      "metadata": {
        "colab_type": "code",
        "id": "wy2dyBLDQUPY",
        "outputId": "0b66111b-f6c3-413b-ce61-d738bdee4c8a",
        "colab": {
          "base_uri": "https://localhost:8080/",
          "height": 279
        }
      },
      "source": [
        "#scatter plot Distance (KM)/Time from Pickup to Arrival\n",
        "var = 'Distance (KM)'\n",
        "data = pd.concat([train['Time from Pickup to Arrival'], train[var]], axis=1)\n",
        "data.plot.scatter(x=var, y='Time from Pickup to Arrival');"
      ],
      "execution_count": 392,
      "outputs": [
        {
          "output_type": "display_data",
          "data": {
            "image/png": "[encoded data removed]",
            "text/plain": [
              "<Figure size 432x288 with 1 Axes>"
            ]
          },
          "metadata": {
            "tags": []
          }
        }
      ]
    },
    {
      "cell_type": "code",
      "metadata": {
        "colab_type": "code",
        "id": "vb__ygaiRKsJ",
        "outputId": "107bffa5-2b35-4b9d-b362-5d0ddd2080df",
        "colab": {
          "base_uri": "https://localhost:8080/",
          "height": 279
        }
      },
      "source": [
        "#scatter plot Temperature/Time from Pickup to Arrival\n",
        "var = 'Temperature'\n",
        "data = pd.concat([train['Time from Pickup to Arrival'], train[var]], axis=1)\n",
        "data.plot.scatter(x=var, y='Time from Pickup to Arrival');"
      ],
      "execution_count": 393,
      "outputs": [
        {
          "output_type": "display_data",
          "data": {
            "image/png": "[encoded data removed]",
            "text/plain": [
              "<Figure size 432x288 with 1 Axes>"
            ]
          },
          "metadata": {
            "tags": []
          }
        }
      ]
    },
    {
      "cell_type": "code",
      "metadata": {
        "colab_type": "code",
        "id": "EvGvn2RQRKaV",
        "outputId": "471da5e9-0241-40eb-e78b-4274d710e2bf",
        "colab": {
          "base_uri": "https://localhost:8080/",
          "height": 497
        }
      },
      "source": [
        "#box plot Confirmation - Day of Month/Time from Pickup to Arrival\n",
        "var = 'Confirmation - Day of Month'\n",
        "data = pd.concat([train['Time from Pickup to Arrival'], train[var]], axis=1)\n",
        "f, ax = plt.subplots(figsize=(14, 8))\n",
        "fig = sns.boxplot(x=var, y=\"Time from Pickup to Arrival\", data=data)\n",
        "fig.axis(ymin=0, yma=800000);"
      ],
      "execution_count": 394,
      "outputs": [
        {
          "output_type": "display_data",
          "data": {
            "image/png": "[encoded data removed]",
            "text/plain": [
              "<Figure size 1008x576 with 1 Axes>"
            ]
          },
          "metadata": {
            "tags": []
          }
        }
      ]
    },
    {
      "cell_type": "code",
      "metadata": {
        "colab_type": "code",
        "id": "fTwFhi4xRKW7",
        "outputId": "e4933f32-0dbe-425e-c8fc-cfdf67d24fe7",
        "colab": {
          "base_uri": "https://localhost:8080/",
          "height": 398
        }
      },
      "source": [
        "var = 'Confirmation - Weekday'\n",
        "data = pd.concat([train['Time from Pickup to Arrival'], train[var]], axis=1)\n",
        "f, ax = plt.subplots(figsize=(12, 6))\n",
        "fig = sns.boxplot(x=var, y=\"Time from Pickup to Arrival\", data=data)\n",
        "fig.axis(ymin=0, ymax=8000);\n",
        "plt.xticks(rotation=90);"
      ],
      "execution_count": 395,
      "outputs": [
        {
          "output_type": "display_data",
          "data": {
            "image/png": "[encoded data removed]",
            "text/plain": [
              "<Figure size 864x432 with 1 Axes>"
            ]
          },
          "metadata": {
            "tags": []
          }
        }
      ]
    },
    {
      "cell_type": "markdown",
      "metadata": {
        "colab_type": "text",
        "id": "m1ECBwkz_AR-"
      },
      "source": [
        "**Remove target outliers**"
      ]
    },
    {
      "cell_type": "markdown",
      "metadata": {
        "colab_type": "text",
        "id": "KD7x1KYWPElg"
      },
      "source": [
        "we can exclude outliers from 'Time from Pickup to Arrival' column based on the distance travelled."
      ]
    },
    {
      "cell_type": "code",
      "metadata": {
        "colab_type": "code",
        "id": "R30pSSKygEBL",
        "outputId": "c5c9e893-eab1-4bc6-dac5-46bcd1ab1c9e",
        "colab": {
          "base_uri": "https://localhost:8080/",
          "height": 34
        }
      },
      "source": [
        "# Identify outliers in target variable\n",
        "train['Not outlier']=(train['Distance (KM)']+30) < train['Time from Pickup to Arrival']\n",
        "print(str(len(train[train['Not outlier']==False])) + ' target outliers')"
      ],
      "execution_count": 396,
      "outputs": [
        {
          "output_type": "stream",
          "text": [
            "540 target outliers\n"
          ],
          "name": "stdout"
        }
      ]
    },
    {
      "cell_type": "code",
      "metadata": {
        "colab_type": "code",
        "id": "Wy_H33c4XpVo",
        "outputId": "c0005854-d3c3-4a4f-97b0-2c7a4475ac23",
        "colab": {
          "base_uri": "https://localhost:8080/",
          "height": 369
        }
      },
      "source": [
        "sns.lmplot(x='Time from Pickup to Arrival', y='Distance (KM)', data=train, hue='Not outlier', palette='seismic', fit_reg=False)\n",
        "plt.show()"
      ],
      "execution_count": 397,
      "outputs": [
        {
          "output_type": "display_data",
          "data": {
            "image/png": "[encoded data removed]",
            "text/plain": [
              "<Figure size 421.25x360 with 1 Axes>"
            ]
          },
          "metadata": {
            "tags": []
          }
        }
      ]
    },
    {
      "cell_type": "code",
      "metadata": {
        "colab_type": "code",
        "id": "tMx-ZFyEAI4U",
        "outputId": "90ee3c8d-d95b-44cf-b86f-8ad733f898df",
        "colab": {
          "base_uri": "https://localhost:8080/",
          "height": 350
        }
      },
      "source": [
        "# Remove outliers\n",
        "new_train= train[train['Not outlier']==True]\n",
        "fig,axis= plt.subplots(ncols=2, figsize=(15, 5))\n",
        "sns.distplot(train['Time from Pickup to Arrival'], ax=axis[0], color='green')\n",
        "sns.distplot(new_train['Time from Pickup to Arrival'], ax=axis[1], color='red')\n",
        "axis[0].set_title('Target variable with outliers', fontsize=12)\n",
        "axis[1].set_title('Target variable without outliers', fontsize=12)\n",
        "axis[0].set_xlabel('Time from Pickup to Arrival', fontsize=10)\n",
        "axis[1].set_xlabel('Time from Pickup to Arrival', fontsize=10)\n",
        "plt.show()\n",
        "\n",
        "# Remove outlier column\n",
        "train= train[train['Not outlier'] == True]\n",
        "train= train.drop(['Not outlier'], axis=1)"
      ],
      "execution_count": 398,
      "outputs": [
        {
          "output_type": "display_data",
          "data": {
            "image/png": "[encoded data removed]",
            "text/plain": [
              "<Figure size 1080x360 with 2 Axes>"
            ]
          },
          "metadata": {
            "tags": []
          }
        }
      ]
    },
    {
      "cell_type": "markdown",
      "metadata": {
        "colab_type": "text",
        "id": "zVMaAV-jHqY2"
      },
      "source": [
        "## Exploratory data analysis"
      ]
    },
    {
      "cell_type": "markdown",
      "metadata": {
        "colab_type": "text",
        "id": "AcSPW83lH83J"
      },
      "source": [
        "Data summery statistics"
      ]
    },
    {
      "cell_type": "code",
      "metadata": {
        "colab_type": "code",
        "id": "LUgja01gAInJ",
        "outputId": "560fb44a-29f5-469e-ac0d-ced8c3c9d79f",
        "colab": {
          "base_uri": "https://localhost:8080/",
          "height": 697
        }
      },
      "source": [
        "train.info()"
      ],
      "execution_count": 399,
      "outputs": [
        {
          "output_type": "stream",
          "text": [
            "<class 'pandas.core.frame.DataFrame'>\n",
            "Int64Index: 15751 entries, 0 to 16289\n",
            "Data columns (total 33 columns):\n",
            " #   Column                                 Non-Null Count  Dtype  \n",
            "---  ------                                 --------------  -----  \n",
            " 0   Order No                               15751 non-null  object \n",
            " 1   User Id                                15751 non-null  object \n",
            " 2   Vehicle Type                           15751 non-null  object \n",
            " 3   Platform Type                          15751 non-null  float64\n",
            " 4   Personal or Business                   15751 non-null  object \n",
            " 5   Placement - Day of Month               15751 non-null  float64\n",
            " 6   Placement - Weekday                    15751 non-null  float64\n",
            " 7   Placement - Time                       15751 non-null  object \n",
            " 8   Confirmation - Day of Month            15751 non-null  float64\n",
            " 9   Confirmation - Weekday                 15751 non-null  float64\n",
            " 10  Confirmation - Time                    15751 non-null  object \n",
            " 11  Arrival at Pickup - Day of Month       15751 non-null  float64\n",
            " 12  Arrival at Pickup - Weekday            15751 non-null  float64\n",
            " 13  Arrival at Pickup - Time               15751 non-null  object \n",
            " 14  Pickup - Day of Month                  15751 non-null  float64\n",
            " 15  Pickup - Weekday                       15751 non-null  float64\n",
            " 16  Pickup - Time                          15751 non-null  object \n",
            " 17  Arrival at Destination - Day of Month  15751 non-null  float64\n",
            " 18  Arrival at Destination - Weekday       15751 non-null  float64\n",
            " 19  Arrival at Destination - Time          15751 non-null  object \n",
            " 20  Distance (KM)                          15751 non-null  float64\n",
            " 21  Temperature                            15751 non-null  float64\n",
            " 22  Pickup Lat                             15751 non-null  float64\n",
            " 23  Pickup Long                            15751 non-null  float64\n",
            " 24  Destination Lat                        15751 non-null  float64\n",
            " 25  Destination Long                       15751 non-null  float64\n",
            " 26  Rider Id                               15751 non-null  object \n",
            " 27  Time from Pickup to Arrival            15751 non-null  float64\n",
            " 28  No of Orders                           15751 non-null  float64\n",
            " 29  Age                                    15751 non-null  float64\n",
            " 30  Average Rating                         15751 non-null  float64\n",
            " 31  No of Ratings                          15751 non-null  float64\n",
            " 32  Placement - Time(bins)                 15751 non-null  object \n",
            "dtypes: float64(22), object(11)\n",
            "memory usage: 4.1+ MB\n"
          ],
          "name": "stdout"
        }
      ]
    },
    {
      "cell_type": "code",
      "metadata": {
        "colab_type": "code",
        "id": "MqIZtloKIU0B",
        "outputId": "b850963d-695a-4484-d71d-aeb63edb30e9",
        "colab": {
          "base_uri": "https://localhost:8080/",
          "height": 368
        }
      },
      "source": [
        "train.describe()"
      ],
      "execution_count": 400,
      "outputs": [
        {
          "output_type": "execute_result",
          "data": {
            "text/html": [
              "<div>\n",
              "<style scoped>\n",
              "    .dataframe tbody tr th:only-of-type {\n",
              "        vertical-align: middle;\n",
              "    }\n",
              "\n",
              "    .dataframe tbody tr th {\n",
              "        vertical-align: top;\n",
              "    }\n",
              "\n",
              "    .dataframe thead th {\n",
              "        text-align: right;\n",
              "    }\n",
              "</style>\n",
              "<table border=\"1\" class=\"dataframe\">\n",
              "  <thead>\n",
              "    <tr style=\"text-align: right;\">\n",
              "      <th></th>\n",
              "      <th>Platform Type</th>\n",
              "      <th>Placement - Day of Month</th>\n",
              "      <th>Placement - Weekday</th>\n",
              "      <th>Confirmation - Day of Month</th>\n",
              "      <th>Confirmation - Weekday</th>\n",
              "      <th>Arrival at Pickup - Day of Month</th>\n",
              "      <th>Arrival at Pickup - Weekday</th>\n",
              "      <th>Pickup - Day of Month</th>\n",
              "      <th>Pickup - Weekday</th>\n",
              "      <th>Arrival at Destination - Day of Month</th>\n",
              "      <th>Arrival at Destination - Weekday</th>\n",
              "      <th>Distance (KM)</th>\n",
              "      <th>Temperature</th>\n",
              "      <th>Pickup Lat</th>\n",
              "      <th>Pickup Long</th>\n",
              "      <th>Destination Lat</th>\n",
              "      <th>Destination Long</th>\n",
              "      <th>Time from Pickup to Arrival</th>\n",
              "      <th>No of Orders</th>\n",
              "      <th>Age</th>\n",
              "      <th>Average Rating</th>\n",
              "      <th>No of Ratings</th>\n",
              "    </tr>\n",
              "  </thead>\n",
              "  <tbody>\n",
              "    <tr>\n",
              "      <th>count</th>\n",
              "      <td>15751.000000</td>\n",
              "      <td>15751.000000</td>\n",
              "      <td>15751.000000</td>\n",
              "      <td>15751.000000</td>\n",
              "      <td>15751.000000</td>\n",
              "      <td>15751.000000</td>\n",
              "      <td>15751.000000</td>\n",
              "      <td>15751.000000</td>\n",
              "      <td>15751.000000</td>\n",
              "      <td>15751.000000</td>\n",
              "      <td>15751.000000</td>\n",
              "      <td>15751.000000</td>\n",
              "      <td>15751.000000</td>\n",
              "      <td>15751.000000</td>\n",
              "      <td>15751.000000</td>\n",
              "      <td>15751.000000</td>\n",
              "      <td>15751.000000</td>\n",
              "      <td>15751.000000</td>\n",
              "      <td>15751.000000</td>\n",
              "      <td>15751.000000</td>\n",
              "      <td>15751.000000</td>\n",
              "      <td>15751.000000</td>\n",
              "    </tr>\n",
              "    <tr>\n",
              "      <th>mean</th>\n",
              "      <td>2.742683</td>\n",
              "      <td>15.565424</td>\n",
              "      <td>3.245381</td>\n",
              "      <td>15.565615</td>\n",
              "      <td>3.245572</td>\n",
              "      <td>15.565615</td>\n",
              "      <td>3.245572</td>\n",
              "      <td>15.565615</td>\n",
              "      <td>3.245572</td>\n",
              "      <td>15.565615</td>\n",
              "      <td>3.245572</td>\n",
              "      <td>9.630055</td>\n",
              "      <td>23.241436</td>\n",
              "      <td>-1.281550</td>\n",
              "      <td>36.811158</td>\n",
              "      <td>-1.282831</td>\n",
              "      <td>36.811130</td>\n",
              "      <td>1614.655641</td>\n",
              "      <td>1641.905974</td>\n",
              "      <td>973.930290</td>\n",
              "      <td>13.891823</td>\n",
              "      <td>338.966351</td>\n",
              "    </tr>\n",
              "    <tr>\n",
              "      <th>std</th>\n",
              "      <td>0.635465</td>\n",
              "      <td>8.829325</td>\n",
              "      <td>1.576264</td>\n",
              "      <td>8.829287</td>\n",
              "      <td>1.576174</td>\n",
              "      <td>8.829287</td>\n",
              "      <td>1.576174</td>\n",
              "      <td>8.829287</td>\n",
              "      <td>1.576174</td>\n",
              "      <td>8.829287</td>\n",
              "      <td>1.576174</td>\n",
              "      <td>5.685667</td>\n",
              "      <td>3.228744</td>\n",
              "      <td>0.030518</td>\n",
              "      <td>0.037867</td>\n",
              "      <td>0.035297</td>\n",
              "      <td>0.045190</td>\n",
              "      <td>964.910264</td>\n",
              "      <td>1495.354460</td>\n",
              "      <td>637.042083</td>\n",
              "      <td>0.899500</td>\n",
              "      <td>401.534180</td>\n",
              "    </tr>\n",
              "    <tr>\n",
              "      <th>min</th>\n",
              "      <td>1.000000</td>\n",
              "      <td>1.000000</td>\n",
              "      <td>1.000000</td>\n",
              "      <td>1.000000</td>\n",
              "      <td>1.000000</td>\n",
              "      <td>1.000000</td>\n",
              "      <td>1.000000</td>\n",
              "      <td>1.000000</td>\n",
              "      <td>1.000000</td>\n",
              "      <td>1.000000</td>\n",
              "      <td>1.000000</td>\n",
              "      <td>1.000000</td>\n",
              "      <td>13.200000</td>\n",
              "      <td>-1.438302</td>\n",
              "      <td>36.653621</td>\n",
              "      <td>-1.430298</td>\n",
              "      <td>36.606594</td>\n",
              "      <td>33.000000</td>\n",
              "      <td>2.000000</td>\n",
              "      <td>96.000000</td>\n",
              "      <td>0.000000</td>\n",
              "      <td>0.000000</td>\n",
              "    </tr>\n",
              "    <tr>\n",
              "      <th>25%</th>\n",
              "      <td>3.000000</td>\n",
              "      <td>8.000000</td>\n",
              "      <td>2.000000</td>\n",
              "      <td>8.000000</td>\n",
              "      <td>2.000000</td>\n",
              "      <td>8.000000</td>\n",
              "      <td>2.000000</td>\n",
              "      <td>8.000000</td>\n",
              "      <td>2.000000</td>\n",
              "      <td>8.000000</td>\n",
              "      <td>2.000000</td>\n",
              "      <td>5.000000</td>\n",
              "      <td>21.300000</td>\n",
              "      <td>-1.300921</td>\n",
              "      <td>36.783795</td>\n",
              "      <td>-1.301448</td>\n",
              "      <td>36.785019</td>\n",
              "      <td>930.000000</td>\n",
              "      <td>557.000000</td>\n",
              "      <td>495.000000</td>\n",
              "      <td>13.700000</td>\n",
              "      <td>61.000000</td>\n",
              "    </tr>\n",
              "    <tr>\n",
              "      <th>50%</th>\n",
              "      <td>3.000000</td>\n",
              "      <td>15.000000</td>\n",
              "      <td>3.000000</td>\n",
              "      <td>15.000000</td>\n",
              "      <td>3.000000</td>\n",
              "      <td>15.000000</td>\n",
              "      <td>3.000000</td>\n",
              "      <td>15.000000</td>\n",
              "      <td>3.000000</td>\n",
              "      <td>15.000000</td>\n",
              "      <td>3.000000</td>\n",
              "      <td>8.000000</td>\n",
              "      <td>23.274194</td>\n",
              "      <td>-1.279395</td>\n",
              "      <td>36.806837</td>\n",
              "      <td>-1.284877</td>\n",
              "      <td>36.807974</td>\n",
              "      <td>1410.000000</td>\n",
              "      <td>1209.000000</td>\n",
              "      <td>872.000000</td>\n",
              "      <td>14.000000</td>\n",
              "      <td>158.000000</td>\n",
              "    </tr>\n",
              "    <tr>\n",
              "      <th>75%</th>\n",
              "      <td>3.000000</td>\n",
              "      <td>23.000000</td>\n",
              "      <td>5.000000</td>\n",
              "      <td>23.000000</td>\n",
              "      <td>5.000000</td>\n",
              "      <td>23.000000</td>\n",
              "      <td>5.000000</td>\n",
              "      <td>23.000000</td>\n",
              "      <td>5.000000</td>\n",
              "      <td>23.000000</td>\n",
              "      <td>5.000000</td>\n",
              "      <td>13.000000</td>\n",
              "      <td>25.300000</td>\n",
              "      <td>-1.257147</td>\n",
              "      <td>36.829243</td>\n",
              "      <td>-1.261093</td>\n",
              "      <td>36.829019</td>\n",
              "      <td>2071.000000</td>\n",
              "      <td>2273.000000</td>\n",
              "      <td>1218.000000</td>\n",
              "      <td>14.300000</td>\n",
              "      <td>501.000000</td>\n",
              "    </tr>\n",
              "    <tr>\n",
              "      <th>max</th>\n",
              "      <td>4.000000</td>\n",
              "      <td>31.000000</td>\n",
              "      <td>7.000000</td>\n",
              "      <td>31.000000</td>\n",
              "      <td>7.000000</td>\n",
              "      <td>31.000000</td>\n",
              "      <td>7.000000</td>\n",
              "      <td>31.000000</td>\n",
              "      <td>7.000000</td>\n",
              "      <td>31.000000</td>\n",
              "      <td>7.000000</td>\n",
              "      <td>49.000000</td>\n",
              "      <td>32.100000</td>\n",
              "      <td>-1.147170</td>\n",
              "      <td>36.991046</td>\n",
              "      <td>-1.030225</td>\n",
              "      <td>37.016779</td>\n",
              "      <td>7883.000000</td>\n",
              "      <td>9756.000000</td>\n",
              "      <td>3764.000000</td>\n",
              "      <td>15.200000</td>\n",
              "      <td>2298.000000</td>\n",
              "    </tr>\n",
              "  </tbody>\n",
              "</table>\n",
              "</div>"
            ],
            "text/plain": [
              "       Platform Type  Placement - Day of Month  ...  Average Rating  No of Ratings\n",
              "count   15751.000000              15751.000000  ...    15751.000000   15751.000000\n",
              "mean        2.742683                 15.565424  ...       13.891823     338.966351\n",
              "std         0.635465                  8.829325  ...        0.899500     401.534180\n",
              "min         1.000000                  1.000000  ...        0.000000       0.000000\n",
              "25%         3.000000                  8.000000  ...       13.700000      61.000000\n",
              "50%         3.000000                 15.000000  ...       14.000000     158.000000\n",
              "75%         3.000000                 23.000000  ...       14.300000     501.000000\n",
              "max         4.000000                 31.000000  ...       15.200000    2298.000000\n",
              "\n",
              "[8 rows x 22 columns]"
            ]
          },
          "metadata": {
            "tags": []
          },
          "execution_count": 400
        }
      ]
    },
    {
      "cell_type": "markdown",
      "metadata": {
        "colab_type": "text",
        "id": "Dzdrj2PiKW7a"
      },
      "source": [
        "Single variable data\n",
        ">* Platform Type\n",
        ">* Customer Type(Personal or Business)\n",
        ">* Orders and Deliveries Per Weekday\n",
        ">* Orders and Deliveries Per Day of the Month\n",
        ">* Distance from Pickup to Destination"
      ]
    },
    {
      "cell_type": "code",
      "metadata": {
        "colab_type": "code",
        "id": "gYqHLiShI0iV",
        "outputId": "0b748350-d32e-4e03-9bc3-08c62421e969",
        "colab": {
          "base_uri": "https://localhost:8080/",
          "height": 402
        }
      },
      "source": [
        "# Platform Type\n",
        "fig, axis= plt.subplots(figsize=(8, 6))\n",
        "ax_PT= sns.countplot(x='Platform Type', data=train, palette='CMRmap')\n",
        "plt.title('No. of order per platform type', fontsize=10)\n",
        "plt.xlabel('Platform Type', fontsize=10)\n",
        "plt.ylabel('No. of orders', fontsize=10)\n",
        "plt.show()"
      ],
      "execution_count": 401,
      "outputs": [
        {
          "output_type": "display_data",
          "data": {
            "image/png": "[encoded data removed]",
            "text/plain": [
              "<Figure size 576x432 with 1 Axes>"
            ]
          },
          "metadata": {
            "tags": []
          }
        }
      ]
    },
    {
      "cell_type": "code",
      "metadata": {
        "colab_type": "code",
        "id": "62WzNQV3Q3-F",
        "outputId": "73315c01-97ab-45c6-f106-f276e6c944a9",
        "colab": {
          "base_uri": "https://localhost:8080/",
          "height": 404
        }
      },
      "source": [
        "# Customer Type(Personal or Business)\n",
        "fig, axis= plt.subplots(figsize=(8, 6))\n",
        "ax_PT= sns.countplot(x='Personal or Business', data=train, palette='CMRmap')\n",
        "plt.title('No. of order per platform type', fontsize=12)\n",
        "plt.xlabel('Customer Type', fontsize=10)\n",
        "plt.ylabel('No. of orders', fontsize=10)\n",
        "plt.show()"
      ],
      "execution_count": 402,
      "outputs": [
        {
          "output_type": "display_data",
          "data": {
            "image/png": "[encoded data removed]",
            "text/plain": [
              "<Figure size 576x432 with 1 Axes>"
            ]
          },
          "metadata": {
            "tags": []
          }
        }
      ]
    },
    {
      "cell_type": "code",
      "metadata": {
        "colab_type": "code",
        "id": "STO1wuNKU5iE",
        "outputId": "40a1c7d8-6c0f-49cb-98c3-9bbcb4b1768a",
        "colab": {
          "base_uri": "https://localhost:8080/",
          "height": 404
        }
      },
      "source": [
        "# Orders and Deliveries Per Weekday\n",
        "fig,axis= plt.subplots(ncols=2, figsize=(14, 6))\n",
        "sns.countplot(x='Placement - Weekday', data=train, palette='CMRmap', ax=axis[0])\n",
        "sns.countplot(x='Pickup - Weekday', data=train, palette='CMRmap', ax=axis[1])\n",
        "axis[0].set_title('No. of orders per weekday', fontsize=12)\n",
        "axis[1].set_title('No. of deliveries per weekday', fontsize=12)\n",
        "axis[0].set_xlabel('Weekday order was placed', fontsize=10)\n",
        "axis[1].set_xlabel('Weekday order was picked up', fontsize=10)\n",
        "axis[0].set_ylabel('No. of orders', fontsize=10)\n",
        "axis[1].set_ylabel('No. of deliveries', fontsize=10)\n",
        "plt.show()"
      ],
      "execution_count": 403,
      "outputs": [
        {
          "output_type": "display_data",
          "data": {
            "image/png": "[encoded data removed]",
            "text/plain": [
              "<Figure size 1008x432 with 2 Axes>"
            ]
          },
          "metadata": {
            "tags": []
          }
        }
      ]
    },
    {
      "cell_type": "code",
      "metadata": {
        "colab_type": "code",
        "id": "M5LEw0RQboYo",
        "outputId": "82dd4683-c867-4b63-9e81-5e847575a72c",
        "colab": {
          "base_uri": "https://localhost:8080/",
          "height": 404
        }
      },
      "source": [
        "# Orders and Deliveries Per Day of the Month\n",
        "fig,axis= plt.subplots(ncols=2, figsize=(14, 6))\n",
        "sns.countplot(x='Placement - Day of Month', data=train, palette='CMRmap', ax=axis[0])\n",
        "sns.countplot(x='Pickup - Day of Month', data=train, palette='CMRmap', ax=axis[1])\n",
        "axis[0].set_title('No. of orders per month day', fontsize=12)\n",
        "axis[1].set_title('No. of deliveries per month day', fontsize=12)\n",
        "axis[0].set_xlabel('Month day order was placed', fontsize=10)\n",
        "axis[1].set_xlabel('Month day order was picked up', fontsize=10)\n",
        "axis[0].set_ylabel('No. of orders', fontsize=10)\n",
        "axis[1].set_ylabel('No. of deliveries', fontsize=10)\n",
        "plt.show()"
      ],
      "execution_count": 404,
      "outputs": [
        {
          "output_type": "display_data",
          "data": {
            "image/png": "[encoded data removed]",
            "text/plain": [
              "<Figure size 1008x432 with 2 Axes>"
            ]
          },
          "metadata": {
            "tags": []
          }
        }
      ]
    },
    {
      "cell_type": "code",
      "metadata": {
        "colab_type": "code",
        "id": "5_7BfX_mbnve",
        "outputId": "9c4a2c66-20fa-41a8-ca24-299d12a602c2",
        "colab": {
          "base_uri": "https://localhost:8080/",
          "height": 404
        }
      },
      "source": [
        "# Distance from Pickup to Destination\n",
        "fig, axis= plt.subplots(figsize=(8, 6))\n",
        "sns.distplot(train['Distance (KM)'], bins=25, color='green')\n",
        "plt.title('Distance from pickup to destination(KM)', fontsize=12)\n",
        "plt.xlabel('Distance (KM)', fontsize=10)\n",
        "plt.ylabel('Speed', fontsize=10)\n",
        "plt.show()"
      ],
      "execution_count": 405,
      "outputs": [
        {
          "output_type": "display_data",
          "data": {
            "image/png": "[encoded data removed]",
            "text/plain": [
              "<Figure size 576x432 with 1 Axes>"
            ]
          },
          "metadata": {
            "tags": []
          }
        }
      ]
    },
    {
      "cell_type": "markdown",
      "metadata": {
        "colab_type": "text",
        "id": "-ZCgorRbfmpG"
      },
      "source": [
        "## **Data preprocessing**"
      ]
    },
    {
      "cell_type": "markdown",
      "metadata": {
        "colab_type": "text",
        "id": "a8AftCiVrgEl"
      },
      "source": [
        "**ENCODING CATEGORICAL DATA**"
      ]
    },
    {
      "cell_type": "markdown",
      "metadata": {
        "colab_type": "text",
        "id": "gwb1ap_1rvRz"
      },
      "source": [
        "Encoding the Independent Variable"
      ]
    },
    {
      "cell_type": "code",
      "metadata": {
        "colab_type": "code",
        "id": "khES8Nienpk2",
        "colab": {}
      },
      "source": [
        "#train = pd.get_dummies(train, columns=['Personal or Business'], drop_first=True)\n",
        "#train = pd.get_dummies(train, columns=['Platform Type'], drop_first=True)\n",
        "#train.head()"
      ],
      "execution_count": 0,
      "outputs": []
    },
    {
      "cell_type": "code",
      "metadata": {
        "colab_type": "code",
        "id": "2mL58DjykFYq",
        "colab": {}
      },
      "source": [
        "# Number of times in seconds\n",
        "def time_in_seconds_train(column):\n",
        "    train[column]= pd.to_datetime(train[column])\n",
        "    return (train[column] - pd.to_datetime(pd.to_datetime('today').date())).astype('timedelta64[s]')\n",
        "\n",
        "# converting time in dataset\n",
        "train['Placement - Time']= time_in_seconds_train('Placement - Time')\n",
        "train['Confirmation - Time']= time_in_seconds_train('Confirmation - Time')\n",
        "train['Pickup - Time']= time_in_seconds_train('Pickup - Time')\n",
        "train['Arrival at Pickup - Time']= time_in_seconds_train('Arrival at Pickup - Time')\n",
        "train['Arrival at Destination - Time']= time_in_seconds_train('Arrival at Destination - Time')"
      ],
      "execution_count": 0,
      "outputs": []
    },
    {
      "cell_type": "code",
      "metadata": {
        "id": "vLy35Nq7_azW",
        "colab_type": "code",
        "outputId": "f2303360-35ef-4400-ad4f-29837c2d1d4e",
        "colab": {
          "base_uri": "https://localhost:8080/",
          "height": 119
        }
      },
      "source": [
        "# Checking how many unique items are in each column of independent variables\n",
        "for col_name in train.columns:\n",
        "  if train[col_name].dtypes == 'object':\n",
        "    unique_out= len(train[col_name].unique())\n",
        "    print(f\"Feature '{col_name}' has {unique_out} unique catergories\")"
      ],
      "execution_count": 408,
      "outputs": [
        {
          "output_type": "stream",
          "text": [
            "Feature 'Order No' has 15751 unique catergories\n",
            "Feature 'User Id' has 2718 unique catergories\n",
            "Feature 'Vehicle Type' has 1 unique catergories\n",
            "Feature 'Personal or Business' has 2 unique catergories\n",
            "Feature 'Rider Id' has 901 unique catergories\n",
            "Feature 'Placement - Time(bins)' has 16 unique catergories\n"
          ],
          "name": "stdout"
        }
      ]
    },
    {
      "cell_type": "code",
      "metadata": {
        "id": "N-QU3G2AmWbl",
        "colab_type": "code",
        "colab": {}
      },
      "source": [
        "# Number of times in seconds for test\n",
        "def time_in_seconds_test(column):\n",
        "    test[column]= pd.to_datetime(test[column])\n",
        "    return (test[column] - pd.to_datetime(pd.to_datetime('today').date())).astype('timedelta64[s]')\n",
        "\n",
        "# Converting time in testset\n",
        "test['Placement - Time']= time_in_seconds_test('Placement - Time')\n",
        "test['Confirmation - Time']= time_in_seconds_test('Confirmation - Time')\n",
        "test['Pickup - Time']= time_in_seconds_test('Pickup - Time')\n",
        "test['Arrival at Pickup - Time']= time_in_seconds_test('Arrival at Pickup - Time')"
      ],
      "execution_count": 0,
      "outputs": []
    },
    {
      "cell_type": "code",
      "metadata": {
        "id": "T5Xo9_T_nLgf",
        "colab_type": "code",
        "colab": {
          "base_uri": "https://localhost:8080/",
          "height": 102
        },
        "outputId": "ef05aeb1-cd7e-4aa1-ebee-875f4433e8f8"
      },
      "source": [
        "# Checking how many unique items are in each column of independent variables\n",
        "for col_name in test.columns:\n",
        "  if test[col_name].dtypes == 'object':\n",
        "    unique_out= len(test[col_name].unique())\n",
        "    print(f\"Feature '{col_name}' has {unique_out} unique catergories\")"
      ],
      "execution_count": 410,
      "outputs": [
        {
          "output_type": "stream",
          "text": [
            "Feature 'Order No' has 7068 unique catergories\n",
            "Feature 'User Id' has 1617 unique catergories\n",
            "Feature 'Vehicle Type' has 1 unique catergories\n",
            "Feature 'Personal or Business' has 2 unique catergories\n",
            "Feature 'Rider Id' has 822 unique catergories\n"
          ],
          "name": "stdout"
        }
      ]
    },
    {
      "cell_type": "code",
      "metadata": {
        "id": "EG_reAqWJBC5",
        "colab_type": "code",
        "outputId": "0cdad3e6-2252-4caf-b038-494203a925c2",
        "colab": {
          "base_uri": "https://localhost:8080/",
          "height": 309
        }
      },
      "source": [
        "# Drop useless columns\n",
        "train= train.drop(['Order No', 'User Id', 'Vehicle Type', 'Rider Id', 'Placement - Time(bins)'], axis=1)\n",
        "\n",
        "# Rearrange columns\n",
        "column_titles= [col for col in train.columns if col != 'Time from Pickup to Arrival'] + ['Time from Pickup to Arrival']\n",
        "train= train.reindex(columns=column_titles)\n",
        "train.head()"
      ],
      "execution_count": 411,
      "outputs": [
        {
          "output_type": "execute_result",
          "data": {
            "text/html": [
              "<div>\n",
              "<style scoped>\n",
              "    .dataframe tbody tr th:only-of-type {\n",
              "        vertical-align: middle;\n",
              "    }\n",
              "\n",
              "    .dataframe tbody tr th {\n",
              "        vertical-align: top;\n",
              "    }\n",
              "\n",
              "    .dataframe thead th {\n",
              "        text-align: right;\n",
              "    }\n",
              "</style>\n",
              "<table border=\"1\" class=\"dataframe\">\n",
              "  <thead>\n",
              "    <tr style=\"text-align: right;\">\n",
              "      <th></th>\n",
              "      <th>Platform Type</th>\n",
              "      <th>Personal or Business</th>\n",
              "      <th>Placement - Day of Month</th>\n",
              "      <th>Placement - Weekday</th>\n",
              "      <th>Placement - Time</th>\n",
              "      <th>Confirmation - Day of Month</th>\n",
              "      <th>Confirmation - Weekday</th>\n",
              "      <th>Confirmation - Time</th>\n",
              "      <th>Arrival at Pickup - Day of Month</th>\n",
              "      <th>Arrival at Pickup - Weekday</th>\n",
              "      <th>Arrival at Pickup - Time</th>\n",
              "      <th>Pickup - Day of Month</th>\n",
              "      <th>Pickup - Weekday</th>\n",
              "      <th>Pickup - Time</th>\n",
              "      <th>Arrival at Destination - Day of Month</th>\n",
              "      <th>Arrival at Destination - Weekday</th>\n",
              "      <th>Arrival at Destination - Time</th>\n",
              "      <th>Distance (KM)</th>\n",
              "      <th>Temperature</th>\n",
              "      <th>Pickup Lat</th>\n",
              "      <th>Pickup Long</th>\n",
              "      <th>Destination Lat</th>\n",
              "      <th>Destination Long</th>\n",
              "      <th>No of Orders</th>\n",
              "      <th>Age</th>\n",
              "      <th>Average Rating</th>\n",
              "      <th>No of Ratings</th>\n",
              "      <th>Time from Pickup to Arrival</th>\n",
              "    </tr>\n",
              "  </thead>\n",
              "  <tbody>\n",
              "    <tr>\n",
              "      <th>0</th>\n",
              "      <td>3.0</td>\n",
              "      <td>Business</td>\n",
              "      <td>9.0</td>\n",
              "      <td>5.0</td>\n",
              "      <td>34546.0</td>\n",
              "      <td>9.0</td>\n",
              "      <td>5.0</td>\n",
              "      <td>34810.0</td>\n",
              "      <td>9.0</td>\n",
              "      <td>5.0</td>\n",
              "      <td>36287.0</td>\n",
              "      <td>9.0</td>\n",
              "      <td>5.0</td>\n",
              "      <td>37650.0</td>\n",
              "      <td>9.0</td>\n",
              "      <td>5.0</td>\n",
              "      <td>38395.0</td>\n",
              "      <td>4.0</td>\n",
              "      <td>20.400000</td>\n",
              "      <td>-1.317755</td>\n",
              "      <td>36.830370</td>\n",
              "      <td>-1.300406</td>\n",
              "      <td>36.829741</td>\n",
              "      <td>1637.0</td>\n",
              "      <td>1309.0</td>\n",
              "      <td>13.8</td>\n",
              "      <td>549.0</td>\n",
              "      <td>745.0</td>\n",
              "    </tr>\n",
              "    <tr>\n",
              "      <th>1</th>\n",
              "      <td>3.0</td>\n",
              "      <td>Personal</td>\n",
              "      <td>12.0</td>\n",
              "      <td>5.0</td>\n",
              "      <td>40576.0</td>\n",
              "      <td>12.0</td>\n",
              "      <td>5.0</td>\n",
              "      <td>41001.0</td>\n",
              "      <td>12.0</td>\n",
              "      <td>5.0</td>\n",
              "      <td>42022.0</td>\n",
              "      <td>12.0</td>\n",
              "      <td>5.0</td>\n",
              "      <td>42249.0</td>\n",
              "      <td>12.0</td>\n",
              "      <td>5.0</td>\n",
              "      <td>44242.0</td>\n",
              "      <td>16.0</td>\n",
              "      <td>26.400000</td>\n",
              "      <td>-1.351453</td>\n",
              "      <td>36.899315</td>\n",
              "      <td>-1.295004</td>\n",
              "      <td>36.814358</td>\n",
              "      <td>396.0</td>\n",
              "      <td>339.0</td>\n",
              "      <td>13.6</td>\n",
              "      <td>69.0</td>\n",
              "      <td>1993.0</td>\n",
              "    </tr>\n",
              "    <tr>\n",
              "      <th>2</th>\n",
              "      <td>3.0</td>\n",
              "      <td>Business</td>\n",
              "      <td>30.0</td>\n",
              "      <td>2.0</td>\n",
              "      <td>45565.0</td>\n",
              "      <td>30.0</td>\n",
              "      <td>2.0</td>\n",
              "      <td>45764.0</td>\n",
              "      <td>30.0</td>\n",
              "      <td>2.0</td>\n",
              "      <td>46174.0</td>\n",
              "      <td>30.0</td>\n",
              "      <td>2.0</td>\n",
              "      <td>46383.0</td>\n",
              "      <td>30.0</td>\n",
              "      <td>2.0</td>\n",
              "      <td>46838.0</td>\n",
              "      <td>3.0</td>\n",
              "      <td>23.274194</td>\n",
              "      <td>-1.308284</td>\n",
              "      <td>36.843419</td>\n",
              "      <td>-1.300921</td>\n",
              "      <td>36.828195</td>\n",
              "      <td>1023.0</td>\n",
              "      <td>242.0</td>\n",
              "      <td>12.5</td>\n",
              "      <td>114.0</td>\n",
              "      <td>455.0</td>\n",
              "    </tr>\n",
              "    <tr>\n",
              "      <th>3</th>\n",
              "      <td>3.0</td>\n",
              "      <td>Business</td>\n",
              "      <td>15.0</td>\n",
              "      <td>5.0</td>\n",
              "      <td>33934.0</td>\n",
              "      <td>15.0</td>\n",
              "      <td>5.0</td>\n",
              "      <td>33965.0</td>\n",
              "      <td>15.0</td>\n",
              "      <td>5.0</td>\n",
              "      <td>34676.0</td>\n",
              "      <td>15.0</td>\n",
              "      <td>5.0</td>\n",
              "      <td>34986.0</td>\n",
              "      <td>15.0</td>\n",
              "      <td>5.0</td>\n",
              "      <td>36327.0</td>\n",
              "      <td>9.0</td>\n",
              "      <td>19.200000</td>\n",
              "      <td>-1.281301</td>\n",
              "      <td>36.832396</td>\n",
              "      <td>-1.257147</td>\n",
              "      <td>36.795063</td>\n",
              "      <td>886.0</td>\n",
              "      <td>283.0</td>\n",
              "      <td>14.5</td>\n",
              "      <td>113.0</td>\n",
              "      <td>1341.0</td>\n",
              "    </tr>\n",
              "    <tr>\n",
              "      <th>4</th>\n",
              "      <td>1.0</td>\n",
              "      <td>Personal</td>\n",
              "      <td>13.0</td>\n",
              "      <td>1.0</td>\n",
              "      <td>35718.0</td>\n",
              "      <td>13.0</td>\n",
              "      <td>1.0</td>\n",
              "      <td>35778.0</td>\n",
              "      <td>13.0</td>\n",
              "      <td>1.0</td>\n",
              "      <td>36233.0</td>\n",
              "      <td>13.0</td>\n",
              "      <td>1.0</td>\n",
              "      <td>36323.0</td>\n",
              "      <td>13.0</td>\n",
              "      <td>1.0</td>\n",
              "      <td>37537.0</td>\n",
              "      <td>9.0</td>\n",
              "      <td>15.400000</td>\n",
              "      <td>-1.266597</td>\n",
              "      <td>36.792118</td>\n",
              "      <td>-1.295041</td>\n",
              "      <td>36.809817</td>\n",
              "      <td>2311.0</td>\n",
              "      <td>872.0</td>\n",
              "      <td>14.1</td>\n",
              "      <td>533.0</td>\n",
              "      <td>1214.0</td>\n",
              "    </tr>\n",
              "  </tbody>\n",
              "</table>\n",
              "</div>"
            ],
            "text/plain": [
              "   Platform Type  ... Time from Pickup to Arrival\n",
              "0            3.0  ...                       745.0\n",
              "1            3.0  ...                      1993.0\n",
              "2            3.0  ...                       455.0\n",
              "3            3.0  ...                      1341.0\n",
              "4            1.0  ...                      1214.0\n",
              "\n",
              "[5 rows x 28 columns]"
            ]
          },
          "metadata": {
            "tags": []
          },
          "execution_count": 411
        }
      ]
    },
    {
      "cell_type": "code",
      "metadata": {
        "id": "spFER_l-ok8c",
        "colab_type": "code",
        "colab": {
          "base_uri": "https://localhost:8080/",
          "height": 204
        },
        "outputId": "38e29b11-0df6-4fa2-9215-5960d4bec3f5"
      },
      "source": [
        "test.columns"
      ],
      "execution_count": 412,
      "outputs": [
        {
          "output_type": "execute_result",
          "data": {
            "text/plain": [
              "Index(['Order No', 'User Id', 'Vehicle Type', 'Platform Type',\n",
              "       'Personal or Business', 'Placement - Day of Month',\n",
              "       'Placement - Weekday', 'Placement - Time',\n",
              "       'Confirmation - Day of Month', 'Confirmation - Weekday',\n",
              "       'Confirmation - Time', 'Arrival at Pickup - Day of Month',\n",
              "       'Arrival at Pickup - Weekday', 'Arrival at Pickup - Time',\n",
              "       'Pickup - Day of Month', 'Pickup - Weekday', 'Pickup - Time',\n",
              "       'Distance (KM)', 'Temperature', 'Pickup Lat', 'Pickup Long',\n",
              "       'Destination Lat', 'Destination Long', 'Rider Id', 'No of Orders',\n",
              "       'Age', 'Average Rating', 'No of Ratings'],\n",
              "      dtype='object')"
            ]
          },
          "metadata": {
            "tags": []
          },
          "execution_count": 412
        }
      ]
    },
    {
      "cell_type": "code",
      "metadata": {
        "id": "mNdKPySynx9v",
        "colab_type": "code",
        "colab": {}
      },
      "source": [
        "# Drop useless columns in test\n",
        "#test= test.drop(['Order No', 'User Id', 'Vehicle Type', 'Rider Id', 'Placement - Time'], axis=1)\n",
        "\n",
        "# Rearrange columns\n",
        "#column_titles= list(test.columns)\n",
        "#y= train.iloc[:, -1].values\n",
        "#train= train.reindex(columns=column_titles)\n"
      ],
      "execution_count": 0,
      "outputs": []
    },
    {
      "cell_type": "markdown",
      "metadata": {
        "colab_type": "text",
        "id": "07CBNBvI7sru"
      },
      "source": [
        "Encoding the Dependent Variable"
      ]
    },
    {
      "cell_type": "code",
      "metadata": {
        "id": "ua1R5a1eOBex",
        "colab_type": "code",
        "colab": {}
      },
      "source": [
        "# Create metrix of features \n",
        "#X= train.iloc[:, :-1].values\n",
        "#y= train.iloc[:, -1].values\n",
        "\n",
        "# Encode categorival data\n",
        "#le= LabelEncoder()\n",
        "#X[:, 1]= le.fit_transform(X[:, 1])\n",
        "\n",
        "#ct= ColumnTransformer(transformers=[('encoder', OneHotEncoder(), [0])], remainder='passthrough')\n",
        "#X= np.array(ct.fit_transform(X))\n",
        "#print(X)"
      ],
      "execution_count": 0,
      "outputs": []
    },
    {
      "cell_type": "code",
      "metadata": {
        "colab_type": "code",
        "id": "miWZYl-c7RwY",
        "colab": {
          "base_uri": "https://localhost:8080/",
          "height": 34
        },
        "outputId": "9613ed91-8be1-4eb9-c0bc-d5fca0a8e2c6"
      },
      "source": [
        "print(y)"
      ],
      "execution_count": 415,
      "outputs": [
        {
          "output_type": "stream",
          "text": [
            "[ 745. 1993.  455. ...  804. 1202.  337.]\n"
          ],
          "name": "stdout"
        }
      ]
    },
    {
      "cell_type": "markdown",
      "metadata": {
        "colab_type": "text",
        "id": "OFj-VRg-CGol"
      },
      "source": [
        "**Feature Scaling**"
      ]
    },
    {
      "cell_type": "code",
      "metadata": {
        "id": "enWXLLqaPZ4x",
        "colab_type": "code",
        "colab": {
          "base_uri": "https://localhost:8080/",
          "height": 34
        },
        "outputId": "dbd4eff0-aabc-41ea-90e9-1c23964bfd6e"
      },
      "source": [
        "train.isnull().any().all()"
      ],
      "execution_count": 417,
      "outputs": [
        {
          "output_type": "execute_result",
          "data": {
            "text/plain": [
              "False"
            ]
          },
          "metadata": {
            "tags": []
          },
          "execution_count": 417
        }
      ]
    },
    {
      "cell_type": "code",
      "metadata": {
        "colab_type": "code",
        "id": "FDS3FZon-_S9",
        "colab": {}
      },
      "source": [
        "#sc_X= StandardScaler()\n",
        "#X_train[:,5:]= sc_X.fit_transform(X_train[:,5:])\n",
        "#X_test[:,5:]= sc_X.transform(X_test[:,5:])"
      ],
      "execution_count": 0,
      "outputs": []
    },
    {
      "cell_type": "markdown",
      "metadata": {
        "id": "LrWIM3OBcaJh",
        "colab_type": "text"
      },
      "source": [
        "# **3. Fit model**"
      ]
    },
    {
      "cell_type": "code",
      "metadata": {
        "id": "gXGNz4ilhfUs",
        "colab_type": "code",
        "colab": {
          "base_uri": "https://localhost:8080/",
          "height": 204
        },
        "outputId": "147bf2f1-d2f1-4e1d-c6fa-2538b7e77cc6"
      },
      "source": [
        "train_df = train[['Distance (KM)', 'Time from Pickup to Arrival']]\n",
        "test_df = test[['Distance (KM)']]\n",
        "train_df.head()"
      ],
      "execution_count": 442,
      "outputs": [
        {
          "output_type": "execute_result",
          "data": {
            "text/html": [
              "<div>\n",
              "<style scoped>\n",
              "    .dataframe tbody tr th:only-of-type {\n",
              "        vertical-align: middle;\n",
              "    }\n",
              "\n",
              "    .dataframe tbody tr th {\n",
              "        vertical-align: top;\n",
              "    }\n",
              "\n",
              "    .dataframe thead th {\n",
              "        text-align: right;\n",
              "    }\n",
              "</style>\n",
              "<table border=\"1\" class=\"dataframe\">\n",
              "  <thead>\n",
              "    <tr style=\"text-align: right;\">\n",
              "      <th></th>\n",
              "      <th>Distance (KM)</th>\n",
              "      <th>Time from Pickup to Arrival</th>\n",
              "    </tr>\n",
              "  </thead>\n",
              "  <tbody>\n",
              "    <tr>\n",
              "      <th>0</th>\n",
              "      <td>4.0</td>\n",
              "      <td>745.0</td>\n",
              "    </tr>\n",
              "    <tr>\n",
              "      <th>1</th>\n",
              "      <td>16.0</td>\n",
              "      <td>1993.0</td>\n",
              "    </tr>\n",
              "    <tr>\n",
              "      <th>2</th>\n",
              "      <td>3.0</td>\n",
              "      <td>455.0</td>\n",
              "    </tr>\n",
              "    <tr>\n",
              "      <th>3</th>\n",
              "      <td>9.0</td>\n",
              "      <td>1341.0</td>\n",
              "    </tr>\n",
              "    <tr>\n",
              "      <th>4</th>\n",
              "      <td>9.0</td>\n",
              "      <td>1214.0</td>\n",
              "    </tr>\n",
              "  </tbody>\n",
              "</table>\n",
              "</div>"
            ],
            "text/plain": [
              "   Distance (KM)  Time from Pickup to Arrival\n",
              "0            4.0                        745.0\n",
              "1           16.0                       1993.0\n",
              "2            3.0                        455.0\n",
              "3            9.0                       1341.0\n",
              "4            9.0                       1214.0"
            ]
          },
          "metadata": {
            "tags": []
          },
          "execution_count": 442
        }
      ]
    },
    {
      "cell_type": "markdown",
      "metadata": {
        "colab_type": "text",
        "id": "7qNjkTjq-tdj"
      },
      "source": [
        "**Splitting the dataset into the Training set and Test set**"
      ]
    },
    {
      "cell_type": "code",
      "metadata": {
        "colab_type": "code",
        "id": "vfQ2tRMgjIOu",
        "colab": {}
      },
      "source": [
        "X_train, X_test, y_train, y_test= train_test_split(train_df[['Distance (KM)']], train_df[['Time from Pickup to Arrival']], test_size = 0.2, random_state = 1)"
      ],
      "execution_count": 0,
      "outputs": []
    },
    {
      "cell_type": "code",
      "metadata": {
        "id": "VxhDv41Phwj-",
        "colab_type": "code",
        "colab": {
          "base_uri": "https://localhost:8080/",
          "height": 309
        },
        "outputId": "7c3e2b5f-b910-4122-f1ed-6862981064d6"
      },
      "source": [
        "test.head()"
      ],
      "execution_count": 423,
      "outputs": [
        {
          "output_type": "execute_result",
          "data": {
            "text/html": [
              "<div>\n",
              "<style scoped>\n",
              "    .dataframe tbody tr th:only-of-type {\n",
              "        vertical-align: middle;\n",
              "    }\n",
              "\n",
              "    .dataframe tbody tr th {\n",
              "        vertical-align: top;\n",
              "    }\n",
              "\n",
              "    .dataframe thead th {\n",
              "        text-align: right;\n",
              "    }\n",
              "</style>\n",
              "<table border=\"1\" class=\"dataframe\">\n",
              "  <thead>\n",
              "    <tr style=\"text-align: right;\">\n",
              "      <th></th>\n",
              "      <th>Order No</th>\n",
              "      <th>User Id</th>\n",
              "      <th>Vehicle Type</th>\n",
              "      <th>Platform Type</th>\n",
              "      <th>Personal or Business</th>\n",
              "      <th>Placement - Day of Month</th>\n",
              "      <th>Placement - Weekday</th>\n",
              "      <th>Placement - Time</th>\n",
              "      <th>Confirmation - Day of Month</th>\n",
              "      <th>Confirmation - Weekday</th>\n",
              "      <th>Confirmation - Time</th>\n",
              "      <th>Arrival at Pickup - Day of Month</th>\n",
              "      <th>Arrival at Pickup - Weekday</th>\n",
              "      <th>Arrival at Pickup - Time</th>\n",
              "      <th>Pickup - Day of Month</th>\n",
              "      <th>Pickup - Weekday</th>\n",
              "      <th>Pickup - Time</th>\n",
              "      <th>Distance (KM)</th>\n",
              "      <th>Temperature</th>\n",
              "      <th>Pickup Lat</th>\n",
              "      <th>Pickup Long</th>\n",
              "      <th>Destination Lat</th>\n",
              "      <th>Destination Long</th>\n",
              "      <th>Rider Id</th>\n",
              "      <th>No of Orders</th>\n",
              "      <th>Age</th>\n",
              "      <th>Average Rating</th>\n",
              "      <th>No of Ratings</th>\n",
              "    </tr>\n",
              "  </thead>\n",
              "  <tbody>\n",
              "    <tr>\n",
              "      <th>0</th>\n",
              "      <td>Order_No_19248</td>\n",
              "      <td>User_Id_3355</td>\n",
              "      <td>Bike</td>\n",
              "      <td>3</td>\n",
              "      <td>Business</td>\n",
              "      <td>27</td>\n",
              "      <td>3</td>\n",
              "      <td>60250.0</td>\n",
              "      <td>27</td>\n",
              "      <td>3</td>\n",
              "      <td>60269.0</td>\n",
              "      <td>27</td>\n",
              "      <td>3</td>\n",
              "      <td>60784.0</td>\n",
              "      <td>27</td>\n",
              "      <td>3</td>\n",
              "      <td>61607.0</td>\n",
              "      <td>8</td>\n",
              "      <td>23.274194</td>\n",
              "      <td>-1.333275</td>\n",
              "      <td>36.870815</td>\n",
              "      <td>-1.305249</td>\n",
              "      <td>36.822390</td>\n",
              "      <td>Rider_Id_192</td>\n",
              "      <td>439</td>\n",
              "      <td>1511</td>\n",
              "      <td>13.3</td>\n",
              "      <td>171</td>\n",
              "    </tr>\n",
              "    <tr>\n",
              "      <th>1</th>\n",
              "      <td>Order_No_12736</td>\n",
              "      <td>User_Id_3647</td>\n",
              "      <td>Bike</td>\n",
              "      <td>3</td>\n",
              "      <td>Business</td>\n",
              "      <td>17</td>\n",
              "      <td>5</td>\n",
              "      <td>46655.0</td>\n",
              "      <td>17</td>\n",
              "      <td>5</td>\n",
              "      <td>46757.0</td>\n",
              "      <td>17</td>\n",
              "      <td>5</td>\n",
              "      <td>48027.0</td>\n",
              "      <td>17</td>\n",
              "      <td>5</td>\n",
              "      <td>48337.0</td>\n",
              "      <td>5</td>\n",
              "      <td>23.274194</td>\n",
              "      <td>-1.272639</td>\n",
              "      <td>36.794723</td>\n",
              "      <td>-1.277007</td>\n",
              "      <td>36.823907</td>\n",
              "      <td>Rider_Id_868</td>\n",
              "      <td>488</td>\n",
              "      <td>273</td>\n",
              "      <td>14.4</td>\n",
              "      <td>45</td>\n",
              "    </tr>\n",
              "    <tr>\n",
              "      <th>2</th>\n",
              "      <td>Order_No_768</td>\n",
              "      <td>User_Id_2154</td>\n",
              "      <td>Bike</td>\n",
              "      <td>3</td>\n",
              "      <td>Business</td>\n",
              "      <td>27</td>\n",
              "      <td>4</td>\n",
              "      <td>40094.0</td>\n",
              "      <td>27</td>\n",
              "      <td>4</td>\n",
              "      <td>41105.0</td>\n",
              "      <td>27</td>\n",
              "      <td>4</td>\n",
              "      <td>41600.0</td>\n",
              "      <td>27</td>\n",
              "      <td>4</td>\n",
              "      <td>43074.0</td>\n",
              "      <td>5</td>\n",
              "      <td>22.800000</td>\n",
              "      <td>-1.290894</td>\n",
              "      <td>36.822971</td>\n",
              "      <td>-1.276574</td>\n",
              "      <td>36.851365</td>\n",
              "      <td>Rider_Id_26</td>\n",
              "      <td>833</td>\n",
              "      <td>460</td>\n",
              "      <td>13.1</td>\n",
              "      <td>67</td>\n",
              "    </tr>\n",
              "    <tr>\n",
              "      <th>3</th>\n",
              "      <td>Order_No_15332</td>\n",
              "      <td>User_Id_2910</td>\n",
              "      <td>Bike</td>\n",
              "      <td>3</td>\n",
              "      <td>Business</td>\n",
              "      <td>17</td>\n",
              "      <td>1</td>\n",
              "      <td>49895.0</td>\n",
              "      <td>17</td>\n",
              "      <td>1</td>\n",
              "      <td>50007.0</td>\n",
              "      <td>17</td>\n",
              "      <td>1</td>\n",
              "      <td>50561.0</td>\n",
              "      <td>17</td>\n",
              "      <td>1</td>\n",
              "      <td>51412.0</td>\n",
              "      <td>5</td>\n",
              "      <td>24.500000</td>\n",
              "      <td>-1.290503</td>\n",
              "      <td>36.809646</td>\n",
              "      <td>-1.303382</td>\n",
              "      <td>36.790658</td>\n",
              "      <td>Rider_Id_685</td>\n",
              "      <td>487</td>\n",
              "      <td>560</td>\n",
              "      <td>13.7</td>\n",
              "      <td>44</td>\n",
              "    </tr>\n",
              "    <tr>\n",
              "      <th>4</th>\n",
              "      <td>Order_No_21373</td>\n",
              "      <td>User_Id_1205</td>\n",
              "      <td>Bike</td>\n",
              "      <td>3</td>\n",
              "      <td>Business</td>\n",
              "      <td>11</td>\n",
              "      <td>2</td>\n",
              "      <td>41428.0</td>\n",
              "      <td>11</td>\n",
              "      <td>2</td>\n",
              "      <td>41685.0</td>\n",
              "      <td>11</td>\n",
              "      <td>2</td>\n",
              "      <td>42439.0</td>\n",
              "      <td>11</td>\n",
              "      <td>2</td>\n",
              "      <td>42964.0</td>\n",
              "      <td>6</td>\n",
              "      <td>24.400000</td>\n",
              "      <td>-1.281081</td>\n",
              "      <td>36.814423</td>\n",
              "      <td>-1.266467</td>\n",
              "      <td>36.792161</td>\n",
              "      <td>Rider_Id_858</td>\n",
              "      <td>4761</td>\n",
              "      <td>1120</td>\n",
              "      <td>14.1</td>\n",
              "      <td>1010</td>\n",
              "    </tr>\n",
              "  </tbody>\n",
              "</table>\n",
              "</div>"
            ],
            "text/plain": [
              "         Order No       User Id  ... Average Rating  No of Ratings\n",
              "0  Order_No_19248  User_Id_3355  ...           13.3            171\n",
              "1  Order_No_12736  User_Id_3647  ...           14.4             45\n",
              "2    Order_No_768  User_Id_2154  ...           13.1             67\n",
              "3  Order_No_15332  User_Id_2910  ...           13.7             44\n",
              "4  Order_No_21373  User_Id_1205  ...           14.1           1010\n",
              "\n",
              "[5 rows x 28 columns]"
            ]
          },
          "metadata": {
            "tags": []
          },
          "execution_count": 423
        }
      ]
    },
    {
      "cell_type": "code",
      "metadata": {
        "id": "hKzwcE8JcOZW",
        "colab_type": "code",
        "colab": {
          "base_uri": "https://localhost:8080/",
          "height": 34
        },
        "outputId": "d201b0e6-e38d-40b7-a773-62465e64d104"
      },
      "source": [
        "X = train_df[['Distance (KM)']]\n",
        "#y = train_df[['Time from Pickup to Arrival']]\n",
        "lr_model = LinearRegression()\n",
        "lr_model.fit(X_train, y_train)\n",
        "y_pred = lr_model.predict(X_test)\n",
        "results = np.sqrt(mse(y_test, y_pred))\n",
        "results"
      ],
      "execution_count": 444,
      "outputs": [
        {
          "output_type": "execute_result",
          "data": {
            "text/plain": [
              "788.1486757287727"
            ]
          },
          "metadata": {
            "tags": []
          },
          "execution_count": 444
        }
      ]
    },
    {
      "cell_type": "markdown",
      "metadata": {
        "id": "7JxJg_1rdlLG",
        "colab_type": "text"
      },
      "source": [
        "# **4. Perfomance evaluation**"
      ]
    },
    {
      "cell_type": "code",
      "metadata": {
        "id": "U0up2Hb2dVt-",
        "colab_type": "code",
        "colab": {}
      },
      "source": [
        "final_pred = lr_model.predict(test_df)\n",
        "submission = pd.read_csv('SampleSubmission.csv')\n",
        "submission.head()\n",
        "final_pred[3:]\n",
        "for row in range(3, len(submission)):\n",
        "    submission.loc[row,'Time from Pickup to Arrival'] = final_pred[row:][0][0]\n",
        "submission.head(10)\n",
        "submission.to_csv('linear_model.csv', index=False)"
      ],
      "execution_count": 0,
      "outputs": []
    },
    {
      "cell_type": "markdown",
      "metadata": {
        "colab_type": "text",
        "id": "GwBRAmveCpzT"
      },
      "source": [
        "# **5. Model analysis**"
      ]
    },
    {
      "cell_type": "markdown",
      "metadata": {
        "id": "Oh6EhswCeiWO",
        "colab_type": "text"
      },
      "source": [
        "## Conclusion"
      ]
    }
  ]
}